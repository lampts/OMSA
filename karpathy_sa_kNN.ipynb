{
 "metadata": {
  "name": "tm_lec3"
 }, 
 "name": "tm_lec3", 
 "nbformat": 2, 
 "worksheets": [
  {
   "cells": [
    {
     "cell_type": "code", 
     "collapsed": true, 
     "input": "\"\"\"\nsentiment analysis: common ways in ML are: n-grams, stemming, stop words, wordnet and part of speech.\nthis tut is about k-nearest neighbor classification: vector space model with tf-idf and cosine distance\n\"\"\"\n# import module here\n# using 79 char-wide ruler\n#234567891123456789212345678931234567894123456789512345678961234567897123456789\nimport os\nimport re", 
     "language": "python", 
     "outputs": [], 
     "prompt_number": 34
    }, 
    {
     "cell_type": "code", 
     "collapsed": false, 
     "input": "cd \"C:\\Users\\Administrator\\SkyDrive\\Carsten\\textmining_lesson3\"", 
     "language": "python", 
     "outputs": [
      {
       "output_type": "stream", 
       "stream": "stdout", 
       "text": "C:\\Users\\Administrator\\SkyDrive\\Carsten\\textmining_lesson3"
      }
     ], 
     "prompt_number": 14
    }, 
    {
     "cell_type": "code", 
     "collapsed": true, 
     "input": "# improvement\n# n-gram: to deal with idiom, sarcasm, internet slang like: knock your socks off, FTW: for the win\n# http://www.internetslang.com/FTW-meaning-definition.asp\n# stemming: liked,liking, like -> like\n# stop words: about, above\n# WordNet: movie : noun, wonderful: adjective to find synonyms\n# Part of speech tagging: to extract the part of sentence\n\n# kNN algorithm: k-nearest neighbor\n# IDEA: Find most similar sentence in training set, compare and look up for k closest bag of words\n# E.g.: it's rather like a lifetime special -- pleasant , sweet and forgettable\n# the most similar: i liked this movie . made for a pleasant evening \n# processing pipeline\n# 1. input: a surprisingly funny movie\n# 2. tokenizing: [a, surprsingly, funny, movie, enigma]\n# 3. cleaning up/removing stop words: [surprsingly, funny, movie]\n# 4. stemming: [surprisingli,funni, movi]\n# 5. comparing: [funni,movi, i, recommend, it], [enigma, funni, movi]\n# 6. scoring: funni: 0.1 of all reviews, movi: 0.7, enigma: 0.001 => 1/0.1 + 1/0.7 = 11.43\n# 7. squasher using log: score = log(1000) + log(10) + log(1.43) = 4.15\n# 8. sanity check: if word occurs in all reviews: log(1/1) = 0 => no contributor\n# 9. finally, get top k(e.g. 5) scored review ", 
     "language": "python", 
     "outputs": [], 
     "prompt_number": 2
    }, 
    {
     "cell_type": "code", 
     "collapsed": false, 
     "input": "from math import log, sqrt\nfrom porter import PorterStemmer", 
     "language": "python", 
     "outputs": [], 
     "prompt_number": 15
    }, 
    {
     "cell_type": "code", 
     "collapsed": true, 
     "input": "# read relevant data into respective lists\nposlines = open(r'rt-polarity.pos','r').read().splitlines()\nneglines = open(r'rt-polarity.neg','r').read().splitlines()\nstopwords = open(r'stopwords.txt','r').read().splitlines()", 
     "language": "python", 
     "outputs": [], 
     "prompt_number": 16
    }, 
    {
     "cell_type": "code", 
     "collapsed": true, 
     "input": "# take N = 4800 items for training, remaining for validation\nN = 4800\nposlinesTrain = poslines[:N]\nneglinesTrain = neglines[:N]\nposlinesTest = poslines[N:]\nneglinesTest = neglines[N:]", 
     "language": "python", 
     "outputs": [], 
     "prompt_number": 17
    }, 
    {
     "cell_type": "code", 
     "collapsed": true, 
     "input": "# transforming list of pos/neg => (sentence,label)\ntrainset = [(x,1) for x in poslinesTrain] + [(x,-1) for x in neglinesTrain]\ntestset = [(x,1) for x in poslinesTest] + [(x,-1) for x in neglinesTest]", 
     "language": "python", 
     "outputs": [], 
     "prompt_number": 18
    }, 
    {
     "cell_type": "code", 
     "collapsed": true, 
     "input": "# initialize the stemmer object for stemming later on\nstemmer = PorterStemmer()", 
     "language": "python", 
     "outputs": [], 
     "prompt_number": 19
    }, 
    {
     "cell_type": "code", 
     "collapsed": true, 
     "input": "def getwords(sentence):\n    \"\"\" returns important words from a sentence as list\"\"\"\n    w = sentence.split()\n    # remove all things that are 2 or 2 chars(punctuation), not good for twitter like <3\n    w = [x for x in w if len(x) > 2]\n    # get rid of all stop words\n    w = [x for x in w if not x in stopwords]\n    # stem each word\n    w = [stemmer.stem(x,0,len(x)-1) for x in w ]\n    # add bigrams\n    w = w + [w[i] + ' ' + w[i+1] for i in range(len(w)-1)]\n    \n    # get rid of duplicates by converting to set and back to list\n    w = list(set(w))\n    return w", 
     "language": "python", 
     "outputs": [], 
     "prompt_number": 24
    }, 
    {
     "cell_type": "code", 
     "collapsed": false, 
     "input": "# compute frequency of every word in train set. Common words to count for less using reverse.\n# Build an array of processed words called trainfeatures\nfreq = {}\ntrainfeatures = []\n\nfor line,label in trainset:\n    words = getwords(line)\n    for word in words:\n        freq[word] = freq.get(word,0)+1\n    trainfeatures.append((words,label))\n# evaluate the test set\n\nNtr = len(trainset)\nwrong = 0\nfor line,label in testset:\n    testwords = getwords(line)\n    # to score distances to all train reviews in this list as tuples\n    # of (score,label) then sort by score and look at the labels\n    results = []\n    for trainwords,trainlabel in trainfeatures:\n        # find all words in common between 2 sentences\n        commonwords = [x for x in trainwords if x in testwords]\n        # accumulate score for all overlaps. common words count for less\n        # by dividing by their frequency. Squashes using log function\n        score = 0.0\n        for word in commonwords:\n            score += log(Ntr/freq[word])\n        results.append((score,trainlabel))\n    # sort all similarities by their score, descending\n    results.sort(reverse=True)\n    \n    # look at top 5 results and do a majority vote, e.g. 5-NN classifier\n    toplab = [x[1] for x in results[:5]]\n    numones = toplab.count(1)# count post\n    numnegones = toplab.count(-1)\n    prediction = 1\n    if numnegones > numones: prediction = -1\n    if prediction!=label:\n        wrong += 1\n        print 'ERROR: %s #1=%d #-1=%d' % (line, numones, numnegones)\n    else:\n        print 'CORRECT: %s #1=%d #-1=%d' % (line, numones,numnegones)\n\n# print error rate\nprint 'error rate is %f' % (1.0*wrong/len(testset))\n            \n    ", 
     "language": "python", 
     "outputs": [
      {
       "output_type": "stream", 
       "stream": "stdout", 
       "text": "ERROR: it&apos;s like a &quot; big chill &quot; reunion of the baader-meinhof gang , only these guys are more harmless pranksters than political activists .  #1=2 #-1=3\nERROR: the story gives ample opportunity for large-scale action and suspense , which director shekhar kapur supplies with tremendous skill .  #1=2 #-1=3"
      }, 
      {
       "output_type": "stream", 
       "stream": "stdout", 
       "text": "\nCORRECT: red dragon &quot; never cuts corners .  #1=5 #-1=0"
      }, 
      {
       "output_type": "stream", 
       "stream": "stdout", 
       "text": "\nCORRECT: fresnadillo has something serious to say about the ways in which extravagant chance can distort our perspective and throw us off the path of good sense .  #1=3 #-1=2"
      }, 
      {
       "output_type": "stream", 
       "stream": "stdout", 
       "text": "\nCORRECT: throws in enough clever and unexpected twists to make the formula feel fresh .  #1=4 #-1=1"
      }, 
      {
       "output_type": "stream", 
       "stream": "stdout", 
       "text": "\nCORRECT: weighty and ponderous but every bit as filling as the treat of the title .  #1=5 #-1=0"
      }, 
      {
       "output_type": "stream", 
       "stream": "stdout", 
       "text": "\nCORRECT: a real audience-pleaser that will strike a chord with anyone who&apos;s ever waited in a doctor&apos;s office , emergency room , hospital bed or insurance company office .  #1=4 #-1=1"
      }, 
      {
       "output_type": "stream", 
       "stream": "stdout", 
       "text": "\nERROR: generates an enormous feeling of empathy for its characters .  #1=2 #-1=3"
      }, 
      {
       "output_type": "stream", 
       "stream": "stdout", 
       "text": "\nCORRECT: exposing the ways we fool ourselves is one hour photo&apos;s real strength .  #1=3 #-1=2"
      }, 
      {
       "output_type": "stream", 
       "stream": "stdout", 
       "text": "\nCORRECT: it&apos;s up to you to decide whether to admire these people&apos;s dedication to their cause or be repelled by their dogmatism , manipulativeness and narrow , fearful view of american life .  #1=4 #-1=1"
      }, 
      {
       "output_type": "stream", 
       "stream": "stdout", 
       "text": "\nERROR: mostly , [goldbacher] just lets her complicated characters be unruly , confusing and , through it all , human .  #1=2 #-1=3"
      }, 
      {
       "output_type": "stream", 
       "stream": "stdout", 
       "text": "\nERROR:  . . . quite good at providing some good old fashioned spooks .  #1=2 #-1=3"
      }, 
      {
       "output_type": "stream", 
       "stream": "stdout", 
       "text": "\nERROR: at its worst , the movie is pretty diverting ; the pity is that it rarely achieves its best .  #1=1 #-1=4"
      }, 
      {
       "output_type": "stream", 
       "stream": "stdout", 
       "text": "\nCORRECT: scherfig&apos;s light-hearted profile of emotional desperation is achingly honest and delightfully cheeky .  #1=5 #-1=0"
      }, 
      {
       "output_type": "stream", 
       "stream": "stdout", 
       "text": "\nCORRECT: a journey spanning nearly three decades of bittersweet camaraderie and history , in which we feel that we truly know what makes holly and marina tick , and our hearts go out to them as both continue to negotiate their imperfect , love-hate relationship .  #1=3 #-1=2"
      }, 
      {
       "output_type": "stream", 
       "stream": "stdout", 
       "text": "\nCORRECT: the wonderfully lush morvern callar is pure punk existentialism , and ms . ramsay and her co-writer , liana dognini , have dramatized the alan warner novel , which itself felt like an answer to irvine welsh&apos;s book trainspotting .  #1=4 #-1=1"
      }, 
      {
       "output_type": "stream", 
       "stream": "stdout", 
       "text": "\nCORRECT: as it turns out , you can go home again .  #1=4 #-1=1"
      }, 
      {
       "output_type": "stream", 
       "stream": "stdout", 
       "text": "\nERROR: you&apos;ve already seen city by the sea under a variety of titles , but it&apos;s worth yet another visit .  #1=1 #-1=4"
      }, 
      {
       "output_type": "stream", 
       "stream": "stdout", 
       "text": "\nCORRECT: this kind of hands-on storytelling is ultimately what makes shanghai ghetto move beyond a good , dry , reliable textbook and what allows it to rank with its worthy predecessors .  #1=4 #-1=1"
      }, 
      {
       "output_type": "stream", 
       "stream": "stdout", 
       "text": "\nCORRECT: making such a tragedy the backdrop to a love story risks trivializing it , though chouraqui no doubt intended the film to affirm love&apos;s power to help people endure almost unimaginable horror .  #1=3 #-1=2"
      }, 
      {
       "output_type": "stream", 
       "stream": "stdout", 
       "text": "\nERROR: grown-up quibbles are beside the point here . the little girls understand , and mccracken knows that&apos;s all that matters .  #1=1 #-1=4"
      }, 
      {
       "output_type": "stream", 
       "stream": "stdout", 
       "text": "\nCORRECT: a powerful , chilling , and affecting study of one man&apos;s dying fall .  #1=5 #-1=0"
      }, 
      {
       "output_type": "stream", 
       "stream": "stdout", 
       "text": "\nERROR: this is a fascinating film because there is no clear-cut hero and no all-out villain .  #1=2 #-1=3"
      }, 
      {
       "output_type": "stream", 
       "stream": "stdout", 
       "text": "\nERROR: a dreadful day in irish history is given passionate , if somewhat flawed , treatment .  #1=2 #-1=3"
      }, 
      {
       "output_type": "stream", 
       "stream": "stdout", 
       "text": "\nCORRECT:  . . . a good film that must have baffled the folks in the marketing department .  #1=3 #-1=2"
      }, 
      {
       "output_type": "stream", 
       "stream": "stdout", 
       "text": "\nCORRECT:  . . . is funny in the way that makes you ache with sadness ( the way chekhov is funny ) , profound without ever being self-important , warm without ever succumbing to sentimentality .  #1=4 #-1=1"
      }, 
      {
       "output_type": "stream", 
       "stream": "stdout", 
       "text": "\nERROR: devotees of star trek ii : the wrath of khan will feel a nagging sense of deja vu , and the grandeur of the best next generation episodes is lacking .  #1=2 #-1=3"
      }, 
      {
       "output_type": "stream", 
       "stream": "stdout", 
       "text": "\nCORRECT: a soul-stirring documentary about the israeli/palestinian conflict as revealed through the eyes of some children who remain curious about each other against all odds .  #1=5 #-1=0"
      }, 
      {
       "output_type": "stream", 
       "stream": "stdout", 
       "text": "\nCORRECT: what&apos;s so striking about jolie&apos;s performance is that she never lets her character become a caricature -- not even with that radioactive hair .  #1=3 #-1=2"
      }, 
      {
       "output_type": "stream", 
       "stream": "stdout", 
       "text": "\nCORRECT: the main story . . . is compelling enough , but it&apos;s difficult to shrug off the annoyance of that chatty fish .  #1=3 #-1=2"
      }, 
      {
       "output_type": "stream", 
       "stream": "stdout", 
       "text": "\nCORRECT: the performances are immaculate , with roussillon providing comic relief .  #1=4 #-1=1"
      }, 
      {
       "output_type": "stream", 
       "stream": "stdout", 
       "text": "\nCORRECT: kinnear . . . gives his best screen performance with an oddly winning portrayal of one of life&apos;s ultimate losers .  #1=5 #-1=0"
      }, 
      {
       "output_type": "stream", 
       "stream": "stdout", 
       "text": "\nCORRECT: hugh grant , who has a good line in charm , has never been more charming than in about a boy .  #1=3 #-1=2"
      }, 
      {
       "output_type": "stream", 
       "stream": "stdout", 
       "text": "\nCORRECT: there&apos;s a lot of tooth in roger dodger . but what&apos;s nice is that there&apos;s a casual intelligence that permeates the script .  #1=3 #-1=2"
      }, 
      {
       "output_type": "stream", 
       "stream": "stdout", 
       "text": "\nERROR: reminiscent of alfred hitchcock&apos;s thrillers , most of the scary parts in &apos;signs&apos; occur while waiting for things to happen .  #1=1 #-1=4"
      }, 
      {
       "output_type": "stream", 
       "stream": "stdout", 
       "text": "\nCORRECT: one of the best looking and stylish animated movies in quite a while . . .  #1=3 #-1=2"
      }, 
      {
       "output_type": "stream", 
       "stream": "stdout", 
       "text": "\nCORRECT: its use of the thriller form to examine the labyrinthine ways in which people&apos;s lives cross and change , buffeted by events seemingly out of their control , is intriguing , provocative stuff .  #1=4 #-1=1"
      }, 
      {
       "output_type": "stream", 
       "stream": "stdout", 
       "text": "\nCORRECT: denver should not get the first and last look at one of the most triumphant performances of vanessa redgrave&apos;s career . it deserves to be seen everywhere .  #1=4 #-1=1"
      }, 
      {
       "output_type": "stream", 
       "stream": "stdout", 
       "text": "\nCORRECT: you needn&apos;t be steeped in &apos;50s sociology , pop culture or movie lore to appreciate the emotional depth of haynes&apos; work . though haynes&apos; style apes films from the period . . . its message is not rooted in that decade .  #1=3 #-1=2"
      }, 
      {
       "output_type": "stream", 
       "stream": "stdout", 
       "text": "\nERROR: waiting for godard can be fruitful : &apos;in praise of love&apos; is the director&apos;s epitaph for himself .  #1=1 #-1=4"
      }, 
      {
       "output_type": "stream", 
       "stream": "stdout", 
       "text": "\nERROR: a gangster movie with the capacity to surprise .  #1=1 #-1=4"
      }, 
      {
       "output_type": "stream", 
       "stream": "stdout", 
       "text": "\nCORRECT: the film has a laundry list of minor shortcomings , but the numerous scenes of gory mayhem are worth the price of admission . . . if &quot; gory mayhem &quot; is your idea of a good time .  #1=3 #-1=2"
      }, 
      {
       "output_type": "stream", 
       "stream": "stdout", 
       "text": "\nCORRECT: if not a home run , then at least a solid base hit .  #1=3 #-1=2"
      }, 
      {
       "output_type": "stream", 
       "stream": "stdout", 
       "text": "\nERROR: goldmember is funny enough to justify the embarrassment of bringing a barf bag to the moviehouse .  #1=1 #-1=4"
      }, 
      {
       "output_type": "stream", 
       "stream": "stdout", 
       "text": "\nCORRECT:  . . . a fairly disposable yet still entertaining b picture .  #1=4 #-1=1"
      }, 
      {
       "output_type": "stream", 
       "stream": "stdout", 
       "text": "\nCORRECT: it may not be particularly innovative , but the film&apos;s crisp , unaffected style and air of gentle longing make it unexpectedly rewarding .  #1=3 #-1=2"
      }, 
      {
       "output_type": "stream", 
       "stream": "stdout", 
       "text": "\nCORRECT: the film truly does rescue [the funk brothers] from motown&apos;s shadows . it&apos;s about time .  #1=3 #-1=2"
      }, 
      {
       "output_type": "stream", 
       "stream": "stdout", 
       "text": "\nCORRECT: drawing on an irresistible , languid romanticism , byler reveals the ways in which a sultry evening or a beer-fueled afternoon in the sun can inspire even the most retiring heart to venture forth .  #1=4 #-1=1"
      }, 
      {
       "output_type": "stream", 
       "stream": "stdout", 
       "text": "\nCORRECT: works because we&apos;re never sure if ohlinger&apos;s on the level or merely a dying , delusional man trying to get into the history books before he croaks .  #1=3 #-1=2"
      }, 
      {
       "output_type": "stream", 
       "stream": "stdout", 
       "text": "\nCORRECT: [scherfig] has made a movie that will leave you wondering about the characters&apos; lives after the clever credits roll .  #1=5 #-1=0"
      }, 
      {
       "output_type": "stream", 
       "stream": "stdout", 
       "text": "\nCORRECT: a heady , biting , be-bop ride through nighttime manhattan , a loquacious videologue of the modern male and the lengths to which he&apos;ll go to weave a protective cocoon around his own ego .  #1=3 #-1=2"
      }, 
      {
       "output_type": "stream", 
       "stream": "stdout", 
       "text": "\nCORRECT: skin of man gets a few cheap shocks from its kids-in-peril theatrics , but it also taps into the primal fears of young people trying to cope with the mysterious and brutal nature of adults .  #1=4 #-1=1"
      }, 
      {
       "output_type": "stream", 
       "stream": "stdout", 
       "text": "\nCORRECT: the piano teacher is not an easy film . it forces you to watch people doing unpleasant things to each other and themselves , and it maintains a cool distance from its material that is deliberately unsettling .  #1=4 #-1=1"
      }, 
      {
       "output_type": "stream", 
       "stream": "stdout", 
       "text": "\nCORRECT: as refreshing as a drink from a woodland stream .  #1=3 #-1=2"
      }, 
      {
       "output_type": "stream", 
       "stream": "stdout", 
       "text": "\nCORRECT: williams absolutely nails sy&apos;s queasy infatuation and overall strangeness .  #1=3 #-1=2"
      }, 
      {
       "output_type": "stream", 
       "stream": "stdout", 
       "text": "\nCORRECT: can i admit xxx is as deep as a petri dish and as well-characterized as a telephone book but still say it was a guilty pleasure ?  #1=3 #-1=2"
      }, 
      {
       "output_type": "stream", 
       "stream": "stdout", 
       "text": "\nERROR: while it&apos;s nothing we haven&apos;t seen before from murphy , i spy is still fun and enjoyable and so aggressively silly that it&apos;s more than a worthwhile effort .  #1=2 #-1=3"
      }, 
      {
       "output_type": "stream", 
       "stream": "stdout", 
       "text": "\nCORRECT: by the time it ends in a rush of sequins , flashbulbs , blaring brass and back-stabbing babes , it has said plenty about how show business has infiltrated every corner of society -- and not always for the better .  #1=4 #-1=1"
      }, 
      {
       "output_type": "stream", 
       "stream": "stdout", 
       "text": "\nCORRECT: an intimate contemplation of two marvelously messy lives .  #1=5 #-1=0"
      }, 
      {
       "output_type": "stream", 
       "stream": "stdout", 
       "text": "\nERROR: rarely has skin looked as beautiful , desirable , even delectable , as it does in trouble every day .  #1=1 #-1=4"
      }, 
      {
       "output_type": "stream", 
       "stream": "stdout", 
       "text": "\nCORRECT: this is one of those rare docs that paints a grand picture of an era and makes the journey feel like a party .  #1=3 #-1=2"
      }, 
      {
       "output_type": "stream", 
       "stream": "stdout", 
       "text": "\nCORRECT: poignant if familiar story of a young person suspended between two cultures .  #1=5 #-1=0"
      }, 
      {
       "output_type": "stream", 
       "stream": "stdout", 
       "text": "\nCORRECT: a metaphor for a modern-day urban china searching for its identity .  #1=3 #-1=2"
      }, 
      {
       "output_type": "stream", 
       "stream": "stdout", 
       "text": "\nCORRECT: for all its brooding quality , ash wednesday is suspenseful and ultimately unpredictable , with a sterling ensemble cast .  #1=4 #-1=1"
      }, 
      {
       "output_type": "stream", 
       "stream": "stdout", 
       "text": "\nCORRECT: an odd drama set in the world of lingerie models and bar dancers in the midwest that held my interest precisely because it didn&apos;t try to .  #1=4 #-1=1"
      }, 
      {
       "output_type": "stream", 
       "stream": "stdout", 
       "text": "\nCORRECT: the film feels uncomfortably real , its language and locations bearing the unmistakable stamp of authority .  #1=3 #-1=2"
      }, 
      {
       "output_type": "stream", 
       "stream": "stdout", 
       "text": "\nERROR: despite its faults , gangs excels in spectacle and pacing .  #1=2 #-1=3"
      }, 
      {
       "output_type": "stream", 
       "stream": "stdout", 
       "text": "\nCORRECT: entertaining despite its one-joke premise with the thesis that women from venus and men from mars can indeed get together .  #1=5 #-1=0"
      }, 
      {
       "output_type": "stream", 
       "stream": "stdout", 
       "text": "\nCORRECT: a tightly directed , highly professional film that&apos;s old-fashioned in all the best possible ways .  #1=3 #-1=2"
      }, 
      {
       "output_type": "stream", 
       "stream": "stdout", 
       "text": "\nCORRECT: it&apos;s dark but has wonderfully funny moments ; you care about the characters ; and the action and special effects are first-rate .  #1=3 #-1=2"
      }, 
      {
       "output_type": "stream", 
       "stream": "stdout", 
       "text": "\nCORRECT: in visual fertility treasure planet rivals the top japanese animations of recent vintage .  #1=3 #-1=2"
      }, 
      {
       "output_type": "stream", 
       "stream": "stdout", 
       "text": "\nCORRECT: enormously enjoyable , high-adrenaline documentary .  #1=5 #-1=0"
      }, 
      {
       "output_type": "stream", 
       "stream": "stdout", 
       "text": "\nCORRECT: buy is an accomplished actress , and this is a big , juicy role .  #1=3 #-1=2"
      }, 
      {
       "output_type": "stream", 
       "stream": "stdout", 
       "text": "\nCORRECT: it works its magic with such exuberance and passion that the film&apos;s length becomes a part of its fun .  #1=4 #-1=1"
      }, 
      {
       "output_type": "stream", 
       "stream": "stdout", 
       "text": "\nCORRECT: beautifully crafted and brutally honest , promises offers an unexpected window into the complexities of the middle east struggle and into the humanity of its people .  #1=4 #-1=1"
      }, 
      {
       "output_type": "stream", 
       "stream": "stdout", 
       "text": "\nCORRECT: an old-fashioned but emotionally stirring adventure tale of the kind they rarely make anymore .  #1=4 #-1=1"
      }, 
      {
       "output_type": "stream", 
       "stream": "stdout", 
       "text": "\nCORRECT: charlotte sometimes is a gem . it&apos;s always enthralling .  #1=4 #-1=1"
      }, 
      {
       "output_type": "stream", 
       "stream": "stdout", 
       "text": "\nERROR: in my opinion , analyze that is not as funny or entertaining as analyze this , but it is a respectable sequel .  #1=1 #-1=4"
      }, 
      {
       "output_type": "stream", 
       "stream": "stdout", 
       "text": "\nCORRECT: a remarkable film by bernard rose .  #1=4 #-1=1"
      }, 
      {
       "output_type": "stream", 
       "stream": "stdout", 
       "text": "\nCORRECT: zhuangzhuang creates delicate balance of style , text , and subtext that&apos;s so simple and precise that anything discordant would topple the balance , but against all odds , nothing does .  #1=3 #-1=2"
      }, 
      {
       "output_type": "stream", 
       "stream": "stdout", 
       "text": "\nCORRECT: a much more successful translation than its most famous previous film adaptation , writer-director anthony friedman&apos;s similarly updated 1970 british production .  #1=5 #-1=0"
      }, 
      {
       "output_type": "stream", 
       "stream": "stdout", 
       "text": "\nCORRECT: an original and highly cerebral examination of the psychopathic mind #1=3 #-1=2"
      }, 
      {
       "output_type": "stream", 
       "stream": "stdout", 
       "text": "\nERROR: michel piccoli&apos;s moving performance is this films reason for being .  #1=1 #-1=4"
      }, 
      {
       "output_type": "stream", 
       "stream": "stdout", 
       "text": "\nCORRECT: a captivating and intimate study about dying and loving . . .  #1=4 #-1=1"
      }, 
      {
       "output_type": "stream", 
       "stream": "stdout", 
       "text": "\nCORRECT: this is an elegantly balanced movie -- every member of the ensemble has something fascinating to do -- that doesn&apos;t reveal even a hint of artifice .  #1=3 #-1=2"
      }, 
      {
       "output_type": "stream", 
       "stream": "stdout", 
       "text": "\nCORRECT: [grant] goes beyond his usual fluttering and stammering and captures the soul of a man in pain who gradually comes to recognize it and deal with it .  #1=3 #-1=2"
      }, 
      {
       "output_type": "stream", 
       "stream": "stdout", 
       "text": "\nCORRECT: a high-spirited buddy movie about the reunion of berlin anarchists who face arrest 15 years after their crime .  #1=4 #-1=1"
      }, 
      {
       "output_type": "stream", 
       "stream": "stdout", 
       "text": "\nCORRECT: about the best thing you could say about narc is that it&apos;s a rock-solid little genre picture . whether you like it or not is basically a matter of taste .  #1=3 #-1=2"
      }, 
      {
       "output_type": "stream", 
       "stream": "stdout", 
       "text": "\nERROR: an involving , inspirational drama that sometimes falls prey to its sob-story trappings .  #1=2 #-1=3"
      }, 
      {
       "output_type": "stream", 
       "stream": "stdout", 
       "text": "\nCORRECT: some of the most inventive silliness you are likely to witness in a movie theatre for some time .  #1=3 #-1=2"
      }, 
      {
       "output_type": "stream", 
       "stream": "stdout", 
       "text": "\nCORRECT: canadian filmmaker gary burns&apos; inventive and mordantly humorous take on the soullessness of work in the city .  #1=4 #-1=1"
      }, 
      {
       "output_type": "stream", 
       "stream": "stdout", 
       "text": "\nCORRECT: a rollicking ride , with jaw-dropping action sequences , striking villains , a gorgeous color palette , astounding technology , stirring music and a boffo last hour that leads up to a strangely sinister happy ending .  #1=4 #-1=1"
      }, 
      {
       "output_type": "stream", 
       "stream": "stdout", 
       "text": "\nCORRECT: everyone&apos;s insecure in lovely and amazing , a poignant and wryly amusing film about mothers , daughters and their relationships .  #1=3 #-1=2"
      }, 
      {
       "output_type": "stream", 
       "stream": "stdout", 
       "text": "\nERROR: the closest thing to the experience of space travel #1=2 #-1=3"
      }, 
      {
       "output_type": "stream", 
       "stream": "stdout", 
       "text": "\nCORRECT: full of surprises .  #1=4 #-1=1\nERROR: connoisseurs of chinese film will be pleased to discover that tian&apos;s meticulous talent has not withered during his enforced hiatus .  #1=1 #-1=4"
      }, 
      {
       "output_type": "stream", 
       "stream": "stdout", 
       "text": "\nERROR: if you can push on through the slow spots , you&apos;ll be rewarded with some fine acting .  #1=1 #-1=4"
      }, 
      {
       "output_type": "stream", 
       "stream": "stdout", 
       "text": "\nERROR: an unusually dry-eyed , even analytical approach to material that is generally played for maximum moisture .  #1=1 #-1=4"
      }, 
      {
       "output_type": "stream", 
       "stream": "stdout", 
       "text": "\nCORRECT: symbolically , warm water under a red bridge is a celebration of feminine energy , a tribute to the power of women to heal .  #1=4 #-1=1"
      }, 
      {
       "output_type": "stream", 
       "stream": "stdout", 
       "text": "\nCORRECT: spy kids 2 also happens to be that rarity among sequels : it actually improves upon the original hit movie .  #1=3 #-1=2"
      }, 
      {
       "output_type": "stream", 
       "stream": "stdout", 
       "text": "\nCORRECT: exceptionally well acted by diane lane and richard gere .  #1=4 #-1=1"
      }, 
      {
       "output_type": "stream", 
       "stream": "stdout", 
       "text": "\nCORRECT: like a precious and finely cut diamond , magnificent to behold in its sparkling beauty yet in reality it&apos;s one tough rock .  #1=4 #-1=1"
      }, 
      {
       "output_type": "stream", 
       "stream": "stdout", 
       "text": "\nCORRECT: in addition to scoring high for originality of plot -- putting together familiar themes of family , forgiveness and love in a new way -- lilo &amp; stitch has a number of other assets to commend it to movie audiences both innocent and jaded .  #1=3 #-1=2"
      }, 
      {
       "output_type": "stream", 
       "stream": "stdout", 
       "text": "\nCORRECT: miller has crafted an intriguing story of maternal instincts and misguided acts of affection .  #1=4 #-1=1"
      }, 
      {
       "output_type": "stream", 
       "stream": "stdout", 
       "text": "\nCORRECT: one of the most exciting action films to come out of china in recent years .  #1=5 #-1=0"
      }, 
      {
       "output_type": "stream", 
       "stream": "stdout", 
       "text": "\nCORRECT: this is a nervy , risky film , and villeneuve has inspired croze to give herself over completely to the tormented persona of bibi .  #1=4 #-1=1"
      }, 
      {
       "output_type": "stream", 
       "stream": "stdout", 
       "text": "\nCORRECT: my little eye is the best little &quot; horror &quot; movie i&apos;ve seen in years .  #1=4 #-1=1"
      }, 
      {
       "output_type": "stream", 
       "stream": "stdout", 
       "text": "\nCORRECT: tunney , brimming with coltish , neurotic energy , holds the screen like a true star .  #1=4 #-1=1"
      }, 
      {
       "output_type": "stream", 
       "stream": "stdout", 
       "text": "\nCORRECT: even if the naipaul original remains the real masterpiece , the movie possesses its own languorous charm .  #1=3 #-1=2"
      }, 
      {
       "output_type": "stream", 
       "stream": "stdout", 
       "text": "\nCORRECT: [the film] tackles the topic of relationships in such a straightforward , emotionally honest manner that by the end , it&apos;s impossible to ascertain whether the film is , at its core , deeply pessimistic or quietly hopeful .  #1=4 #-1=1"
      }, 
      {
       "output_type": "stream", 
       "stream": "stdout", 
       "text": "\nCORRECT: sometimes we feel as if the film careens from one colorful event to another without respite , but sometimes it must have seemed to frida kahlo as if her life did , too .  #1=4 #-1=1"
      }, 
      {
       "output_type": "stream", 
       "stream": "stdout", 
       "text": "\nCORRECT: the strength of the film lies in its two central performances by sven wollter as the stricken composer and viveka seldahl as his desperate violinist wife .  #1=5 #-1=0"
      }, 
      {
       "output_type": "stream", 
       "stream": "stdout", 
       "text": "\nERROR: like the series , the movie is funny , smart , visually inventive , and most of all , alive .  #1=1 #-1=4"
      }, 
      {
       "output_type": "stream", 
       "stream": "stdout", 
       "text": "\nERROR: it was filled with shootings , beatings , and more cussing than you could shake a stick at .  #1=2 #-1=3"
      }, 
      {
       "output_type": "stream", 
       "stream": "stdout", 
       "text": "\nERROR: you don&apos;t know whether to admire the film&apos;s stately nature and call it classicism or be exasperated by a noticeable lack of pace . or both .  #1=2 #-1=3"
      }, 
      {
       "output_type": "stream", 
       "stream": "stdout", 
       "text": "\nCORRECT: sure , i hated myself in the morning . but then again , i hate myself most mornings . i still like moonlight mile , better judgment be damned .  #1=4 #-1=1"
      }, 
      {
       "output_type": "stream", 
       "stream": "stdout", 
       "text": "\nCORRECT: time out is as serious as a pink slip . and more than that , it&apos;s an observant , unfussily poetic meditation about identity and alienation .  #1=3 #-1=2"
      }, 
      {
       "output_type": "stream", 
       "stream": "stdout", 
       "text": "\nCORRECT: will assuredly rank as one of the cleverest , most deceptively amusing comedies of the year .  #1=3 #-1=2"
      }, 
      {
       "output_type": "stream", 
       "stream": "stdout", 
       "text": "\nERROR: maryam is a small film , but it offers large rewards .  #1=2 #-1=3"
      }, 
      {
       "output_type": "stream", 
       "stream": "stdout", 
       "text": "\nCORRECT: a highly watchable , giggly little story with a sweet edge to it .  #1=3 #-1=2"
      }, 
      {
       "output_type": "stream", 
       "stream": "stdout", 
       "text": "\nCORRECT: the most consistently funny of the austin powers films .  #1=5 #-1=0"
      }, 
      {
       "output_type": "stream", 
       "stream": "stdout", 
       "text": "\nCORRECT: ana&apos;s journey is not a stereotypical one of self-discovery , as she&apos;s already comfortable enough in her own skin to be proud of her rubenesque physique . . .  #1=4 #-1=1"
      }, 
      {
       "output_type": "stream", 
       "stream": "stdout", 
       "text": "\nERROR: cockettes has the glorious , gaudy benefit of much stock footage of those days , featuring all manner of drag queen , bearded lady and lactating hippie .  #1=2 #-1=3"
      }, 
      {
       "output_type": "stream", 
       "stream": "stdout", 
       "text": "\nCORRECT: there&apos;s something poignant about an artist of 90-plus years taking the effort to share his impressions of life and loss and time and art with us .  #1=4 #-1=1"
      }, 
      {
       "output_type": "stream", 
       "stream": "stdout", 
       "text": "\nERROR: the comedy makes social commentary more palatable .  #1=1 #-1=4"
      }, 
      {
       "output_type": "stream", 
       "stream": "stdout", 
       "text": "\nCORRECT: an ideal love story for those intolerant of the more common saccharine genre .  #1=4 #-1=1"
      }, 
      {
       "output_type": "stream", 
       "stream": "stdout", 
       "text": "\nCORRECT: one funny popcorn flick .  #1=4 #-1=1"
      }, 
      {
       "output_type": "stream", 
       "stream": "stdout", 
       "text": "\nCORRECT: this new zealand coming-of-age movie isn&apos;t really about anything . when it&apos;s this rich and luscious , who cares ?  #1=4 #-1=1"
      }, 
      {
       "output_type": "stream", 
       "stream": "stdout", 
       "text": "\nCORRECT: tully is worth a look for its true-to-life characters , its sensitive acting , its unadorned view of rural life and the subtle direction of first-timer hilary birmingham .  #1=5 #-1=0"
      }, 
      {
       "output_type": "stream", 
       "stream": "stdout", 
       "text": "\nCORRECT: this gorgeous epic is guaranteed to lift the spirits of the whole family .  #1=3 #-1=2"
      }, 
      {
       "output_type": "stream", 
       "stream": "stdout", 
       "text": "\nCORRECT: the wild thornberrys movie is pleasant enough and the message of our close ties with animals can certainly not be emphasized enough .  #1=5 #-1=0"
      }, 
      {
       "output_type": "stream", 
       "stream": "stdout", 
       "text": "\nCORRECT: williams creates a stunning , taxi driver-esque portrayal of a man teetering on the edge of sanity .  #1=3 #-1=2"
      }, 
      {
       "output_type": "stream", 
       "stream": "stdout", 
       "text": "\nERROR: if you&apos;re in the right b-movie frame of mind , it may just scare the pants off you .  #1=2 #-1=3"
      }, 
      {
       "output_type": "stream", 
       "stream": "stdout", 
       "text": "\nCORRECT: a movie of riveting power and sadness .  #1=4 #-1=1"
      }, 
      {
       "output_type": "stream", 
       "stream": "stdout", 
       "text": "\nCORRECT: both a detective story and a romance spiced with the intrigue of academic skullduggery and politics .  #1=4 #-1=1"
      }, 
      {
       "output_type": "stream", 
       "stream": "stdout", 
       "text": "\nCORRECT: quietly engaging .  #1=5 #-1=0\nCORRECT: ludicrous , but director carl franklin adds enough flourishes and freak-outs to make it entertaining .  #1=3 #-1=2"
      }, 
      {
       "output_type": "stream", 
       "stream": "stdout", 
       "text": "\nERROR: director roger kumble offers just enough sweet and traditional romantic comedy to counter the crudity . and there&apos;s the inimitable diaz , holding it all together .  #1=2 #-1=3"
      }, 
      {
       "output_type": "stream", 
       "stream": "stdout", 
       "text": "\nERROR: spielberg&apos;s picture is smarter and subtler than [total recall and blade runner] , although its plot may prove too convoluted for fun-seeking summer audiences .  #1=2 #-1=3"
      }, 
      {
       "output_type": "stream", 
       "stream": "stdout", 
       "text": "\nCORRECT: it&apos;s got all the familiar bruckheimer elements , and schumacher does probably as good a job as anyone at bringing off the hopkins/rock collision of acting styles and onscreen personas .  #1=3 #-1=2"
      }, 
      {
       "output_type": "stream", 
       "stream": "stdout", 
       "text": "\nERROR: a grittily beautiful film that looks , sounds , and feels more like an extended , open-ended poem than a traditionally structured story .  #1=2 #-1=3"
      }, 
      {
       "output_type": "stream", 
       "stream": "stdout", 
       "text": "\nCORRECT: dense , exhilarating documentary .  #1=4 #-1=1"
      }, 
      {
       "output_type": "stream", 
       "stream": "stdout", 
       "text": "\nCORRECT: the production values are of the highest and the performances attractive without being memorable .  #1=3 #-1=2"
      }, 
      {
       "output_type": "stream", 
       "stream": "stdout", 
       "text": "\nCORRECT: a well-rounded tribute to a man whose achievements -- and complexities -- reached far beyond the end zone .  #1=3 #-1=2"
      }, 
      {
       "output_type": "stream", 
       "stream": "stdout", 
       "text": "\nCORRECT: finely crafted , finely written , exquisitely performed #1=4 #-1=1"
      }, 
      {
       "output_type": "stream", 
       "stream": "stdout", 
       "text": "\nCORRECT: ramsay and morton fill this character study with poetic force and buoyant feeling .  #1=4 #-1=1"
      }, 
      {
       "output_type": "stream", 
       "stream": "stdout", 
       "text": "\nERROR: this submarine drama earns the right to be favorably compared to das boot .  #1=1 #-1=4"
      }, 
      {
       "output_type": "stream", 
       "stream": "stdout", 
       "text": "\nERROR: claude chabrol&apos;s camera has a way of gently swaying back and forth as it cradles its characters , veiling tension beneath otherwise tender movements .  #1=2 #-1=3"
      }, 
      {
       "output_type": "stream", 
       "stream": "stdout", 
       "text": "\nCORRECT: there&apos;s a great deal of corny dialogue and preposterous moments . and yet , it still works .  #1=5 #-1=0"
      }, 
      {
       "output_type": "stream", 
       "stream": "stdout", 
       "text": "\nCORRECT: the film was immensely enjoyable thanks to great performances by both steve buscemi and rosario dawson . . .  #1=4 #-1=1"
      }, 
      {
       "output_type": "stream", 
       "stream": "stdout", 
       "text": "\nERROR: like many western action films , this thriller is too loud and thoroughly overbearing , but its heartfelt concern about north korea&apos;s recent past and south korea&apos;s future adds a much needed moral weight .  #1=0 #-1=5"
      }, 
      {
       "output_type": "stream", 
       "stream": "stdout", 
       "text": "\nCORRECT: special p . o . v . camera mounts on bikes , skateboards , and motorcycles provide an intense experience when splashed across the immense imax screen .  #1=4 #-1=1"
      }, 
      {
       "output_type": "stream", 
       "stream": "stdout", 
       "text": "\nCORRECT: a joyous occasion #1=4 #-1=1\nCORRECT: mike white&apos;s deft combination of serious subject matter and dark , funny humor make &quot; &quot; the good girl &quot; a film worth watching .  #1=3 #-1=2"
      }, 
      {
       "output_type": "stream", 
       "stream": "stdout", 
       "text": "\nCORRECT: this is a shrewd and effective film from a director who understands how to create and sustain a mood .  #1=4 #-1=1"
      }, 
      {
       "output_type": "stream", 
       "stream": "stdout", 
       "text": "\nERROR: meant to reduce blake&apos;s philosophy into a tragic coming-of-age saga punctuated by bursts of animator todd mcfarlane&apos;s superhero dystopia .  #1=2 #-1=3"
      }, 
      {
       "output_type": "stream", 
       "stream": "stdout", 
       "text": "\nCORRECT: assayas&apos; ambitious , sometimes beautiful adaptation of jacques chardonne&apos;s novel .  #1=4 #-1=1"
      }, 
      {
       "output_type": "stream", 
       "stream": "stdout", 
       "text": "\nCORRECT: as ex-marine walter , who may or may not have shot kennedy , actor raymond j . barry is perfectly creepy and believable .  #1=4 #-1=1"
      }, 
      {
       "output_type": "stream", 
       "stream": "stdout", 
       "text": "\nCORRECT: those who don&apos;t entirely &apos;get&apos; godard&apos;s distinctive discourse will still come away with a sense of his reserved but existential poignancy .  #1=4 #-1=1"
      }, 
      {
       "output_type": "stream", 
       "stream": "stdout", 
       "text": "\nCORRECT: pete&apos;s screenplay manages to find that real natural , even-flowing tone that few movies are able to accomplish .  #1=4 #-1=1"
      }, 
      {
       "output_type": "stream", 
       "stream": "stdout", 
       "text": "\nERROR: like brosnan&apos;s performance , evelyn comes from the heart .  #1=2 #-1=3"
      }, 
      {
       "output_type": "stream", 
       "stream": "stdout", 
       "text": "\nERROR: it uses some of the figures from the real-life story to portray themselves in the film . the result is a powerful , naturally dramatic piece of low-budget filmmaking .  #1=2 #-1=3"
      }, 
      {
       "output_type": "stream", 
       "stream": "stdout", 
       "text": "\nCORRECT: its spirit of iconoclastic abandon -- however canned -- makes for unexpectedly giddy viewing .  #1=4 #-1=1"
      }, 
      {
       "output_type": "stream", 
       "stream": "stdout", 
       "text": "\nCORRECT: the early and middle passages are surprising in how much they engage and even touch us . this is not a classical dramatic animated feature , nor a hip , contemporary , in-jokey one . it&apos;s sort of in-between , and it works .  #1=5 #-1=0"
      }, 
      {
       "output_type": "stream", 
       "stream": "stdout", 
       "text": "\nCORRECT: this quiet , introspective and entertaining independent is worth seeking .  #1=5 #-1=0"
      }, 
      {
       "output_type": "stream", 
       "stream": "stdout", 
       "text": "\nCORRECT: whether our action-and-popcorn obsessed culture will embrace this engaging and literate psychodrama isn&apos;t much of a mystery , unfortunately .  #1=3 #-1=2"
      }, 
      {
       "output_type": "stream", 
       "stream": "stdout", 
       "text": "\nERROR: whether or not ram dass proves as clear and reliable an authority on that as he was about inner consciousness , fierce grace reassures us that he will once again be an honest and loving one .  #1=1 #-1=4"
      }, 
      {
       "output_type": "stream", 
       "stream": "stdout", 
       "text": "\nCORRECT: sly , sophisticated and surprising .  #1=5 #-1=0"
      }, 
      {
       "output_type": "stream", 
       "stream": "stdout", 
       "text": "CORRECT: spare but quietly effective retelling .  #1=5 #-1=0\nCORRECT: demonstrates a vivid imagination and an impressive style that result in some terrific setpieces .  #1=4 #-1=1"
      }, 
      {
       "output_type": "stream", 
       "stream": "stdout", 
       "text": "\nCORRECT: by its modest , straight-ahead standards , undisputed scores a direct hit .  #1=3 #-1=2"
      }, 
      {
       "output_type": "stream", 
       "stream": "stdout", 
       "text": "\nERROR: its story about a young chinese woman , ah na , who has come to new york city to replace past tragedy with the american dream is one that any art-house moviegoer is likely to find compelling .  #1=2 #-1=3"
      }, 
      {
       "output_type": "stream", 
       "stream": "stdout", 
       "text": "\nCORRECT: for those who like quirky , slightly strange french films , this is a must !  #1=4 #-1=1"
      }, 
      {
       "output_type": "stream", 
       "stream": "stdout", 
       "text": "\nCORRECT: there are so few films about the plight of american indians in modern america that skins comes as a welcome , if downbeat , missive from a forgotten front .  #1=4 #-1=1"
      }, 
      {
       "output_type": "stream", 
       "stream": "stdout", 
       "text": "\nCORRECT: [shyamalan] continues to cut a swathe through mainstream hollywood , while retaining an integrity and refusing to compromise his vision .  #1=3 #-1=2"
      }, 
      {
       "output_type": "stream", 
       "stream": "stdout", 
       "text": "\nCORRECT: a whale of a good time for both children and parents seeking christian-themed fun .  #1=5 #-1=0"
      }, 
      {
       "output_type": "stream", 
       "stream": "stdout", 
       "text": "\nCORRECT: what begins as a film in the tradition of the graduate quickly switches into something more recyclable than significant .  #1=3 #-1=2"
      }, 
      {
       "output_type": "stream", 
       "stream": "stdout", 
       "text": "\nERROR: much smarter and more attentive than it first sets out to be .  #1=2 #-1=3"
      }, 
      {
       "output_type": "stream", 
       "stream": "stdout", 
       "text": "\nCORRECT: the story is smart and entirely charming in intent and execution .  #1=3 #-1=2"
      }, 
      {
       "output_type": "stream", 
       "stream": "stdout", 
       "text": "\nCORRECT: a movie of technical skill and rare depth of intellect and feeling .  #1=3 #-1=2"
      }, 
      {
       "output_type": "stream", 
       "stream": "stdout", 
       "text": "\nCORRECT: represents a worthy departure from the culture clash comedies that have marked an emerging indian american cinema .  #1=4 #-1=1"
      }, 
      {
       "output_type": "stream", 
       "stream": "stdout", 
       "text": "\nCORRECT: doesn&apos;t do more than expand a tv show to movie length . however , it&apos;s pleasant enough and its ecological , pro-wildlife sentiments are certainly welcome .  #1=5 #-1=0"
      }, 
      {
       "output_type": "stream", 
       "stream": "stdout", 
       "text": "\nERROR: if you&apos;re looking for an intelligent movie in which you can release your pent up anger , enough is just the ticket you need .  #1=2 #-1=3"
      }, 
      {
       "output_type": "stream", 
       "stream": "stdout", 
       "text": "\nCORRECT: a pointed , often tender , examination of the pros and cons of unconditional love and familial duties .  #1=5 #-1=0"
      }, 
      {
       "output_type": "stream", 
       "stream": "stdout", 
       "text": "\nERROR: as well-acted and well-intentioned as all or nothing is , however , the film comes perilously close to being too bleak , too pessimistic and too unflinching for its own good .  #1=0 #-1=5"
      }, 
      {
       "output_type": "stream", 
       "stream": "stdout", 
       "text": "\nCORRECT: a comedy-drama of nearly epic proportions rooted in a sincere performance by the title character undergoing midlife crisis .  #1=3 #-1=2"
      }, 
      {
       "output_type": "stream", 
       "stream": "stdout", 
       "text": "\nERROR: it&apos;s about issues most adults have to face in marriage and i think that&apos;s what i liked about it -- the real issues tucked between the silly and crude storyline .  #1=1 #-1=4"
      }, 
      {
       "output_type": "stream", 
       "stream": "stdout", 
       "text": "\nERROR: elegantly produced and expressively performed , the six musical numbers crystallize key plot moments into minutely detailed wonders of dreamlike ecstasy .  #1=2 #-1=3"
      }, 
      {
       "output_type": "stream", 
       "stream": "stdout", 
       "text": "\nERROR: enriched by a strong and unforced supporting cast .  #1=2 #-1=3"
      }, 
      {
       "output_type": "stream", 
       "stream": "stdout", 
       "text": "\nERROR: writer/ director m . night shyamalan&apos;s ability to pull together easily accessible stories that resonate with profundity is undeniable .  #1=2 #-1=3"
      }, 
      {
       "output_type": "stream", 
       "stream": "stdout", 
       "text": "\nERROR: if you can keep your eyes open amid all the blood and gore , you&apos;ll see del toro has brought unexpected gravity to blade ii .  #1=2 #-1=3"
      }, 
      {
       "output_type": "stream", 
       "stream": "stdout", 
       "text": "\nCORRECT: not a strike against yang&apos;s similarly themed yi yi , but i found what time ? to be more engaging on an emotional level , funnier , and on the whole less detached .  #1=3 #-1=2"
      }, 
      {
       "output_type": "stream", 
       "stream": "stdout", 
       "text": "\nCORRECT: a breathtaking adventure for all ages , spirit tells its poignant and uplifting story in a stunning fusion of music and images .  #1=5 #-1=0"
      }, 
      {
       "output_type": "stream", 
       "stream": "stdout", 
       "text": "\nCORRECT: a charming and funny story of clashing cultures and a clashing mother/daughter relationship .  #1=5 #-1=0"
      }, 
      {
       "output_type": "stream", 
       "stream": "stdout", 
       "text": "\nCORRECT: never lets go your emotions , taking them to surprising highs , sorrowful lows and hidden impulsive niches . . . gorgeous , passionate , and at times uncommonly moving .  #1=4 #-1=1"
      }, 
      {
       "output_type": "stream", 
       "stream": "stdout", 
       "text": "\nERROR:  &quot; . . . something appears to have been lost in the translation this time . the importance of being earnest movie seems to be missing a great deal of the acerbic repartee of the play . &quot;  #1=2 #-1=3"
      }, 
      {
       "output_type": "stream", 
       "stream": "stdout", 
       "text": "\nERROR: [washington&apos;s] strong hand , keen eye , sweet spirit and good taste are reflected in almost every scene .  #1=2 #-1=3"
      }, 
      {
       "output_type": "stream", 
       "stream": "stdout", 
       "text": "\nCORRECT: shiner can certainly go the distance , but isn&apos;t world championship material #1=4 #-1=1"
      }, 
      {
       "output_type": "stream", 
       "stream": "stdout", 
       "text": "\nCORRECT: the film&apos;s desire to be liked sometimes undermines the possibility for an exploration of the thornier aspects of the nature/nurture argument in regards to homosexuality .  #1=4 #-1=1"
      }, 
      {
       "output_type": "stream", 
       "stream": "stdout", 
       "text": "\nCORRECT:  . . . a quietly introspective portrait of the self-esteem of employment and the shame of losing a job . . .  #1=5 #-1=0"
      }, 
      {
       "output_type": "stream", 
       "stream": "stdout", 
       "text": "\nCORRECT: affable if not timeless , like mike raises some worthwhile themes while delivering a wholesome fantasy for kids .  #1=4 #-1=1"
      }, 
      {
       "output_type": "stream", 
       "stream": "stdout", 
       "text": "\nCORRECT: a film of delicate interpersonal dances . caine makes us watch as his character awakens to the notion that to be human is eventually to have to choose . it&apos;s a sight to behold .  #1=4 #-1=1"
      }, 
      {
       "output_type": "stream", 
       "stream": "stdout", 
       "text": "\nCORRECT: it&apos;s an unusual , thoughtful bio-drama with a rich subject and some fantastic moments and scenes .  #1=4 #-1=1"
      }, 
      {
       "output_type": "stream", 
       "stream": "stdout", 
       "text": "\nCORRECT: saved from being merely way-cool by a basic , credible compassion .  #1=3 #-1=2"
      }, 
      {
       "output_type": "stream", 
       "stream": "stdout", 
       "text": "\nERROR: the increasingly diverse french director has created a film that one can honestly describe as looking , sounding and simply feeling like no other film in recent history .  #1=1 #-1=4"
      }, 
      {
       "output_type": "stream", 
       "stream": "stdout", 
       "text": "\nCORRECT: gangs , despite the gravity of its subject matter , is often as fun to watch as a good spaghetti western .  #1=4 #-1=1"
      }, 
      {
       "output_type": "stream", 
       "stream": "stdout", 
       "text": "\nCORRECT: peter jackson has done the nearly impossible . he has improved upon the first and taken it a step further , richer and deeper . what jackson has done is proven that no amount of imagination , no creature , no fantasy story and no incredibly outlandish scenery #1=3 #-1=2"
      }, 
      {
       "output_type": "stream", 
       "stream": "stdout", 
       "text": "\nERROR: there has to be a few advantages to never growing old . like being able to hit on a 15-year old when you&apos;re over 100 .  #1=2 #-1=3"
      }, 
      {
       "output_type": "stream", 
       "stream": "stdout", 
       "text": "\nERROR: ice age won&apos;t drop your jaw , but it will warm your heart , and i&apos;m giving it a strong thumbs up .  #1=2 #-1=3"
      }, 
      {
       "output_type": "stream", 
       "stream": "stdout", 
       "text": "\nCORRECT: like kissing jessica stein , amy&apos;s orgasm has a key strength in its willingness to explore its principal characters with honesty , insight and humor .  #1=4 #-1=1"
      }, 
      {
       "output_type": "stream", 
       "stream": "stdout", 
       "text": "\nCORRECT: the lady and the duke is eric rohmer&apos;s economical antidote to the bloated costume drama #1=5 #-1=0"
      }, 
      {
       "output_type": "stream", 
       "stream": "stdout", 
       "text": "\nCORRECT: one of the year&apos;s best films , featuring an oscar-worthy performance by julianne moore .  #1=5 #-1=0"
      }, 
      {
       "output_type": "stream", 
       "stream": "stdout", 
       "text": "\nCORRECT: a small gem from belgium .  #1=5 #-1=0\nCORRECT: combines a comically dismal social realism with a farcically bawdy fantasy of redemption and regeneration .  #1=3 #-1=2"
      }, 
      {
       "output_type": "stream", 
       "stream": "stdout", 
       "text": "\nERROR: a soap-opera quality twist in the last 20 minutes . . . almost puts the kibosh on what is otherwise a sumptuous work of b-movie imagination .  #1=1 #-1=4"
      }, 
      {
       "output_type": "stream", 
       "stream": "stdout", 
       "text": "\nCORRECT: the most ingenious film comedy since being john malkovich .  #1=3 #-1=2"
      }, 
      {
       "output_type": "stream", 
       "stream": "stdout", 
       "text": "\nCORRECT: there&apos;s something to be said for a studio-produced film that never bothers to hand viewers a suitcase full of easy answers .  #1=3 #-1=2"
      }, 
      {
       "output_type": "stream", 
       "stream": "stdout", 
       "text": "\nERROR: a movie where story is almost an afterthought amidst a swirl of colors and inexplicable events .  #1=2 #-1=3"
      }, 
      {
       "output_type": "stream", 
       "stream": "stdout", 
       "text": "\nCORRECT: manages to accomplish what few sequels can -- it equals the original and in some ways even betters it .  #1=4 #-1=1"
      }, 
      {
       "output_type": "stream", 
       "stream": "stdout", 
       "text": "\nERROR: to call this one an eventual cult classic would be an understatement , and woe is the horror fan who opts to overlook this goofily endearing and well-lensed gorefest .  #1=2 #-1=3"
      }, 
      {
       "output_type": "stream", 
       "stream": "stdout", 
       "text": "\nCORRECT: jolie gives it that extra little something that makes it worth checking out at theaters , especially if you&apos;re in the mood for something more comfortable than challenging .  #1=4 #-1=1"
      }, 
      {
       "output_type": "stream", 
       "stream": "stdout", 
       "text": "\nCORRECT: although melodramatic and predictable , this romantic comedy explores the friendship between five filipino-americans and their frantic efforts to find love .  #1=4 #-1=1"
      }, 
      {
       "output_type": "stream", 
       "stream": "stdout", 
       "text": "\nERROR: i have a new favorite musical -- and i&apos;m not even a fan of the genre #1=2 #-1=3"
      }, 
      {
       "output_type": "stream", 
       "stream": "stdout", 
       "text": "\nCORRECT: it&apos;s unlikely we&apos;ll see a better thriller this year .  #1=4 #-1=1"
      }, 
      {
       "output_type": "stream", 
       "stream": "stdout", 
       "text": "\nERROR: there is a real subject here , and it is handled with intelligence and care .  #1=2 #-1=3"
      }, 
      {
       "output_type": "stream", 
       "stream": "stdout", 
       "text": "\nCORRECT: jason patric and ray liotta make for one splendidly cast pair .  #1=5 #-1=0"
      }, 
      {
       "output_type": "stream", 
       "stream": "stdout", 
       "text": "\nCORRECT: noyce creates a film of near-hypnotic physical beauty even as he tells a story as horrifying as any in the heart-breakingly extensive annals of white-on-black racism .  #1=3 #-1=2"
      }, 
      {
       "output_type": "stream", 
       "stream": "stdout", 
       "text": "\nERROR: starts slowly , but adrien brody \u2013 in the title role \u2013 helps make the film&apos;s conclusion powerful and satisfying .  #1=2 #-1=3"
      }, 
      {
       "output_type": "stream", 
       "stream": "stdout", 
       "text": "\nCORRECT: very predictable but still entertaining #1=4 #-1=1"
      }, 
      {
       "output_type": "stream", 
       "stream": "stdout", 
       "text": "\nCORRECT: nothing short of a masterpiece -- and a challenging one .  #1=5 #-1=0"
      }, 
      {
       "output_type": "stream", 
       "stream": "stdout", 
       "text": "\nERROR: pratfalls aside , barbershop gets its greatest play from the timeless spectacle of people really talking to each other .  #1=2 #-1=3"
      }, 
      {
       "output_type": "stream", 
       "stream": "stdout", 
       "text": "\nCORRECT: this amiable picture talks tough , but it&apos;s all bluster -- in the end it&apos;s as sweet as greenfingers . . .  #1=3 #-1=2"
      }, 
      {
       "output_type": "stream", 
       "stream": "stdout", 
       "text": "\nCORRECT: this is one of mr . chabrol&apos;s subtlest works , but also one of his most uncanny .  #1=3 #-1=2"
      }, 
      {
       "output_type": "stream", 
       "stream": "stdout", 
       "text": "\nCORRECT: an engrossing iranian film about two itinerant teachers and some lost and desolate people they encounter in a place where war has savaged the lives and liberties of the poor and the dispossessed .  #1=3 #-1=2"
      }, 
      {
       "output_type": "stream", 
       "stream": "stdout", 
       "text": "\nCORRECT: even though we know the outcome , the seesawing of the general&apos;s fate in the arguments of competing lawyers has the stomach-knotting suspense of a legal thriller , while the testimony of witnesses lends the film a resonant undertone of tragedy .  #1=3 #-1=2"
      }, 
      {
       "output_type": "stream", 
       "stream": "stdout", 
       "text": "\nCORRECT: watching spirited away is like watching an eastern imagination explode .  #1=3 #-1=2"
      }, 
      {
       "output_type": "stream", 
       "stream": "stdout", 
       "text": "\nERROR: as relationships shift , director robert j . siegel allows the characters to inhabit their world without cleaving to a narrative arc .  #1=2 #-1=3"
      }, 
      {
       "output_type": "stream", 
       "stream": "stdout", 
       "text": "\nERROR: twohy knows how to inflate the mundane into the scarifying , and gets full mileage out of the rolling of a stray barrel or the unexpected blast of a phonograph record .  #1=1 #-1=4"
      }, 
      {
       "output_type": "stream", 
       "stream": "stdout", 
       "text": "\nERROR: while the story does seem pretty unbelievable at times , it&apos;s awfully entertaining to watch .  #1=2 #-1=3"
      }, 
      {
       "output_type": "stream", 
       "stream": "stdout", 
       "text": "\nCORRECT: a smart and funny , albeit sometimes superficial , cautionary tale of a technology in search of an artist .  #1=4 #-1=1"
      }, 
      {
       "output_type": "stream", 
       "stream": "stdout", 
       "text": "\nERROR: examines its explosive subject matter as nonjudgmentally as wiseman&apos;s previous studies of inner-city high schools , hospitals , courts and welfare centers .  #1=2 #-1=3"
      }, 
      {
       "output_type": "stream", 
       "stream": "stdout", 
       "text": "\nCORRECT: i prefer soderbergh&apos;s concentration on his two lovers over tarkovsky&apos;s mostly male , mostly patriarchal debating societies .  #1=4 #-1=1"
      }, 
      {
       "output_type": "stream", 
       "stream": "stdout", 
       "text": "\nCORRECT: &apos;if you are in the mood for an intelligent weepy , it can easily worm its way into your heart . &apos; #1=5 #-1=0"
      }, 
      {
       "output_type": "stream", 
       "stream": "stdout", 
       "text": "\nCORRECT: in imax in short , it&apos;s just as wonderful on the big screen .  #1=3 #-1=2"
      }, 
      {
       "output_type": "stream", 
       "stream": "stdout", 
       "text": "\nCORRECT: does a good job of establishing a time and place , and of telling a fascinating character&apos;s story .  #1=5 #-1=0"
      }, 
      {
       "output_type": "stream", 
       "stream": "stdout", 
       "text": "\nCORRECT: i&apos;m going to give it a marginal thumbs up . i liked it just enough .  #1=3 #-1=2"
      }, 
      {
       "output_type": "stream", 
       "stream": "stdout", 
       "text": "\nCORRECT: those of you who don&apos;t believe in santa claus probably also think that sequels can never capture the magic of the original . well , this movie proves you wrong on both counts .  #1=3 #-1=2"
      }, 
      {
       "output_type": "stream", 
       "stream": "stdout", 
       "text": "\nERROR: a deliciously nonsensical comedy about a city coming apart at its seams .  #1=2 #-1=3"
      }, 
      {
       "output_type": "stream", 
       "stream": "stdout", 
       "text": "\nCORRECT: the rare imax movie that you&apos;ll wish was longer than an hour .  #1=3 #-1=2"
      }, 
      {
       "output_type": "stream", 
       "stream": "stdout", 
       "text": "\nERROR: my wife&apos;s plotting is nothing special ; it&apos;s the delivery that matters here .  #1=1 #-1=4"
      }, 
      {
       "output_type": "stream", 
       "stream": "stdout", 
       "text": "\nCORRECT: i&apos;ve yet to find an actual vietnam war combat movie actually produced by either the north or south vietnamese , but at least now we&apos;ve got something pretty damn close .  #1=5 #-1=0"
      }, 
      {
       "output_type": "stream", 
       "stream": "stdout", 
       "text": "\nCORRECT: a moving and not infrequently breathtaking film .  #1=4 #-1=1"
      }, 
      {
       "output_type": "stream", 
       "stream": "stdout", 
       "text": "\nCORRECT: it&apos;s a sharp movie about otherwise dull subjects .  #1=3 #-1=2"
      }, 
      {
       "output_type": "stream", 
       "stream": "stdout", 
       "text": "\nCORRECT: [an] absorbing documentary .  #1=5 #-1=0\nERROR: it&apos;s like rocky and bullwinkle on speed , but that&apos;s neither completely enlightening , nor does it catch the intensity of the movie&apos;s strangeness .  #1=1 #-1=4"
      }, 
      {
       "output_type": "stream", 
       "stream": "stdout", 
       "text": "\nERROR: as action-adventure , this space-based homage to robert louis stevenson&apos;s treasure island fires on all plasma conduits .  #1=2 #-1=3"
      }, 
      {
       "output_type": "stream", 
       "stream": "stdout", 
       "text": "\nCORRECT: a melancholy , emotional film .  #1=5 #-1=0"
      }, 
      {
       "output_type": "stream", 
       "stream": "stdout", 
       "text": "\nCORRECT: while the filmmaking may be a bit disjointed , the subject matter is so fascinating that you won&apos;t care .  #1=4 #-1=1"
      }, 
      {
       "output_type": "stream", 
       "stream": "stdout", 
       "text": "\nCORRECT: intensely romantic , thought-provoking and even an engaging mystery .  #1=5 #-1=0"
      }, 
      {
       "output_type": "stream", 
       "stream": "stdout", 
       "text": "\nERROR: goofy , nutty , consistently funny . and educational !  #1=2 #-1=3"
      }, 
      {
       "output_type": "stream", 
       "stream": "stdout", 
       "text": "\nCORRECT: not a schlocky creature feature but something far more stylish and cerebral--and , hence , more chillingly effective .  #1=4 #-1=1"
      }, 
      {
       "output_type": "stream", 
       "stream": "stdout", 
       "text": "\nERROR: another in a long line of ultra-violent war movies , this one is not quite what it could have been as a film , but the story and theme make up for it .  #1=1 #-1=4"
      }, 
      {
       "output_type": "stream", 
       "stream": "stdout", 
       "text": "\nCORRECT: it leaves little doubt that kidman has become one of our best actors .  #1=3 #-1=2"
      }, 
      {
       "output_type": "stream", 
       "stream": "stdout", 
       "text": "\nERROR: the film boasts dry humor and jarring shocks , plus moments of breathtaking mystery .  #1=2 #-1=3"
      }, 
      {
       "output_type": "stream", 
       "stream": "stdout", 
       "text": "\nCORRECT: beautifully directed and convincingly acted .  #1=4 #-1=1"
      }, 
      {
       "output_type": "stream", 
       "stream": "stdout", 
       "text": "\nCORRECT: gambling and throwing a basketball game for money isn&apos;t a new plot -- in fact toback himself used it in black and white . but toback&apos;s deranged immediacy makes it seem fresh again .  #1=4 #-1=1"
      }, 
      {
       "output_type": "stream", 
       "stream": "stdout", 
       "text": "\nCORRECT: in the director&apos;s cut , the film is not only a love song to the movies but it also is more fully an example of the kind of lush , all-enveloping movie experience it rhapsodizes .  #1=4 #-1=1"
      }, 
      {
       "output_type": "stream", 
       "stream": "stdout", 
       "text": "\nCORRECT: bring on the sequel .  #1=5 #-1=0\nERROR: graced with the kind of social texture and realism that would be foreign in american teen comedies .  #1=2 #-1=3"
      }, 
      {
       "output_type": "stream", 
       "stream": "stdout", 
       "text": "\nERROR: if we sometimes need comforting fantasies about mental illness , we also need movies like tim mccann&apos;s revolution no . 9 .  #1=2 #-1=3"
      }, 
      {
       "output_type": "stream", 
       "stream": "stdout", 
       "text": "\nCORRECT: the film occasionally tries the viewer&apos;s patience with slow pacing and a main character who sometimes defies sympathy , but it ultimately satisfies with its moving story .  #1=4 #-1=1"
      }, 
      {
       "output_type": "stream", 
       "stream": "stdout", 
       "text": "\nCORRECT: a big-budget/all-star movie as unblinkingly pure as the hours is a distinct rarity , and an event .  #1=5 #-1=0"
      }, 
      {
       "output_type": "stream", 
       "stream": "stdout", 
       "text": "\nERROR:  . . . certainly an entertaining ride , despite many talky , slow scenes . but something seems to be missing . a sense of real magic , perhaps .  #1=1 #-1=4"
      }, 
      {
       "output_type": "stream", 
       "stream": "stdout", 
       "text": "\nCORRECT: that haynes can both maintain and dismantle the facades that his genre and his character construct is a wonderous accomplishment of veracity and narrative grace .  #1=4 #-1=1"
      }, 
      {
       "output_type": "stream", 
       "stream": "stdout", 
       "text": "\nERROR: the movie worked for me right up to the final scene , and then it caved in .  #1=2 #-1=3"
      }, 
      {
       "output_type": "stream", 
       "stream": "stdout", 
       "text": "\nCORRECT:  . . . one of the most entertaining monster movies in ages . . .  #1=4 #-1=1"
      }, 
      {
       "output_type": "stream", 
       "stream": "stdout", 
       "text": "\nERROR: plunges you into a reality that is , more often then not , difficult and sad , and then , without sentimentalizing it or denying its brutality , transforms that reality into a lyrical and celebratory vision .  #1=2 #-1=3"
      }, 
      {
       "output_type": "stream", 
       "stream": "stdout", 
       "text": "\nCORRECT: would you laugh if a tuba-playing dwarf rolled down a hill in a trash can ? do you chuckle at the thought of an ancient librarian whacking a certain part of a man&apos;s body ? if you answered yes , by all means enjoy the new guy .  #1=4 #-1=1"
      }, 
      {
       "output_type": "stream", 
       "stream": "stdout", 
       "text": "\nCORRECT: the film is . . . determined to treat its characters , weak and strong , as fallible human beings , not caricatures , and to carefully delineate the cost of the inevitable conflicts between human urges and an institution concerned with self-preservation .  #1=5 #-1=0"
      }, 
      {
       "output_type": "stream", 
       "stream": "stdout", 
       "text": "\nERROR: missteps take what was otherwise a fascinating , riveting story and send it down the path of the mundane .  #1=2 #-1=3"
      }, 
      {
       "output_type": "stream", 
       "stream": "stdout", 
       "text": "\nCORRECT: an indispensable peek at the art and the agony of making people laugh .  #1=3 #-1=2"
      }, 
      {
       "output_type": "stream", 
       "stream": "stdout", 
       "text": "\nCORRECT: steadfastly uncinematic but powerfully dramatic .  #1=4 #-1=1"
      }, 
      {
       "output_type": "stream", 
       "stream": "stdout", 
       "text": "\nCORRECT: the engagingly primitive animated special effects contribute to a mood that&apos;s sustained through the surprisingly somber conclusion .  #1=4 #-1=1"
      }, 
      {
       "output_type": "stream", 
       "stream": "stdout", 
       "text": "\nCORRECT: made-up lampoons the moviemaking process itself , while shining a not particularly flattering spotlight on america&apos;s skin-deep notions of pulchritude .  #1=3 #-1=2"
      }, 
      {
       "output_type": "stream", 
       "stream": "stdout", 
       "text": "\nCORRECT: evokes the 19th century with a subtlety that is an object lesson in period filmmaking .  #1=5 #-1=0"
      }, 
      {
       "output_type": "stream", 
       "stream": "stdout", 
       "text": "\nCORRECT: ya-yas everywhere will forgive the flaws and love the film .  #1=5 #-1=0"
      }, 
      {
       "output_type": "stream", 
       "stream": "stdout", 
       "text": "\nERROR: the film&apos;s best trick is the way that it treats conspiracy as a kind of political blair witch , a monstrous murk that haunts us precisely because it can never be seen .  #1=2 #-1=3"
      }, 
      {
       "output_type": "stream", 
       "stream": "stdout", 
       "text": "\nCORRECT: the artwork is spectacular and unlike most animaton from japan , the characters move with grace and panache .  #1=5 #-1=0"
      }, 
      {
       "output_type": "stream", 
       "stream": "stdout", 
       "text": "\nCORRECT: the picture&apos;s fascinating byways are littered with trenchant satirical jabs at the peculiar egocentricities of the acting breed .  #1=3 #-1=2"
      }, 
      {
       "output_type": "stream", 
       "stream": "stdout", 
       "text": "\nERROR: the modern remake of dumas&apos;s story is long on narrative and ( too ) short on action .  #1=0 #-1=5"
      }, 
      {
       "output_type": "stream", 
       "stream": "stdout", 
       "text": "\nCORRECT: fred schepisi&apos;s film is paced at a speed that is slow to those of us in middle age and deathly slow to any teen . with a cast of a-list brit actors , it is worth searching out .  #1=5 #-1=0"
      }, 
      {
       "output_type": "stream", 
       "stream": "stdout", 
       "text": "\nCORRECT: suffers from its timid parsing of the barn-side target of sons trying to breach gaps in their relationships with their fathers .  #1=5 #-1=0"
      }, 
      {
       "output_type": "stream", 
       "stream": "stdout", 
       "text": "\nCORRECT: nonchalantly freaky and uncommonly pleasurable , warm water may well be the year&apos;s best and most unpredictable comedy .  #1=5 #-1=0"
      }, 
      {
       "output_type": "stream", 
       "stream": "stdout", 
       "text": "\nCORRECT: it&apos;s like an old warner bros . costumer jived with sex -- this could be the movie errol flynn always wanted to make , though bette davis , cast as joan , would have killed him .  #1=5 #-1=0"
      }, 
      {
       "output_type": "stream", 
       "stream": "stdout", 
       "text": "\nCORRECT: it&apos;s a great american adventure and a wonderful film to bring to imax .  #1=4 #-1=1"
      }, 
      {
       "output_type": "stream", 
       "stream": "stdout", 
       "text": "\nCORRECT: satisfyingly scarifying , fresh and old-fashioned at the same time .  #1=5 #-1=0"
      }, 
      {
       "output_type": "stream", 
       "stream": "stdout", 
       "text": "\nERROR: oh , james ! your 20th outing shows off a lot of stamina and vitality , and get this , madonna&apos;s cameo doesn&apos;t suck !  #1=1 #-1=4"
      }, 
      {
       "output_type": "stream", 
       "stream": "stdout", 
       "text": "\nCORRECT: a genuine mind-bender .  #1=5 #-1=0\nCORRECT: that death is merely a transition is a common tenet in the world&apos;s religions . this deeply spiritual film taps into the meaning and consolation in afterlife communications .  #1=4 #-1=1"
      }, 
      {
       "output_type": "stream", 
       "stream": "stdout", 
       "text": "\nCORRECT: there is something that is so meditative and lyrical about babak payami&apos;s boldly quirky iranian drama secret ballot . . . a charming and evoking little ditty that manages to show the gentle and humane side of middle eastern world politics #1=4 #-1=1"
      }, 
      {
       "output_type": "stream", 
       "stream": "stdout", 
       "text": "\nCORRECT: a huge box-office hit in korea , shiri is a must for genre fans .  #1=5 #-1=0"
      }, 
      {
       "output_type": "stream", 
       "stream": "stdout", 
       "text": "\nCORRECT:  . . . planos fijos , tomas largas , un ritmo pausado y una sutil observaci\u00f3n de sus personajes , sin estridencias ni grandes revelaciones .  #1=3 #-1=2"
      }, 
      {
       "output_type": "stream", 
       "stream": "stdout", 
       "text": "\nCORRECT: i&apos;m not a fan of the phrase &apos;life affirming&apos; because it usually means &apos;schmaltzy , &apos; but real women have curves truly is life affirming .  #1=4 #-1=1"
      }, 
      {
       "output_type": "stream", 
       "stream": "stdout", 
       "text": "\nCORRECT: the symbols float like butterflies and the spinning styx sting like bees . i wanted more .  #1=4 #-1=1"
      }, 
      {
       "output_type": "stream", 
       "stream": "stdout", 
       "text": "\nERROR: if it&apos;s unnerving suspense you&apos;re after -- you&apos;ll find it with ring , an indisputably spooky film ; with a screenplay to die for .  #1=2 #-1=3"
      }, 
      {
       "output_type": "stream", 
       "stream": "stdout", 
       "text": "\nERROR: the art direction and costumes are gorgeous and finely detailed , and kurys&apos; direction is clever and insightful .  #1=2 #-1=3"
      }, 
      {
       "output_type": "stream", 
       "stream": "stdout", 
       "text": "\nCORRECT: red dragon makes one appreciate silence of the lambs .  #1=4 #-1=1"
      }, 
      {
       "output_type": "stream", 
       "stream": "stdout", 
       "text": "\nCORRECT: proves a servicable world war ii drama that can&apos;t totally hide its contrivances , but it at least calls attention to a problem hollywood too long has ignored .  #1=3 #-1=2"
      }, 
      {
       "output_type": "stream", 
       "stream": "stdout", 
       "text": "\nCORRECT: leigh isn&apos;t breaking new ground , but he knows how a daily grind can kill love .  #1=4 #-1=1"
      }, 
      {
       "output_type": "stream", 
       "stream": "stdout", 
       "text": "\nERROR: while broomfield&apos;s film doesn&apos;t capture the effect of these tragic deaths on hip-hop culture , it succeeds as a powerful look at a failure of our justice system .  #1=2 #-1=3"
      }, 
      {
       "output_type": "stream", 
       "stream": "stdout", 
       "text": "\nERROR:  . . . strips bible stores of the potential for sanctimoniousness , making them meaningful for both kids and church-wary adults .  #1=2 #-1=3"
      }, 
      {
       "output_type": "stream", 
       "stream": "stdout", 
       "text": "\nCORRECT: laugh-out-loud lines , adorably ditsy but heartfelt performances , and sparkling , bittersweet dialogue that cuts to the chase of the modern girl&apos;s dilemma .  #1=3 #-1=2"
      }, 
      {
       "output_type": "stream", 
       "stream": "stdout", 
       "text": "\nCORRECT: tends to pile too many &quot; serious issues &quot; on its plate at times , yet remains fairly light , always entertaining , and smartly written .  #1=3 #-1=2"
      }, 
      {
       "output_type": "stream", 
       "stream": "stdout", 
       "text": "\nCORRECT: a solidly entertaining little film .  #1=5 #-1=0"
      }, 
      {
       "output_type": "stream", 
       "stream": "stdout", 
       "text": "\nCORRECT: it&apos;s an entertaining movie , and the effects , boosted to the size of a downtown hotel , will all but take you to outer space .  #1=3 #-1=2"
      }, 
      {
       "output_type": "stream", 
       "stream": "stdout", 
       "text": "\nCORRECT: sayles has a knack for casting , often resurrecting performers who rarely work in movies now . . . and drawing flavorful performances from bland actors .  #1=5 #-1=0"
      }, 
      {
       "output_type": "stream", 
       "stream": "stdout", 
       "text": "\nCORRECT: despite an overwrought ending , the film works as well as it does because of the performances .  #1=4 #-1=1"
      }, 
      {
       "output_type": "stream", 
       "stream": "stdout", 
       "text": "\nCORRECT: a passionately inquisitive film determined to uncover the truth and hopefully inspire action .  #1=3 #-1=2"
      }, 
      {
       "output_type": "stream", 
       "stream": "stdout", 
       "text": "\nCORRECT: though nijinsky&apos;s words grow increasingly disturbed , the film maintains a beguiling serenity and poise that make it accessible for a non-narrative feature .  #1=3 #-1=2"
      }, 
      {
       "output_type": "stream", 
       "stream": "stdout", 
       "text": "\nCORRECT: a muddle splashed with bloody beauty as vivid as any scorsese has ever given us .  #1=4 #-1=1"
      }, 
      {
       "output_type": "stream", 
       "stream": "stdout", 
       "text": "\nERROR: from both a great and a terrible story , mr . nelson has made a film that is an undeniably worthy and devastating experience .  #1=1 #-1=4"
      }, 
      {
       "output_type": "stream", 
       "stream": "stdout", 
       "text": "\nCORRECT: spider-man is about growing strange hairs , getting a more mature body , and finding it necessary to hide new secretions from the parental units .  #1=4 #-1=1"
      }, 
      {
       "output_type": "stream", 
       "stream": "stdout", 
       "text": "\nERROR: the first shocking thing about sorority boys is that it&apos;s actually watchable . even more baffling is that it&apos;s funny .  #1=0 #-1=5"
      }, 
      {
       "output_type": "stream", 
       "stream": "stdout", 
       "text": "\nERROR: highlighted by a gritty style and an excellent cast , it&apos;s better than one might expect when you look at the list of movies starring ice-t in a major role .  #1=2 #-1=3"
      }, 
      {
       "output_type": "stream", 
       "stream": "stdout", 
       "text": "\nCORRECT: neither quite a comedy nor a romance , more of an impish divertissement of themes that interest attal and gainsbourg -- they live together -- the film has a lot of charm .  #1=3 #-1=2"
      }, 
      {
       "output_type": "stream", 
       "stream": "stdout", 
       "text": "\nCORRECT: first and foremost . . . the reason to go see &quot; blue crush &quot; is the phenomenal , water-born cinematography by david hennings .  #1=4 #-1=1"
      }, 
      {
       "output_type": "stream", 
       "stream": "stdout", 
       "text": "\nERROR: a visionary marvel , but it&apos;s lacking a depth in storytelling usually found in anime like this .  #1=2 #-1=3"
      }, 
      {
       "output_type": "stream", 
       "stream": "stdout", 
       "text": "\nERROR: the problems and characters it reveals are universal and involving , and the film itself -- as well its delightful cast -- is so breezy , pretty and gifted , it really won my heart .  #1=0 #-1=5"
      }, 
      {
       "output_type": "stream", 
       "stream": "stdout", 
       "text": "\nCORRECT: in his latest effort , storytelling , solondz has finally made a movie that isn&apos;t just offensive -- it also happens to be good .  #1=3 #-1=2"
      }, 
      {
       "output_type": "stream", 
       "stream": "stdout", 
       "text": "\nCORRECT: how i killed my father would be a rarity in hollywood . it&apos;s an actor&apos;s showcase that accomplishes its primary goal without the use of special effects , but rather by emphasizing the characters -- including the supporting ones .  #1=3 #-1=2"
      }, 
      {
       "output_type": "stream", 
       "stream": "stdout", 
       "text": "\nERROR: i just saw this movie . . . well , it&apos;s probably not accurate to call it a movie .  #1=1 #-1=4"
      }, 
      {
       "output_type": "stream", 
       "stream": "stdout", 
       "text": "\nERROR: what&apos;s most memorable about circuit is that it&apos;s shot on digital video , whose tiny camera enables shafer to navigate spaces both large . . . and small . . . with considerable aplomb .  #1=2 #-1=3"
      }, 
      {
       "output_type": "stream", 
       "stream": "stdout", 
       "text": "\nERROR: scherfig , the writer-director , has made a film so unabashedly hopeful that it actually makes the heart soar . yes , soar .  #1=1 #-1=4"
      }, 
      {
       "output_type": "stream", 
       "stream": "stdout", 
       "text": "\nCORRECT: a delicious and delicately funny look at the residents of a copenhagen neighborhood coping with the befuddling complications life tosses at them .  #1=3 #-1=2"
      }, 
      {
       "output_type": "stream", 
       "stream": "stdout", 
       "text": "\nERROR:  &quot; what really happened ? &quot; is a question for philosophers , not filmmakers ; all the filmmakers need to do is engage an audience .  #1=2 #-1=3"
      }, 
      {
       "output_type": "stream", 
       "stream": "stdout", 
       "text": "\nCORRECT: soderbergh , like kubrick before him , may not touch the planet&apos;s skin , but understands the workings of its spirit .  #1=4 #-1=1"
      }, 
      {
       "output_type": "stream", 
       "stream": "stdout", 
       "text": "\nCORRECT: much credit must be given to the water-camera operating team of don king , sonny miller , and michael stewart . their work is fantastic .  #1=4 #-1=1"
      }, 
      {
       "output_type": "stream", 
       "stream": "stdout", 
       "text": "\nCORRECT: crush is so warm and fuzzy you might be able to forgive its mean-spirited second half .  #1=4 #-1=1"
      }, 
      {
       "output_type": "stream", 
       "stream": "stdout", 
       "text": "\nERROR: franco is an excellent choice for the walled-off but combustible hustler , but he does not give the transcendent performance sonny needs to overcome gaps in character development and story logic .  #1=1 #-1=4"
      }, 
      {
       "output_type": "stream", 
       "stream": "stdout", 
       "text": "\nCORRECT: tsai ming-liang&apos;s witty , wistful new film , what time is it there ? , is a temporal inquiry that shoulders its philosophical burden lightly .  #1=5 #-1=0"
      }, 
      {
       "output_type": "stream", 
       "stream": "stdout", 
       "text": "\nERROR: the pianist lacks the quick emotional connections of steven spielberg&apos;s schindler&apos;s list . but mr . polanski creates images even more haunting than those in mr . spielberg&apos;s 1993 classic .  #1=2 #-1=3"
      }, 
      {
       "output_type": "stream", 
       "stream": "stdout", 
       "text": "\nCORRECT: steers , in his feature film debut , has created a brilliant motion picture .  #1=3 #-1=2"
      }, 
      {
       "output_type": "stream", 
       "stream": "stdout", 
       "text": "\nCORRECT: a brilliant , absurd collection of vignettes that , in their own idiosyncratic way , sum up the strange horror of life in the new millennium .  #1=5 #-1=0"
      }, 
      {
       "output_type": "stream", 
       "stream": "stdout", 
       "text": "\nCORRECT: as warm as it is wise , deftly setting off uproarious humor with an underlying seriousness that sneaks up on the viewer , providing an experience that is richer than anticipated .  #1=5 #-1=0"
      }, 
      {
       "output_type": "stream", 
       "stream": "stdout", 
       "text": "\nCORRECT: the film may not hit as hard as some of the better drug-related pictures , but it still manages to get a few punches in .  #1=5 #-1=0"
      }, 
      {
       "output_type": "stream", 
       "stream": "stdout", 
       "text": "\nCORRECT: old-fashioned but thoroughly satisfying entertainment .  #1=4 #-1=1"
      }, 
      {
       "output_type": "stream", 
       "stream": "stdout", 
       "text": "\nCORRECT: an energizing , intoxicating documentary charting the rise of hip-hop culture in general and the art of scratching ( or turntablism ) in particular .  #1=5 #-1=0"
      }, 
      {
       "output_type": "stream", 
       "stream": "stdout", 
       "text": "\nCORRECT: a fun family movie that&apos;s suitable for all ages -- a movie that will make you laugh , cry and realize , &apos;it&apos;s never too late to believe in your dreams . &apos; #1=4 #-1=1"
      }, 
      {
       "output_type": "stream", 
       "stream": "stdout", 
       "text": "\nCORRECT: if you open yourself up to mr . reggio&apos;s theory of this imagery as the movie&apos;s set . . . it can impart an almost visceral sense of dislocation and change .  #1=4 #-1=1"
      }, 
      {
       "output_type": "stream", 
       "stream": "stdout", 
       "text": "\nCORRECT: i had a dream that a smart comedy would come along to rescue me from a summer of teen-driven , toilet-humor codswallop , and its name was earnest .  #1=3 #-1=2"
      }, 
      {
       "output_type": "stream", 
       "stream": "stdout", 
       "text": "\nCORRECT: even though the film doesn&apos;t manage to hit all of its marks , it&apos;s still entertaining to watch the target practice .  #1=4 #-1=1"
      }, 
      {
       "output_type": "stream", 
       "stream": "stdout", 
       "text": "\nCORRECT: where this was lazy but enjoyable , a formula comedy redeemed by its stars , that is even lazier and far less enjoyable .  #1=3 #-1=2"
      }, 
      {
       "output_type": "stream", 
       "stream": "stdout", 
       "text": "\nCORRECT: the 3-d vistas from orbit , with the space station suspended like a huge set of wind chimes over the great blue globe , are stanzas of breathtaking , awe-inspiring visual poetry .  #1=3 #-1=2"
      }, 
      {
       "output_type": "stream", 
       "stream": "stdout", 
       "text": "\nCORRECT: the attraction between these two marginal characters is complex from the start -- and , refreshingly , stays that way .  #1=5 #-1=0"
      }, 
      {
       "output_type": "stream", 
       "stream": "stdout", 
       "text": "\nCORRECT: fans of the modern day hong kong action film finally have the worthy successor to a better tomorrow and the killer which they have been patiently waiting for .  #1=4 #-1=1"
      }, 
      {
       "output_type": "stream", 
       "stream": "stdout", 
       "text": "\nCORRECT: even when he&apos;s not at his most critically insightful , godard can still be smarter than any 50 other filmmakers still at work .  #1=3 #-1=2"
      }, 
      {
       "output_type": "stream", 
       "stream": "stdout", 
       "text": "\nCORRECT: what sets this romantic comedy apart from most hollywood romantic comedies is its low-key way of tackling what seems like done-to-death material .  #1=3 #-1=2"
      }, 
      {
       "output_type": "stream", 
       "stream": "stdout", 
       "text": "\nERROR: has enough wit , energy and geniality to please not only the fanatical adherents on either side , but also people who know nothing about the subject and think they&apos;re not interested .  #1=1 #-1=4"
      }, 
      {
       "output_type": "stream", 
       "stream": "stdout", 
       "text": "\nCORRECT: this seductive tease of a thriller gets the job done . it&apos;s a scorcher .  #1=3 #-1=2"
      }, 
      {
       "output_type": "stream", 
       "stream": "stdout", 
       "text": "\nCORRECT: bittersweet comedy/drama full of life , hand gestures , and some really adorable italian guys .  #1=3 #-1=2"
      }, 
      {
       "output_type": "stream", 
       "stream": "stdout", 
       "text": "\nERROR: works as pretty contagious fun .  #1=2 #-1=3"
      }, 
      {
       "output_type": "stream", 
       "stream": "stdout", 
       "text": "\nCORRECT: the best didacticism is one carried by a strong sense of humanism , and bertrand tavernier&apos;s oft-brilliant safe conduct ( &quot; laissez-passer &quot; ) wears its heart on its sleeve .  #1=5 #-1=0"
      }, 
      {
       "output_type": "stream", 
       "stream": "stdout", 
       "text": "\nCORRECT: a realistically terrifying movie that puts another notch in the belt of the long list of renegade-cop tales .  #1=4 #-1=1"
      }, 
      {
       "output_type": "stream", 
       "stream": "stdout", 
       "text": "\nERROR: a charming , banter-filled comedy . . . one of those airy cinematic bon bons whose aims -- and by extension , accomplishments -- seem deceptively slight on the surface .  #1=2 #-1=3"
      }, 
      {
       "output_type": "stream", 
       "stream": "stdout", 
       "text": "\nCORRECT: a film with almost as many delights for adults as there are for children and dog lovers .  #1=4 #-1=1"
      }, 
      {
       "output_type": "stream", 
       "stream": "stdout", 
       "text": "\nERROR: serious movie-goers embarking upon this journey will find that the road to perdition leads to a satisfying destination .  #1=2 #-1=3"
      }, 
      {
       "output_type": "stream", 
       "stream": "stdout", 
       "text": "\nCORRECT: heartwarming and gently comic even as the film breaks your heart .  #1=5 #-1=0"
      }, 
      {
       "output_type": "stream", 
       "stream": "stdout", 
       "text": "\nCORRECT: caruso sometimes descends into sub-tarantino cuteness . . . but for the most part he makes sure the salton sea works the way a good noir should , keeping it tight and nasty .  #1=3 #-1=2"
      }, 
      {
       "output_type": "stream", 
       "stream": "stdout", 
       "text": "\nCORRECT: a &quot; black austin powers ? &quot; i prefer to think of it as &quot; pootie tang with a budget . &quot; sa da tay !  #1=4 #-1=1"
      }, 
      {
       "output_type": "stream", 
       "stream": "stdout", 
       "text": "\nCORRECT: oddly , the film isn&apos;t nearly as downbeat as it sounds , but strikes a tone that&apos;s alternately melancholic , hopeful and strangely funny .  #1=4 #-1=1"
      }, 
      {
       "output_type": "stream", 
       "stream": "stdout", 
       "text": "\nCORRECT: i would be shocked if there was actually one correct interpretation , but that shouldn&apos;t make the movie or the discussion any less enjoyable .  #1=3 #-1=2"
      }, 
      {
       "output_type": "stream", 
       "stream": "stdout", 
       "text": "\nCORRECT: chouraqui brings documentary-like credibility to the horrors of the killing field and the barbarism of &apos;ethnic cleansing . &apos; #1=4 #-1=1"
      }, 
      {
       "output_type": "stream", 
       "stream": "stdout", 
       "text": "\nCORRECT: the best thing i can say about this film is that i can&apos;t wait to see what the director does next .  #1=3 #-1=2"
      }, 
      {
       "output_type": "stream", 
       "stream": "stdout", 
       "text": "\nCORRECT: smarter than its commercials make it seem .  #1=3 #-1=2"
      }, 
      {
       "output_type": "stream", 
       "stream": "stdout", 
       "text": "\nCORRECT: great character interaction .  #1=4 #-1=1"
      }, 
      {
       "output_type": "stream", 
       "stream": "stdout", 
       "text": "\nERROR: one of the funnier movies in town .  #1=0 #-1=5"
      }, 
      {
       "output_type": "stream", 
       "stream": "stdout", 
       "text": "\nERROR: campanella&apos;s competent direction and his excellent cast overcome the obstacles of a predictable outcome and a screenplay that glosses over rafael&apos;s evolution .  #1=2 #-1=3"
      }, 
      {
       "output_type": "stream", 
       "stream": "stdout", 
       "text": "\nCORRECT: by turns very dark and very funny .  #1=5 #-1=0"
      }, 
      {
       "output_type": "stream", 
       "stream": "stdout", 
       "text": "\nCORRECT: steven soderbergh doesn&apos;t remake andrei tarkovsky&apos;s solaris so much as distill it .  #1=4 #-1=1"
      }, 
      {
       "output_type": "stream", 
       "stream": "stdout", 
       "text": "\nCORRECT: for more than two decades mr . nachtwey has traveled to places in the world devastated by war , famine and poverty and documented the cruelty and suffering he has found with an devastating , eloquent clarity .  #1=4 #-1=1"
      }, 
      {
       "output_type": "stream", 
       "stream": "stdout", 
       "text": "\nCORRECT: simultaneously heartbreakingly beautiful and exquisitely sad .  #1=5 #-1=0"
      }, 
      {
       "output_type": "stream", 
       "stream": "stdout", 
       "text": "\nCORRECT: though overall an overwhelmingly positive portrayal , the film doesn&apos;t ignore the more problematic aspects of brown&apos;s life .  #1=4 #-1=1"
      }, 
      {
       "output_type": "stream", 
       "stream": "stdout", 
       "text": "\nCORRECT: the philosophical musings of the dialogue jar against the tawdry soap opera antics of the film&apos;s action in a way that is surprisingly enjoyable .  #1=3 #-1=2"
      }, 
      {
       "output_type": "stream", 
       "stream": "stdout", 
       "text": "\nCORRECT: not too fancy , not too filling , not too fluffy , but definitely tasty and sweet .  #1=4 #-1=1"
      }, 
      {
       "output_type": "stream", 
       "stream": "stdout", 
       "text": "\nCORRECT: quando tiros em columbine acerta o alvo ( com o perd\u00e3o do trocadilho ) , n\u00e3o h\u00e1 como negar o brilhantismo da argumenta\u00e7\u00e3o de seu diretor .  #1=4 #-1=1"
      }, 
      {
       "output_type": "stream", 
       "stream": "stdout", 
       "text": "\nCORRECT: director lee has a true cinematic knack , but it&apos;s also nice to see a movie with its heart so thoroughly , unabashedly on its sleeve .  #1=5 #-1=0"
      }, 
      {
       "output_type": "stream", 
       "stream": "stdout", 
       "text": "\nCORRECT: as allen&apos;s execution date closes in , the documentary gives an especially poignant portrait of her friendship with the never flagging legal investigator david presson .  #1=5 #-1=0"
      }, 
      {
       "output_type": "stream", 
       "stream": "stdout", 
       "text": "\nCORRECT: jones has tackled a meaty subject and drawn engaging characters while peppering the pages with memorable zingers .  #1=4 #-1=1"
      }, 
      {
       "output_type": "stream", 
       "stream": "stdout", 
       "text": "\nCORRECT: a vivid , spicy footnote to history , and a movie that grips and holds you in rapt attention from start to finish .  #1=3 #-1=2"
      }, 
      {
       "output_type": "stream", 
       "stream": "stdout", 
       "text": "\nCORRECT: if s&amp;m seems like a strange route to true love , maybe it is , but it&apos;s to this film&apos;s ( and its makers&apos; ) credit that we believe that that&apos;s exactly what these two people need to find each other -- and themselves .  #1=4 #-1=1"
      }, 
      {
       "output_type": "stream", 
       "stream": "stdout", 
       "text": "\nCORRECT: if the film&apos;s vision of sport as a secular religion is a bit cloying , its through-line of family and community is heartening in the same way that each season marks a new start .  #1=4 #-1=1"
      }, 
      {
       "output_type": "stream", 
       "stream": "stdout", 
       "text": "\nCORRECT: one of the best of a growing strain of daring films . . . that argue that any sexual relationship that doesn&apos;t hurt anyone and works for its participants is a relationship that is worthy of our respect .  #1=4 #-1=1"
      }, 
      {
       "output_type": "stream", 
       "stream": "stdout", 
       "text": "\nERROR: \u2026an adorably whimsical comedy that deserves more than a passing twinkle .  #1=1 #-1=4"
      }, 
      {
       "output_type": "stream", 
       "stream": "stdout", 
       "text": "\nCORRECT: an engrossing story that combines psychological drama , sociological reflection , and high-octane thriller .  #1=5 #-1=0"
      }, 
      {
       "output_type": "stream", 
       "stream": "stdout", 
       "text": "\nCORRECT: it&apos;s easy to be cynical about documentaries in which underdogs beat the odds and the human spirit triumphs , but westbrook&apos;s foundation and dalrymple&apos;s film earn their uplift .  #1=3 #-1=2"
      }, 
      {
       "output_type": "stream", 
       "stream": "stdout", 
       "text": "\nCORRECT: mel gibson fights the good fight in vietnam in director randall wallace&apos;s flag-waving war flick with a core of decency .  #1=4 #-1=1"
      }, 
      {
       "output_type": "stream", 
       "stream": "stdout", 
       "text": "\nERROR: there&apos;s real visual charge to the filmmaking , and a strong erotic spark to the most crucial lip-reading sequence .  #1=1 #-1=4"
      }, 
      {
       "output_type": "stream", 
       "stream": "stdout", 
       "text": "\nCORRECT: a brutal and funny work . nicole holofcenter , the insightful writer/director responsible for this illuminating comedy doesn&apos;t wrap the proceedings up neatly but the ideas tie together beautifully .  #1=3 #-1=2"
      }, 
      {
       "output_type": "stream", 
       "stream": "stdout", 
       "text": "\nCORRECT: the film is a blunt indictment , part of a perhaps surreal campaign to bring kissinger to trial for crimes against humanity .  #1=5 #-1=0"
      }, 
      {
       "output_type": "stream", 
       "stream": "stdout", 
       "text": "\nCORRECT: one of the most important and exhilarating forms of animated filmmaking since old walt doodled steamboat willie .  #1=4 #-1=1"
      }, 
      {
       "output_type": "stream", 
       "stream": "stdout", 
       "text": "\nERROR: move over bond ; this girl deserves a sequel .  #1=2 #-1=3"
      }, 
      {
       "output_type": "stream", 
       "stream": "stdout", 
       "text": "\nERROR: the kind of trifle that date nights were invented for .  #1=2 #-1=3"
      }, 
      {
       "output_type": "stream", 
       "stream": "stdout", 
       "text": "\nCORRECT:  . it&apos;s a testament to the film&apos;s considerable charm that it succeeds in entertaining , despite playing out like a feature-length sitcom replete with stereotypical familial quandaries . there&apos;s a sheer unbridled delight in the way the story unfurls . . .  #1=4 #-1=1"
      }, 
      {
       "output_type": "stream", 
       "stream": "stdout", 
       "text": "\nCORRECT: tells ( the story ) with such atmospheric ballast that shrugging off the plot&apos;s persnickety problems is simply a matter of ( being ) in a shrugging mood .  #1=5 #-1=0"
      }, 
      {
       "output_type": "stream", 
       "stream": "stdout", 
       "text": "\nCORRECT: the film is hard to dismiss -- moody , thoughtful , and lit by flashes of mordant humor .  #1=3 #-1=2"
      }, 
      {
       "output_type": "stream", 
       "stream": "stdout", 
       "text": "\nERROR: if the man from elysian fields is doomed by its smallness , it is also elevated by it--the kind of movie that you enjoy more because you&apos;re one of the lucky few who sought it out .  #1=1 #-1=4"
      }, 
      {
       "output_type": "stream", 
       "stream": "stdout", 
       "text": "\nCORRECT: what emerges is an unsettling picture of childhood innocence combined with indoctrinated prejudice . promises is a compelling piece that demonstrates just how well children can be trained to live out and carry on their parents&apos; anguish .  #1=4 #-1=1"
      }, 
      {
       "output_type": "stream", 
       "stream": "stdout", 
       "text": "\nERROR: meticulously uncovers a trail of outrageous force and craven concealment .  #1=1 #-1=4"
      }, 
      {
       "output_type": "stream", 
       "stream": "stdout", 
       "text": "\nCORRECT: hey , happy ! is many things -- stoner midnight flick , sci-fi deconstruction , gay fantasia -- but above all it&apos;s a love story as sanguine as its title .  #1=4 #-1=1"
      }, 
      {
       "output_type": "stream", 
       "stream": "stdout", 
       "text": "\nCORRECT: you won&apos;t look at religious fanatics -- or backyard sheds -- the same way again .  #1=4 #-1=1"
      }, 
      {
       "output_type": "stream", 
       "stream": "stdout", 
       "text": "\nCORRECT: at its best . . . festival in cannes bubbles with the excitement of the festival in cannes .  #1=3 #-1=2"
      }, 
      {
       "output_type": "stream", 
       "stream": "stdout", 
       "text": "\nCORRECT: there is a general air of exuberance in all about the benjamins that&apos;s hard to resist .  #1=3 #-1=2"
      }, 
      {
       "output_type": "stream", 
       "stream": "stdout", 
       "text": "\nCORRECT: a lovably old-school hollywood confection .  #1=5 #-1=0"
      }, 
      {
       "output_type": "stream", 
       "stream": "stdout", 
       "text": "\nCORRECT: i&apos;m happy to have seen it -- not as an alternate version , but as the ultimate exercise in viewing deleted scenes .  #1=3 #-1=2"
      }, 
      {
       "output_type": "stream", 
       "stream": "stdout", 
       "text": "\nCORRECT: by turns gripping , amusing , tender and heart-wrenching , laissez-passer has all the earmarks of french cinema at its best .  #1=3 #-1=2"
      }, 
      {
       "output_type": "stream", 
       "stream": "stdout", 
       "text": "\nCORRECT: the warnings to resist temptation in this film . . . are blunt and challenging and offer no easy rewards for staying clean .  #1=5 #-1=0"
      }, 
      {
       "output_type": "stream", 
       "stream": "stdout", 
       "text": "\nERROR: wonder of wonders -- a teen movie with a humanistic message .  #1=1 #-1=4"
      }, 
      {
       "output_type": "stream", 
       "stream": "stdout", 
       "text": "\nCORRECT: a quirky comedy set in newfoundland that cleverly captures the dry wit that&apos;s so prevalent on the rock .  #1=3 #-1=2"
      }, 
      {
       "output_type": "stream", 
       "stream": "stdout", 
       "text": "\nERROR: peppered with witty dialogue and inventive moments .  #1=2 #-1=3"
      }, 
      {
       "output_type": "stream", 
       "stream": "stdout", 
       "text": "\nERROR: i&apos;d rather watch a rerun of the powerpuff girls #1=1 #-1=4"
      }, 
      {
       "output_type": "stream", 
       "stream": "stdout", 
       "text": "\nCORRECT: with the prospect of films like kangaroo jack about to burst across america&apos;s winter movie screens it&apos;s a pleasure to have a film like the hours as an alternative .  #1=3 #-1=2"
      }, 
      {
       "output_type": "stream", 
       "stream": "stdout", 
       "text": "\nERROR: the wonderful combination of the sweetness and the extraordinary technical accomplishments of the first film are maintained , but its overall impact falls a little flat with a storyline that never quite delivers the original magic .  #1=2 #-1=3"
      }, 
      {
       "output_type": "stream", 
       "stream": "stdout", 
       "text": "\nERROR: like its title character , this nicholas nickleby finds itself in reduced circumstances -- and , also like its hero , it remains brightly optimistic , coming through in the end .  #1=1 #-1=4"
      }, 
      {
       "output_type": "stream", 
       "stream": "stdout", 
       "text": "\nERROR: as a thoughtful and unflinching examination of an alternative lifestyle , sex with strangers is a success .  #1=2 #-1=3"
      }, 
      {
       "output_type": "stream", 
       "stream": "stdout", 
       "text": "\nCORRECT: unpretentious , charming , quirky , original #1=5 #-1=0"
      }, 
      {
       "output_type": "stream", 
       "stream": "stdout", 
       "text": "\nCORRECT: spinning a web of dazzling entertainment may be overstating it , but &quot; spider-man &quot; certainly delivers the goods .  #1=5 #-1=0"
      }, 
      {
       "output_type": "stream", 
       "stream": "stdout", 
       "text": "\nERROR: other than the slightly flawed ( and fairly unbelievable ) finale , everything else is top shelf .  #1=2 #-1=3"
      }, 
      {
       "output_type": "stream", 
       "stream": "stdout", 
       "text": "\nCORRECT: this fascinating look at israel in ferment feels as immediate as the latest news footage from gaza and , because of its heightened , well-shaped dramas , twice as powerful .  #1=5 #-1=0"
      }, 
      {
       "output_type": "stream", 
       "stream": "stdout", 
       "text": "\nERROR: manages to delight without much of a story .  #1=2 #-1=3"
      }, 
      {
       "output_type": "stream", 
       "stream": "stdout", 
       "text": "\nCORRECT: there&apos;s no denying that burns is a filmmaker with a bright future ahead of him .  #1=5 #-1=0"
      }, 
      {
       "output_type": "stream", 
       "stream": "stdout", 
       "text": "\nERROR: i have a confession to make : i didn&apos;t particularly like e . t . the first time i saw it as a young boy . that is because - damn it ! - i also wanted a little alien as a friend !  #1=2 #-1=3"
      }, 
      {
       "output_type": "stream", 
       "stream": "stdout", 
       "text": "\nERROR: fairy-tale formula , serves as a paper skeleton for some very good acting , dialogue , comedy , direction and especially charm .  #1=2 #-1=3"
      }, 
      {
       "output_type": "stream", 
       "stream": "stdout", 
       "text": "\nERROR: a genuinely funny ensemble comedy that also asks its audience -- in a heartwarming , nonjudgmental kind of way -- to consider what we value in our daily lives .  #1=2 #-1=3"
      }, 
      {
       "output_type": "stream", 
       "stream": "stdout", 
       "text": "\nERROR: though the aboriginal aspect lends the ending an extraordinary poignancy , and the story itself could be played out in any working class community in the nation .  #1=2 #-1=3"
      }, 
      {
       "output_type": "stream", 
       "stream": "stdout", 
       "text": "\nCORRECT: an energetic and engaging film that never pretends to be something it isn&apos;t .  #1=5 #-1=0"
      }, 
      {
       "output_type": "stream", 
       "stream": "stdout", 
       "text": "\nCORRECT: a violent initiation rite for the audience , as much as it is for angelique , the [opening] dance guarantees karmen&apos;s enthronement among the cinema&apos;s memorable women .  #1=3 #-1=2"
      }, 
      {
       "output_type": "stream", 
       "stream": "stdout", 
       "text": "\nCORRECT: an animation landmark as monumental as disney&apos;s 1937 breakthrough snow white and the seven dwarfs .  #1=5 #-1=0"
      }, 
      {
       "output_type": "stream", 
       "stream": "stdout", 
       "text": "\nERROR: an entertaining , if ultimately minor , thriller .  #1=2 #-1=3"
      }, 
      {
       "output_type": "stream", 
       "stream": "stdout", 
       "text": "\nERROR: sex with strangers is fascinating . . .  #1=2 #-1=3"
      }, 
      {
       "output_type": "stream", 
       "stream": "stdout", 
       "text": "\nCORRECT: a subtle , poignant picture of goodness that is flawed , compromised and sad .  #1=5 #-1=0"
      }, 
      {
       "output_type": "stream", 
       "stream": "stdout", 
       "text": "\nCORRECT: a wry , affectionate delight .  #1=4 #-1=1"
      }, 
      {
       "output_type": "stream", 
       "stream": "stdout", 
       "text": "\nCORRECT: the acting in pauline and paulette is good all round , but what really sets the film apart is debrauwer&apos;s refusal to push the easy emotional buttons .  #1=3 #-1=2"
      }, 
      {
       "output_type": "stream", 
       "stream": "stdout", 
       "text": "\nCORRECT: one of those joyous films that leaps over national boundaries and celebrates universal human nature .  #1=5 #-1=0"
      }, 
      {
       "output_type": "stream", 
       "stream": "stdout", 
       "text": "\nCORRECT: a penetrating glimpse into the tissue-thin ego of the stand-up comic .  #1=5 #-1=0"
      }, 
      {
       "output_type": "stream", 
       "stream": "stdout", 
       "text": "\nERROR: kids should have a stirring time at this beautifully drawn movie . and adults will at least have a dream image of the west to savor whenever the film&apos;s lamer instincts are in the saddle .  #1=2 #-1=3"
      }, 
      {
       "output_type": "stream", 
       "stream": "stdout", 
       "text": "\nCORRECT: paid in full is remarkably engaging despite being noticeably derivative of goodfellas and at least a half dozen other trouble-in-the-ghetto flicks .  #1=3 #-1=2"
      }, 
      {
       "output_type": "stream", 
       "stream": "stdout", 
       "text": "\nCORRECT: less cinematically powerful than quietly and deeply moving , which is powerful in itself .  #1=3 #-1=2"
      }, 
      {
       "output_type": "stream", 
       "stream": "stdout", 
       "text": "\nCORRECT: waydowntown manages to nail the spirit-crushing ennui of denuded urban living without giving in to it .  #1=5 #-1=0"
      }, 
      {
       "output_type": "stream", 
       "stream": "stdout", 
       "text": "\nCORRECT: each of these stories has the potential for touched by an angel simplicity and sappiness , but thirteen conversations about one thing , for all its generosity and optimism , never resorts to easy feel-good sentiments .  #1=4 #-1=1"
      }, 
      {
       "output_type": "stream", 
       "stream": "stdout", 
       "text": "\nERROR: if borstal boy isn&apos;t especially realistic , it is an engaging nostalgia piece .  #1=2 #-1=3"
      }, 
      {
       "output_type": "stream", 
       "stream": "stdout", 
       "text": "\nERROR: often demented in a good way , but it is an uneven film for the most part .  #1=2 #-1=3"
      }, 
      {
       "output_type": "stream", 
       "stream": "stdout", 
       "text": "\nCORRECT: the script&apos;s snazzy dialogue establishes a realistic atmosphere that involves us in the unfolding crisis , but the lazy plotting ensures that little of our emotional investment pays off .  #1=4 #-1=1"
      }, 
      {
       "output_type": "stream", 
       "stream": "stdout", 
       "text": "\nCORRECT: maggie smith as the ya-ya member with the o2-tank will absolutely crack you up with her crass , then gasp for gas , verbal deportment .  #1=5 #-1=0"
      }, 
      {
       "output_type": "stream", 
       "stream": "stdout", 
       "text": "\nERROR: this is a movie that refreshes the mind and spirit along with the body , so original is its content , look , and style .  #1=2 #-1=3"
      }, 
      {
       "output_type": "stream", 
       "stream": "stdout", 
       "text": "\nERROR: although i didn&apos;t hate this one , it&apos;s not very good either . it can be safely recommended as a video/dvd babysitter .  #1=1 #-1=4"
      }, 
      {
       "output_type": "stream", 
       "stream": "stdout", 
       "text": "\nCORRECT: another best of the year selection .  #1=3 #-1=2"
      }, 
      {
       "output_type": "stream", 
       "stream": "stdout", 
       "text": "\nCORRECT: the film has the high-buffed gloss and high-octane jolts you expect of de palma , but what makes it transporting is that it&apos;s also one of the smartest , most pleasurable expressions of pure movie love to come from an american director in years .  #1=5 #-1=0"
      }, 
      {
       "output_type": "stream", 
       "stream": "stdout", 
       "text": "\nCORRECT: it&apos;s a very valuable film . . .  #1=4 #-1=1"
      }, 
      {
       "output_type": "stream", 
       "stream": "stdout", 
       "text": "\nCORRECT: max pokes , provokes , takes expressionistic license and hits a nerve . . . as far as art is concerned , it&apos;s mission accomplished .  #1=4 #-1=1"
      }, 
      {
       "output_type": "stream", 
       "stream": "stdout", 
       "text": "\nCORRECT: literary purists may not be pleased , but as far as mainstream matinee-style entertainment goes , it does a bang-up job of pleasing the crowds .  #1=3 #-1=2"
      }, 
      {
       "output_type": "stream", 
       "stream": "stdout", 
       "text": "\nCORRECT: here polanski looks back on those places he saw at childhood , and captures them by freeing them from artefact , and by showing them heartbreakingly drably .  #1=3 #-1=2"
      }, 
      {
       "output_type": "stream", 
       "stream": "stdout", 
       "text": "\nCORRECT: intriguing and stylish .  #1=5 #-1=0\nERROR: the story itself it mostly told through on-camera interviews with several survivors , whose riveting memories are rendered with such clarity that it&apos;s as if it all happened only yesterday .  #1=2 #-1=3"
      }, 
      {
       "output_type": "stream", 
       "stream": "stdout", 
       "text": "\nCORRECT: a compelling story of musical passion against governmental odds .  #1=5 #-1=0"
      }, 
      {
       "output_type": "stream", 
       "stream": "stdout", 
       "text": "\nCORRECT: with &quot; ichi the killer &quot; , takashi miike , japan&apos;s wildest filmmaker gives us a crime fighter carrying more emotional baggage than batman . . .  #1=5 #-1=0"
      }, 
      {
       "output_type": "stream", 
       "stream": "stdout", 
       "text": "\nCORRECT: you never know where changing lanes is going to take you but it&apos;s a heck of a ride . samuel l . jackson is one of the best actors there is .  #1=4 #-1=1"
      }, 
      {
       "output_type": "stream", 
       "stream": "stdout", 
       "text": "\nCORRECT: [breheny&apos;s] lensing of the new zealand and cook island locations captures both the beauty of the land and the people .  #1=4 #-1=1"
      }, 
      {
       "output_type": "stream", 
       "stream": "stdout", 
       "text": "\nCORRECT: an almost unbearably morbid love story .  #1=4 #-1=1"
      }, 
      {
       "output_type": "stream", 
       "stream": "stdout", 
       "text": "\nCORRECT: the wild thornberrys movie has all the sibling rivalry and general family chaos to which anyone can relate .  #1=4 #-1=1"
      }, 
      {
       "output_type": "stream", 
       "stream": "stdout", 
       "text": "\nCORRECT: a forceful drama of an alienated executive who re-invents himself .  #1=4 #-1=1"
      }, 
      {
       "output_type": "stream", 
       "stream": "stdout", 
       "text": "\nCORRECT: spielberg&apos;s realization of a near-future america is masterful . this makes minority report necessary viewing for sci-fi fans , as the film has some of the best special effects ever .  #1=4 #-1=1"
      }, 
      {
       "output_type": "stream", 
       "stream": "stdout", 
       "text": "\nERROR: the gags that fly at such a furiously funny pace that the only rip off that we were aware of was the one we felt when the movie ended so damned soon .  #1=2 #-1=3"
      }, 
      {
       "output_type": "stream", 
       "stream": "stdout", 
       "text": "\nCORRECT: the best film of the year 2002 .  #1=5 #-1=0"
      }, 
      {
       "output_type": "stream", 
       "stream": "stdout", 
       "text": "\nCORRECT: an enthralling , entertaining feature .  #1=4 #-1=1"
      }, 
      {
       "output_type": "stream", 
       "stream": "stdout", 
       "text": "\nCORRECT: stripped almost entirely of such tools as nudity , profanity and violence , labute does manage to make a few points about modern man and his problematic quest for human connection .  #1=3 #-1=2"
      }, 
      {
       "output_type": "stream", 
       "stream": "stdout", 
       "text": "\nERROR: a remarkable movie with an unsatisfying ending , which is just the point .  #1=2 #-1=3"
      }, 
      {
       "output_type": "stream", 
       "stream": "stdout", 
       "text": "\nCORRECT: all in all , brown sugar is a satisfying well-made romantic comedy that&apos;s both charming and well acted . it will guarantee to have you leaving the theater with a smile on your face .  #1=3 #-1=2"
      }, 
      {
       "output_type": "stream", 
       "stream": "stdout", 
       "text": "\nERROR: smith finds amusing juxtapositions that justify his exercise .  #1=2 #-1=3"
      }, 
      {
       "output_type": "stream", 
       "stream": "stdout", 
       "text": "\nCORRECT: working from a surprisingly sensitive script co-written by gianni romoli . . . ozpetek avoids most of the pitfalls you&apos;d expect in such a potentially sudsy set-up .  #1=3 #-1=2"
      }, 
      {
       "output_type": "stream", 
       "stream": "stdout", 
       "text": "\nCORRECT: an older cad instructs a younger lad in zen and the art of getting laid in this prickly indie comedy of manners and misanthropy .  #1=4 #-1=1"
      }, 
      {
       "output_type": "stream", 
       "stream": "stdout", 
       "text": "\nERROR:  &quot; austin powers in goldmember &quot; has the right stuff for silly summer entertainment and has enough laughs to sustain interest to the end .  #1=1 #-1=4"
      }, 
      {
       "output_type": "stream", 
       "stream": "stdout", 
       "text": "\nCORRECT: one of [jaglom&apos;s] better efforts -- a wry and sometime bitter movie about love .  #1=3 #-1=2"
      }, 
      {
       "output_type": "stream", 
       "stream": "stdout", 
       "text": "\nCORRECT: schaeffer isn&apos;t in this film , which may be why it works as well as it does .  #1=5 #-1=0"
      }, 
      {
       "output_type": "stream", 
       "stream": "stdout", 
       "text": "\nCORRECT: a fresh , entertaining comedy that looks at relationships minus traditional gender roles .  #1=5 #-1=0"
      }, 
      {
       "output_type": "stream", 
       "stream": "stdout", 
       "text": "\nCORRECT: although estela bravo&apos;s documentary is cloyingly hagiographic in its portrait of cuban leader fidel castro , it&apos;s still a guilty pleasure to watch .  #1=3 #-1=2"
      }, 
      {
       "output_type": "stream", 
       "stream": "stdout", 
       "text": "\nCORRECT: surprisingly , the film is a hilarious adventure and i shamelessly enjoyed it .  #1=3 #-1=2"
      }, 
      {
       "output_type": "stream", 
       "stream": "stdout", 
       "text": "\nCORRECT: the way home is an ode to unconditional love and compassion garnered from years of seeing it all , a condition only the old are privy to , and . . . often misconstrued as weakness .  #1=3 #-1=2"
      }, 
      {
       "output_type": "stream", 
       "stream": "stdout", 
       "text": "\nCORRECT: brutally honest and told with humor and poignancy , which makes its message resonate .  #1=3 #-1=2"
      }, 
      {
       "output_type": "stream", 
       "stream": "stdout", 
       "text": "\nERROR: if you can read the subtitles ( the opera is sung in italian ) and you like &apos;masterpiece theatre&apos; type costumes , you&apos;ll enjoy this movie .  #1=2 #-1=3"
      }, 
      {
       "output_type": "stream", 
       "stream": "stdout", 
       "text": "\nCORRECT: a pretty funny movie , with most of the humor coming , as before , from the incongruous but chemically perfect teaming of crystal and de niro .  #1=3 #-1=2"
      }, 
      {
       "output_type": "stream", 
       "stream": "stdout", 
       "text": "\nCORRECT: gangster no . 1 is solid , satisfying fare for adults .  #1=4 #-1=1"
      }, 
      {
       "output_type": "stream", 
       "stream": "stdout", 
       "text": "\nCORRECT: this chicago has hugely imaginative and successful casting to its great credit , as well as one terrific score and attitude to spare .  #1=4 #-1=1"
      }, 
      {
       "output_type": "stream", 
       "stream": "stdout", 
       "text": "\nCORRECT: has enough gun battles and throwaway humor to cover up the yawning chasm where the plot should be .  #1=4 #-1=1"
      }, 
      {
       "output_type": "stream", 
       "stream": "stdout", 
       "text": "\nCORRECT: with its jerky hand-held camera and documentary feel , bloody sunday is a sobering recount of a very bleak day in derry .  #1=4 #-1=1"
      }, 
      {
       "output_type": "stream", 
       "stream": "stdout", 
       "text": "\nCORRECT: you will likely prefer to keep on watching .  #1=5 #-1=0"
      }, 
      {
       "output_type": "stream", 
       "stream": "stdout", 
       "text": "\nCORRECT: insomnia loses points when it surrenders to a formulaic bang-bang , shoot-em-up scene at the conclusion . but the performances of pacino , williams , and swank keep the viewer wide-awake all the way through .  #1=3 #-1=2"
      }, 
      {
       "output_type": "stream", 
       "stream": "stdout", 
       "text": "\nCORRECT: what might have been readily dismissed as the tiresome rant of an aging filmmaker still thumbing his nose at convention takes a surprising , subtle turn at the midway point .  #1=3 #-1=2"
      }, 
      {
       "output_type": "stream", 
       "stream": "stdout", 
       "text": "\nCORRECT: at a time when commercialism has squeezed the life out of whatever idealism american moviemaking ever had , godfrey reggio&apos;s career shines like a lonely beacon .  #1=5 #-1=0"
      }, 
      {
       "output_type": "stream", 
       "stream": "stdout", 
       "text": "\nCORRECT: an inuit masterpiece that will give you goosebumps as its uncanny tale of love , communal discord , and justice unfolds .  #1=5 #-1=0"
      }, 
      {
       "output_type": "stream", 
       "stream": "stdout", 
       "text": "\nCORRECT: this is popcorn movie fun with equal doses of action , cheese , ham and cheek ( as well as a serious debt to the road warrior ) , but it feels like unrealized potential #1=4 #-1=1"
      }, 
      {
       "output_type": "stream", 
       "stream": "stdout", 
       "text": "\nCORRECT: it&apos;s a testament to de niro and director michael caton-jones that by movie&apos;s end , we accept the characters and the film , flaws and all .  #1=4 #-1=1"
      }, 
      {
       "output_type": "stream", 
       "stream": "stdout", 
       "text": "\nCORRECT: performances are potent , and the women&apos;s stories are ably intercut and involving .  #1=4 #-1=1"
      }, 
      {
       "output_type": "stream", 
       "stream": "stdout", 
       "text": "\nCORRECT: an enormously entertaining movie , like nothing we&apos;ve ever seen before , and yet completely familiar .  #1=3 #-1=2"
      }, 
      {
       "output_type": "stream", 
       "stream": "stdout", 
       "text": "\nCORRECT: lan yu is a genuine love story , full of traditional layers of awakening and ripening and separation and recovery .  #1=3 #-1=2"
      }, 
      {
       "output_type": "stream", 
       "stream": "stdout", 
       "text": "\nCORRECT: your children will be occupied for 72 minutes .  #1=3 #-1=2"
      }, 
      {
       "output_type": "stream", 
       "stream": "stdout", 
       "text": "\nCORRECT: pull[s] off the rare trick of recreating not only the look of a certain era , but also the feel .  #1=4 #-1=1"
      }, 
      {
       "output_type": "stream", 
       "stream": "stdout", 
       "text": "\nCORRECT: twohy&apos;s a good yarn-spinner , and ultimately the story compels .  #1=4 #-1=1"
      }, 
      {
       "output_type": "stream", 
       "stream": "stdout", 
       "text": "\nCORRECT: &apos;tobey maguire is a poster boy for the geek generation . &apos; #1=4 #-1=1"
      }, 
      {
       "output_type": "stream", 
       "stream": "stdout", 
       "text": "\nCORRECT:  . . . a sweetly affecting story about four sisters who are coping , in one way or another , with life&apos;s endgame .  #1=3 #-1=2"
      }, 
      {
       "output_type": "stream", 
       "stream": "stdout", 
       "text": "\nERROR: passion , melodrama , sorrow , laugther , and tears cascade over the screen effortlessly . . .  #1=1 #-1=4"
      }, 
      {
       "output_type": "stream", 
       "stream": "stdout", 
       "text": "\nCORRECT: road to perdition does display greatness , and it&apos;s worth seeing . but it also comes with the laziness and arrogance of a thing that already knows it&apos;s won .  #1=3 #-1=2"
      }, 
      {
       "output_type": "stream", 
       "stream": "stdout", 
       "text": "\nCORRECT: a marvelous performance by allison lohman as an identity-seeking foster child .  #1=4 #-1=1"
      }, 
      {
       "output_type": "stream", 
       "stream": "stdout", 
       "text": "\nERROR: arliss howard&apos;s ambitious , moving , and adventurous directorial debut , big bad love , meets so many of the challenges it poses for itself that one can forgive the film its flaws .  #1=1 #-1=4"
      }, 
      {
       "output_type": "stream", 
       "stream": "stdout", 
       "text": "\nERROR: critics need a good laugh , too , and this too-extreme-for-tv rendition of the notorious mtv show delivers the outrageous , sickening , sidesplitting goods in steaming , visceral heaps .  #1=1 #-1=4"
      }, 
      {
       "output_type": "stream", 
       "stream": "stdout", 
       "text": "\nCORRECT: what a dumb , fun , curiously adolescent movie this is .  #1=3 #-1=2"
      }, 
      {
       "output_type": "stream", 
       "stream": "stdout", 
       "text": "\nCORRECT: many insightful moments .  #1=3 #-1=2"
      }, 
      {
       "output_type": "stream", 
       "stream": "stdout", 
       "text": "\nCORRECT: the charms of the lead performances allow us to forget most of the film&apos;s problems .  #1=5 #-1=0"
      }, 
      {
       "output_type": "stream", 
       "stream": "stdout", 
       "text": "\nCORRECT: a vivid , sometimes surreal , glimpse into the mysteries of human behavior .  #1=3 #-1=2"
      }, 
      {
       "output_type": "stream", 
       "stream": "stdout", 
       "text": "\nCORRECT: a tour de force of modern cinema .  #1=5 #-1=0"
      }, 
      {
       "output_type": "stream", 
       "stream": "stdout", 
       "text": "\nCORRECT: peralta captures , in luminous interviews and amazingly evocative film from three decades ago , the essence of the dogtown experience .  #1=4 #-1=1"
      }, 
      {
       "output_type": "stream", 
       "stream": "stdout", 
       "text": "\nCORRECT: the lively appeal of the last kiss lies in the ease with which it integrates thoughtfulness and pasta-fagioli comedy .  #1=5 #-1=0"
      }, 
      {
       "output_type": "stream", 
       "stream": "stdout", 
       "text": "\nCORRECT: without resorting to camp or parody , haynes ( like sirk , but differently ) has transformed the rhetoric of hollywood melodrama into something provocative , rich , and strange .  #1=5 #-1=0"
      }, 
      {
       "output_type": "stream", 
       "stream": "stdout", 
       "text": "\nCORRECT: the performances are an absolute joy .  #1=5 #-1=0"
      }, 
      {
       "output_type": "stream", 
       "stream": "stdout", 
       "text": "\nCORRECT: a quasi-documentary by french filmmaker karim dridi that celebrates the hardy spirit of cuban music .  #1=3 #-1=2"
      }, 
      {
       "output_type": "stream", 
       "stream": "stdout", 
       "text": "\nCORRECT: grant carries the day with impeccable comic timing , raffish charm and piercing intellect .  #1=4 #-1=1"
      }, 
      {
       "output_type": "stream", 
       "stream": "stdout", 
       "text": "\nCORRECT: a sensitive and astute first feature by anne-sophie birot .  #1=4 #-1=1"
      }, 
      {
       "output_type": "stream", 
       "stream": "stdout", 
       "text": "\nCORRECT: both exuberantly romantic and serenely melancholy , what time is it there ? may prove to be [tsai&apos;s] masterpiece .  #1=3 #-1=2"
      }, 
      {
       "output_type": "stream", 
       "stream": "stdout", 
       "text": "\nCORRECT: mazel tov to a film about a family&apos;s joyous life acting on the yiddish stage .  #1=5 #-1=0"
      }, 
      {
       "output_type": "stream", 
       "stream": "stdout", 
       "text": "\nCORRECT: standing in the shadows of motown is the best kind of documentary , one that makes a depleted yesterday feel very much like a brand-new tomorrow .  #1=5 #-1=0"
      }, 
      {
       "output_type": "stream", 
       "stream": "stdout", 
       "text": "\nERROR: it&apos;s nice to see piscopo again after all these years , and chaykin and headly are priceless .  #1=2 #-1=3"
      }, 
      {
       "output_type": "stream", 
       "stream": "stdout", 
       "text": "\nCORRECT: provides a porthole into that noble , trembling incoherence that defines us all .  #1=4 #-1=1"
      }, 
      {
       "output_type": "stream", 
       "stream": "stdout", 
       "text": "\nCORRECT: davis the performer is plenty fetching enough , but she needs to shake up the mix , and work in something that doesn&apos;t feel like a half-baked stand-up routine .  #1=2 #-1=3"
      }, 
      {
       "output_type": "stream", 
       "stream": "stdout", 
       "text": "\nERROR: the densest distillation of roberts&apos; movies ever made .  #1=5 #-1=0"
      }, 
      {
       "output_type": "stream", 
       "stream": "stdout", 
       "text": "\nCORRECT: ultimately , the film never recovers from the clumsy clich\u00e9 of the ugly american abroad , and the too-frosty exterior ms . paltrow employs to authenticate her british persona is another liability .  #1=0 #-1=5"
      }, 
      {
       "output_type": "stream", 
       "stream": "stdout", 
       "text": "\nCORRECT: a handsome but unfulfilling suspense drama more suited to a quiet evening on pbs than a night out at an amc .  #1=1 #-1=4"
      }, 
      {
       "output_type": "stream", 
       "stream": "stdout", 
       "text": "\nCORRECT: tom green and an ivy league college should never appear together on a marquee , especially when the payoff is an unschooled comedy like stealing harvard , which fails to keep 80 minutes from seeming like 800 .  #1=0 #-1=5"
      }, 
      {
       "output_type": "stream", 
       "stream": "stdout", 
       "text": "\nERROR:  ( it ) highlights not so much the crime lord&apos;s messianic bent , but spacey&apos;s .  #1=5 #-1=0"
      }, 
      {
       "output_type": "stream", 
       "stream": "stdout", 
       "text": "\nCORRECT: master of disguise runs for only 71 minutes and feels like three hours .  #1=0 #-1=5"
      }, 
      {
       "output_type": "stream", 
       "stream": "stdout", 
       "text": "\nCORRECT: a reworking of die hard and cliffhanger but it&apos;s nowhere near as exciting as either .  #1=2 #-1=3"
      }, 
      {
       "output_type": "stream", 
       "stream": "stdout", 
       "text": "\nCORRECT: suffers from unlikable characters and a self-conscious sense of its own quirky hipness .  #1=0 #-1=5"
      }, 
      {
       "output_type": "stream", 
       "stream": "stdout", 
       "text": "\nCORRECT: a film without surprise geared toward maximum comfort and familiarity .  #1=1 #-1=4"
      }, 
      {
       "output_type": "stream", 
       "stream": "stdout", 
       "text": "\nERROR: fessenden continues to do interesting work , and it would be nice to see what he could make with a decent budget . but the problem with wendigo , for all its effective moments , isn&apos;t really one of resources .  #1=3 #-1=2"
      }, 
      {
       "output_type": "stream", 
       "stream": "stdout", 
       "text": "\nERROR: spirit is a visual treat , and it takes chances that are bold by studio standards , but it lacks a strong narrative .  #1=3 #-1=2"
      }, 
      {
       "output_type": "stream", 
       "stream": "stdout", 
       "text": "\nCORRECT: it stars schticky chris rock and stolid anthony hopkins , who seem barely in the same movie . their contrast is neither dramatic nor comic -- it&apos;s just a weird fizzle .  #1=1 #-1=4"
      }, 
      {
       "output_type": "stream", 
       "stream": "stdout", 
       "text": "\nCORRECT: this is a children&apos;s film in the truest sense . it&apos;s packed with adventure and a worthwhile environmental message , so it&apos;s great for the kids . parents , on the other hand , will be ahead of the plot at all times , and there isn&apos;t enough clever innuendo to fil #1=1 #-1=4"
      }, 
      {
       "output_type": "stream", 
       "stream": "stdout", 
       "text": "\nERROR: the niftiest trick perpetrated by the importance of being earnest is the alchemical transmogrification of wilde into austen--and a hollywood-ized austen at that .  #1=3 #-1=2"
      }, 
      {
       "output_type": "stream", 
       "stream": "stdout", 
       "text": "\nERROR: tykwer&apos;s surface flash isn&apos;t just a poor fit with kieslowski&apos;s lyrical pessimism ; it completely contradicts everything kieslowski&apos;s work aspired to , including the condition of art .  #1=3 #-1=2"
      }, 
      {
       "output_type": "stream", 
       "stream": "stdout", 
       "text": "\nCORRECT: ice age is the first computer-generated feature cartoon to feel like other movies , and that makes for some glacial pacing early on .  #1=0 #-1=5"
      }, 
      {
       "output_type": "stream", 
       "stream": "stdout", 
       "text": "\nCORRECT: too slick and manufactured to claim street credibility .  #1=1 #-1=4"
      }, 
      {
       "output_type": "stream", 
       "stream": "stdout", 
       "text": "\nCORRECT: cherry orchard is badly edited , often awkwardly directed and suffers from the addition of a wholly unnecessary pre-credit sequence designed to give some of the characters a &apos;back story . &apos; #1=0 #-1=5"
      }, 
      {
       "output_type": "stream", 
       "stream": "stdout", 
       "text": "\nERROR: what ensues are much blood-splattering , mass drug-induced bowel evacuations , and none-too-funny commentary on the cultural distinctions between americans and brits .  #1=3 #-1=2"
      }, 
      {
       "output_type": "stream", 
       "stream": "stdout", 
       "text": "\nCORRECT: a dark comedy that goes for sick and demented humor simply to do so . the movie is without intent .  #1=2 #-1=3"
      }, 
      {
       "output_type": "stream", 
       "stream": "stdout", 
       "text": "\nERROR: visually exciting sci-fi film which suffers from a lackluster screenplay .  #1=4 #-1=1"
      }, 
      {
       "output_type": "stream", 
       "stream": "stdout", 
       "text": "\nCORRECT: while hollywood ending has its share of belly laughs ( including a knockout of a closing line ) , the movie winds up feeling like a great missed opportunity .  #1=2 #-1=3"
      }, 
      {
       "output_type": "stream", 
       "stream": "stdout", 
       "text": "\nERROR: if the full monty was a freshman fluke , lucky break is [cattaneo] sophomore slump .  #1=3 #-1=2"
      }, 
      {
       "output_type": "stream", 
       "stream": "stdout", 
       "text": "\nERROR:  sandra bullock and hugh grant make a great team , but this predictable romantic comedy should get a pink slip .  #1=3 #-1=2"
      }, 
      {
       "output_type": "stream", 
       "stream": "stdout", 
       "text": "\nERROR: allegiance to chekhov , which director michael cacoyannis displays with somber earnestness in the new adaptation of the cherry orchard , is a particularly vexing handicap .  #1=3 #-1=2"
      }, 
      {
       "output_type": "stream", 
       "stream": "stdout", 
       "text": "\nERROR: you expect more from director michael apted ( enigma ) and screenwriter nicholas kazan ( reversal of fortune ) than this cliche pileup .  #1=3 #-1=2"
      }, 
      {
       "output_type": "stream", 
       "stream": "stdout", 
       "text": "\nERROR: the first mistake , i suspect , is casting shatner as a legendary professor and kunis as a brilliant college student--where&apos;s pauly shore as the rocket scientist ?  #1=3 #-1=2"
      }, 
      {
       "output_type": "stream", 
       "stream": "stdout", 
       "text": "\nCORRECT: the dramatic scenes are frequently unintentionally funny , and the action sequences -- clearly the main event -- are surprisingly uninvolving .  #1=2 #-1=3"
      }, 
      {
       "output_type": "stream", 
       "stream": "stdout", 
       "text": "\nCORRECT: replacing john carpenter&apos;s stylish tracking shots is degraded , handheld blair witch video-cam footage . of all the halloween&apos;s , this is the most visually unappealing .  #1=2 #-1=3"
      }, 
      {
       "output_type": "stream", 
       "stream": "stdout", 
       "text": "\nCORRECT: it has the requisite faux-urban vibe and hotter-two-years-ago rap and r&amp;b names and references .  #1=1 #-1=4"
      }, 
      {
       "output_type": "stream", 
       "stream": "stdout", 
       "text": "\nCORRECT: despite its dry wit and compassion , the film suffers from a philosophical emptiness and maddeningly sedate pacing .  #1=2 #-1=3"
      }, 
      {
       "output_type": "stream", 
       "stream": "stdout", 
       "text": "\nERROR:  . . . feels as if ( there&apos;s ) a choke leash around your neck so director nick cassavetes can give it a good , hard yank whenever he wants you to feel something .  #1=4 #-1=1"
      }, 
      {
       "output_type": "stream", 
       "stream": "stdout", 
       "text": "\nCORRECT: attal pushes too hard to make this a comedy or serious drama . he seems to want both , but succeeds in making neither .  #1=2 #-1=3"
      }, 
      {
       "output_type": "stream", 
       "stream": "stdout", 
       "text": "\nERROR: i could have used my two hours better watching being john malkovich again .  #1=3 #-1=2"
      }, 
      {
       "output_type": "stream", 
       "stream": "stdout", 
       "text": "\nCORRECT: it&apos;s not a bad plot ; but , unfortunately , the movie is nowhere near as refined as all the classic dramas it borrows from .  #1=2 #-1=3"
      }, 
      {
       "output_type": "stream", 
       "stream": "stdout", 
       "text": "\nCORRECT: flat , misguided comedy .  #1=1 #-1=4"
      }, 
      {
       "output_type": "stream", 
       "stream": "stdout", 
       "text": "\nERROR: girlfriends are bad , wives are worse and babies are the kiss of death in this bitter italian comedy .  #1=4 #-1=1"
      }, 
      {
       "output_type": "stream", 
       "stream": "stdout", 
       "text": "\nCORRECT: the only young people who possibly will enjoy it are infants . . . who might be distracted by the movie&apos;s quick movements and sounds .  #1=2 #-1=3"
      }, 
      {
       "output_type": "stream", 
       "stream": "stdout", 
       "text": "\nCORRECT: the film boasts at least a few good ideas and features some decent performances , but the result is disappointing .  #1=2 #-1=3"
      }, 
      {
       "output_type": "stream", 
       "stream": "stdout", 
       "text": "\nERROR: no such thing breaks no new ground and treads old turf like a hippopotamus ballerina .  #1=3 #-1=2"
      }, 
      {
       "output_type": "stream", 
       "stream": "stdout", 
       "text": "\nERROR: unfortunately , neither sendak nor the directors are particularly engaging or articulate .  #1=3 #-1=2"
      }, 
      {
       "output_type": "stream", 
       "stream": "stdout", 
       "text": "\nCORRECT: a wishy-washy melodramatic movie that shows us plenty of sturm und drung , but explains its characters&apos; decisions only unsatisfactorily .  #1=2 #-1=3"
      }, 
      {
       "output_type": "stream", 
       "stream": "stdout", 
       "text": "\nCORRECT: bang ! zoom ! it&apos;s actually pretty funny , but in all the wrong places .  #1=1 #-1=4"
      }, 
      {
       "output_type": "stream", 
       "stream": "stdout", 
       "text": "\nERROR: lurid and less than lucid work .  #1=3 #-1=2"
      }, 
      {
       "output_type": "stream", 
       "stream": "stdout", 
       "text": "\nERROR: a wannabe comedy of manners about a brainy prep-school kid with a mrs . robinson complex founders on its own preciousness -- and squanders its beautiful women .  #1=4 #-1=1"
      }, 
      {
       "output_type": "stream", 
       "stream": "stdout", 
       "text": "\nCORRECT: at a brief 42 minutes , we need more x and less blab .  #1=2 #-1=3"
      }, 
      {
       "output_type": "stream", 
       "stream": "stdout", 
       "text": "\nERROR: if anything , see it for karen black , who camps up a storm as a fringe feminist conspiracy theorist named dirty dick .  #1=3 #-1=2"
      }, 
      {
       "output_type": "stream", 
       "stream": "stdout", 
       "text": "\nCORRECT: this 90-minute dud could pass for mike tyson&apos;s e ! true hollywood story .  #1=0 #-1=5"
      }, 
      {
       "output_type": "stream", 
       "stream": "stdout", 
       "text": "\nERROR: this is surely one of the most frantic , virulent and foul-natured christmas season pics ever delivered by a hollywood studio .  #1=4 #-1=1"
      }, 
      {
       "output_type": "stream", 
       "stream": "stdout", 
       "text": "\nERROR: once the expectation of laughter has been quashed by whatever obscenity is at hand , even the funniest idea isn&apos;t funny .  #1=3 #-1=2"
      }, 
      {
       "output_type": "stream", 
       "stream": "stdout", 
       "text": "\nERROR: a porn film without the sex scenes .  #1=3 #-1=2"
      }, 
      {
       "output_type": "stream", 
       "stream": "stdout", 
       "text": "\nERROR: the connected stories of breitbart and hanussen are actually fascinating , but the filmmaking in invincible is such that the movie does not do them justice .  #1=3 #-1=2"
      }, 
      {
       "output_type": "stream", 
       "stream": "stdout", 
       "text": "\nERROR: a depressingly retrograde , &apos;post-feminist&apos; romantic comedy that takes an astonishingly condescending attitude toward women .  #1=3 #-1=2"
      }, 
      {
       "output_type": "stream", 
       "stream": "stdout", 
       "text": "\nERROR: return to never land is much more p . c . than the original version ( no more racist portraits of indians , for instance ) , but the excitement is missing .  #1=5 #-1=0"
      }, 
      {
       "output_type": "stream", 
       "stream": "stdout", 
       "text": "\nCORRECT: by the end , you just don&apos;t care whether that cold-hearted snake petrovich ( that would be reno ) gets his comeuppance . just bring on the battle bots , please !  #1=2 #-1=3"
      }, 
      {
       "output_type": "stream", 
       "stream": "stdout", 
       "text": "\nCORRECT: while it&apos;s all quite tasteful to look at , the attention process tends to do a little fleeing of its own .  #1=1 #-1=4"
      }, 
      {
       "output_type": "stream", 
       "stream": "stdout", 
       "text": "\nCORRECT: broder&apos;s screenplay is shallow , offensive and redundant , with pitifully few real laughs .  #1=2 #-1=3"
      }, 
      {
       "output_type": "stream", 
       "stream": "stdout", 
       "text": "\nCORRECT: yes they can swim , the title is merely anne-sophie birot&apos;s off-handed way of saying girls find adolescence difficult to wade through .  #1=1 #-1=4"
      }, 
      {
       "output_type": "stream", 
       "stream": "stdout", 
       "text": "\nCORRECT: don michael paul uses quick-cuts , ( very ) large shadows and wide-angle shots taken from a distance to hide the liberal use of a body double ( for seagal ) .  #1=1 #-1=4"
      }, 
      {
       "output_type": "stream", 
       "stream": "stdout", 
       "text": "\nCORRECT: slow , silly and unintentionally hilarious .  #1=1 #-1=4"
      }, 
      {
       "output_type": "stream", 
       "stream": "stdout", 
       "text": "\nCORRECT: the sweetest thing leaves a bitter taste .  #1=1 #-1=4"
      }, 
      {
       "output_type": "stream", 
       "stream": "stdout", 
       "text": "\nCORRECT: in a big corner office in hell , satan is throwing up his hands in surrender , is firing his r&amp;d people , and has decided he will just screen the master of disguise 24/7 .  #1=1 #-1=4"
      }, 
      {
       "output_type": "stream", 
       "stream": "stdout", 
       "text": "\nERROR: for something as splendid-looking as this particular film , the viewer expects something special but instead gets [sci-fi] rehash .  #1=4 #-1=1"
      }, 
      {
       "output_type": "stream", 
       "stream": "stdout", 
       "text": "\nCORRECT: a thriller without a lot of thrills .  #1=2 #-1=3"
      }, 
      {
       "output_type": "stream", 
       "stream": "stdout", 
       "text": "\nERROR: this stuck pig of a movie flails limply between bizarre comedy and pallid horror .  #1=3 #-1=2"
      }, 
      {
       "output_type": "stream", 
       "stream": "stdout", 
       "text": "\nCORRECT: ah , the travails of metropolitan life ! alas , another breathless movie about same !  #1=1 #-1=4"
      }, 
      {
       "output_type": "stream", 
       "stream": "stdout", 
       "text": "\nERROR: in moonlight mile , no one gets shut out of the hug cycle .  #1=4 #-1=1"
      }, 
      {
       "output_type": "stream", 
       "stream": "stdout", 
       "text": "\nERROR: though uniformly well acted , especially by young ballesta and galan ( a first-time actor ) , writer/director achero manas&apos;s film is schematic and obvious .  #1=3 #-1=2"
      }, 
      {
       "output_type": "stream", 
       "stream": "stdout", 
       "text": "\nCORRECT: done in mostly by a weak script that can&apos;t support the epic treatment .  #1=1 #-1=4"
      }, 
      {
       "output_type": "stream", 
       "stream": "stdout", 
       "text": "\nCORRECT: despite its visual virtuosity , &apos;naqoyqatsi&apos; is banal in its message and the choice of material to convey it .  #1=1 #-1=4"
      }, 
      {
       "output_type": "stream", 
       "stream": "stdout", 
       "text": "\nCORRECT: slap her - she&apos;s not funny ! no french people were harmed during the making of this movie , but they were insulted and the audience was put through torture for an hour and a half .  #1=2 #-1=3"
      }, 
      {
       "output_type": "stream", 
       "stream": "stdout", 
       "text": "\nCORRECT: though its rather routine script is loaded with familiar situations , the movie has a cinematic fluidity and sense of intelligence that makes it work more than it probably should .  #1=1 #-1=4"
      }, 
      {
       "output_type": "stream", 
       "stream": "stdout", 
       "text": "\nERROR:  &quot; one look at a girl in tight pants and big tits and you turn stupid ? &quot; um\u2026 . . isn&apos;t that the basis for the entire plot ?  #1=3 #-1=2"
      }, 
      {
       "output_type": "stream", 
       "stream": "stdout", 
       "text": "\nCORRECT:  &quot; not really as bad as you might think ! &quot;  #1=0 #-1=5"
      }, 
      {
       "output_type": "stream", 
       "stream": "stdout", 
       "text": "\nERROR: strident and inelegant in its &apos;message-movie&apos; posturing .  #1=3 #-1=2"
      }, 
      {
       "output_type": "stream", 
       "stream": "stdout", 
       "text": "\nERROR: one regards reign of fire with awe . what a vast enterprise has been marshaled in the service of such a minute idea .  #1=4 #-1=1"
      }, 
      {
       "output_type": "stream", 
       "stream": "stdout", 
       "text": "\nERROR: it has the right approach and the right opening premise , but it lacks the zest and it goes for a plot twist instead of trusting the material .  #1=4 #-1=1"
      }, 
      {
       "output_type": "stream", 
       "stream": "stdout", 
       "text": "\nCORRECT: its impressive images of crematorium chimney fires and stacks of dead bodies are undermined by the movie&apos;s presentation , which is way too stagy .  #1=0 #-1=5"
      }, 
      {
       "output_type": "stream", 
       "stream": "stdout", 
       "text": "\nERROR: seeing as the film lacks momentum and its position remains mostly undeterminable , the director&apos;s experiment is a successful one .  #1=3 #-1=2"
      }, 
      {
       "output_type": "stream", 
       "stream": "stdout", 
       "text": "\nERROR: the plot is romantic comedy boilerplate from start to finish .  #1=4 #-1=1"
      }, 
      {
       "output_type": "stream", 
       "stream": "stdout", 
       "text": "\nCORRECT: i suspect this is the kind of production that would have been funnier if the director had released the outtakes theatrically and used the film as a bonus feature on the dvd .  #1=1 #-1=4"
      }, 
      {
       "output_type": "stream", 
       "stream": "stdout", 
       "text": "\nCORRECT: an unfortunate title for a film that has nothing endearing about it .  #1=1 #-1=4"
      }, 
      {
       "output_type": "stream", 
       "stream": "stdout", 
       "text": "\nCORRECT: ninety minutes of viva castro ! can be as tiresome as 9 seconds of jesse helms&apos; anti- castro rhetoric , which are included #1=2 #-1=3"
      }, 
      {
       "output_type": "stream", 
       "stream": "stdout", 
       "text": "\nCORRECT: comes off as a long , laborious whine , the bellyaching of a paranoid and unlikable man .  #1=0 #-1=5"
      }, 
      {
       "output_type": "stream", 
       "stream": "stdout", 
       "text": "\nCORRECT: it just goes to show , an intelligent person isn&apos;t necessarily an admirable storyteller .  #1=0 #-1=5"
      }, 
      {
       "output_type": "stream", 
       "stream": "stdout", 
       "text": "\nCORRECT: in a 102-minute film , aaliyah gets at most 20 minutes of screen time . . . . most viewers will wish there had been more of the &quot; queen &quot; and less of the &quot; damned . &quot;  #1=1 #-1=4"
      }, 
      {
       "output_type": "stream", 
       "stream": "stdout", 
       "text": "\nCORRECT: hopelessly inane , humorless and under-inspired .  #1=1 #-1=4"
      }, 
      {
       "output_type": "stream", 
       "stream": "stdout", 
       "text": "\nCORRECT: kapur fails to give his audience a single character worth rooting for ( or worth rooting against , for that matter ) .  #1=2 #-1=3"
      }, 
      {
       "output_type": "stream", 
       "stream": "stdout", 
       "text": "\nCORRECT: it reduces the complexities to bromides and slogans and it gets so preachy-keen and so tub-thumpingly loud it makes you feel like a chump just for sitting through it .  #1=2 #-1=3"
      }, 
      {
       "output_type": "stream", 
       "stream": "stdout", 
       "text": "\nCORRECT: none of this has the suavity or classical familiarity of bond , but much of it is good for a laugh . the problem with &quot; xxx &quot; is that its own action isn&apos;t very effective .  #1=0 #-1=5"
      }, 
      {
       "output_type": "stream", 
       "stream": "stdout", 
       "text": "\nCORRECT: a great script brought down by lousy direction . same guy with both hats . big mistake .  #1=1 #-1=4"
      }, 
      {
       "output_type": "stream", 
       "stream": "stdout", 
       "text": "\nCORRECT: a mediocre exercise in target demographics , unaware that it&apos;s the butt of its own joke .  #1=0 #-1=5"
      }, 
      {
       "output_type": "stream", 
       "stream": "stdout", 
       "text": "\nCORRECT: director kevin bray excels in breaking glass and marking off the &quot; miami vice &quot; checklist of power boats , latin music and dog tracks . he doesn&apos;t , however , deliver nearly enough of the show&apos;s trademark style and flash .  #1=2 #-1=3"
      }, 
      {
       "output_type": "stream", 
       "stream": "stdout", 
       "text": "\nCORRECT: in gleefully , thumpingly hyperbolic terms , it covers just about every cliche in the compendium about crass , jaded movie types and the phony baloney movie biz .  #1=2 #-1=3"
      }, 
      {
       "output_type": "stream", 
       "stream": "stdout", 
       "text": "\nCORRECT: the spalding gray equivalent of a teen gross-out comedy .  #1=1 #-1=4"
      }, 
      {
       "output_type": "stream", 
       "stream": "stdout", 
       "text": "\nERROR: perhaps even the slc high command found writer-director mitch davis&apos;s wall of kitsch hard going .  #1=3 #-1=2"
      }, 
      {
       "output_type": "stream", 
       "stream": "stdout", 
       "text": "\nERROR: according to wendigo , &apos;nature&apos; loves the members of the upper class almost as much as they love themselves .  #1=5 #-1=0"
      }, 
      {
       "output_type": "stream", 
       "stream": "stdout", 
       "text": "\nERROR: an encouraging effort from mccrudden #1=5 #-1=0\nERROR: the romance between the leads isn&apos;t as compelling or as believable as it should be .  #1=4 #-1=1"
      }, 
      {
       "output_type": "stream", 
       "stream": "stdout", 
       "text": "\nCORRECT: if i could have looked into my future and saw how bad this movie was , i would go back and choose to skip it . fortunately , you still have that option .  #1=2 #-1=3"
      }, 
      {
       "output_type": "stream", 
       "stream": "stdout", 
       "text": "\nCORRECT: supposedly authentic account of a historical event that&apos;s far too tragic to merit such superficial treatment .  #1=2 #-1=3"
      }, 
      {
       "output_type": "stream", 
       "stream": "stdout", 
       "text": "\nCORRECT: adroit but finally a trifle flat , mad love doesn&apos;t galvanize its outrage the way , say , jane campion might have done , but at least it possesses some .  #1=0 #-1=5"
      }, 
      {
       "output_type": "stream", 
       "stream": "stdout", 
       "text": "\nERROR: to blandly go where we went 8 movies ago . . .  #1=3 #-1=2"
      }, 
      {
       "output_type": "stream", 
       "stream": "stdout", 
       "text": "\nERROR: a slow-moving police-procedural thriller that takes its title all too literally .  #1=3 #-1=2"
      }, 
      {
       "output_type": "stream", 
       "stream": "stdout", 
       "text": "\nERROR: this u-boat doesn&apos;t have a captain .  #1=5 #-1=0"
      }, 
      {
       "output_type": "stream", 
       "stream": "stdout", 
       "text": "\nERROR: with nary a glimmer of self-knowledge , [crane] becomes more specimen than character -- and auto focus remains a chilly , clinical lab report .  #1=5 #-1=0"
      }, 
      {
       "output_type": "stream", 
       "stream": "stdout", 
       "text": "\nERROR: this one aims for the toilet and scores a direct hit .  #1=4 #-1=1"
      }, 
      {
       "output_type": "stream", 
       "stream": "stdout", 
       "text": "\nERROR: dull , a road-trip movie that&apos;s surprisingly short of both adventure and song .  #1=4 #-1=1"
      }, 
      {
       "output_type": "stream", 
       "stream": "stdout", 
       "text": "\nCORRECT: i walked away not really know who &quot; they &quot; were , what &quot; they &quot; looked like . why &quot; they &quot; were here and what &quot; they &quot; wanted and quite honestly , i didn&apos;t care .  #1=0 #-1=5"
      }, 
      {
       "output_type": "stream", 
       "stream": "stdout", 
       "text": "\nERROR: predictably melodramatic .  #1=4 #-1=1\nCORRECT: after several scenes of this tacky nonsense , you&apos;ll be wistful for the testosterone-charged wizardry of jerry bruckheimer productions , especially because half past dead is like the rock on a wal-mart budget .  #1=1 #-1=4"
      }, 
      {
       "output_type": "stream", 
       "stream": "stdout", 
       "text": "\nCORRECT: a relatively effective little potboiler until its absurd , contrived , overblown , and entirely implausible finale .  #1=1 #-1=4"
      }, 
      {
       "output_type": "stream", 
       "stream": "stdout", 
       "text": "\nERROR: the country bears wastes an exceptionally good idea . but the movie that doesn&apos;t really deliver for country music fans or for family audiences #1=3 #-1=2"
      }, 
      {
       "output_type": "stream", 
       "stream": "stdout", 
       "text": "\nCORRECT: adults will certainly want to spend their time in the theater thinking up grocery lists and ways to tell their kids how not to act like pinocchio . as for children , they won&apos;t enjoy the movie at all .  #1=2 #-1=3"
      }, 
      {
       "output_type": "stream", 
       "stream": "stdout", 
       "text": "\nCORRECT:  . . . you can be forgiven for realizing that you&apos;ve spent the past 20 minutes looking at your watch and waiting for frida to just die already .  #1=2 #-1=3"
      }, 
      {
       "output_type": "stream", 
       "stream": "stdout", 
       "text": "\nCORRECT: too bad writer-director adam rifkin situates it all in a plot as musty as one of the golden eagle&apos;s carpets .  #1=2 #-1=3"
      }, 
      {
       "output_type": "stream", 
       "stream": "stdout", 
       "text": "\nCORRECT: it&apos;s lazy for a movie to avoid solving one problem by trying to distract us with the solution to another .  #1=1 #-1=4"
      }, 
      {
       "output_type": "stream", 
       "stream": "stdout", 
       "text": "\nERROR: the movie is genial but never inspired , and little about it will stay with you .  #1=3 #-1=2"
      }, 
      {
       "output_type": "stream", 
       "stream": "stdout", 
       "text": "\nCORRECT: the movie obviously seeks to re-create the excitement of such &apos;50s flicks as jules verne&apos;s &apos;20 , 000 leagues under the sea&apos; and the george pal version of h . g . wells&apos; &apos;the time machine . &apos; but its storytelling prowess and special effects are both listless .  #1=1 #-1=4"
      }, 
      {
       "output_type": "stream", 
       "stream": "stdout", 
       "text": "\nCORRECT: despite the opulent lushness of every scene , the characters never seem to match the power of their surroundings .  #1=1 #-1=4"
      }, 
      {
       "output_type": "stream", 
       "stream": "stdout", 
       "text": "\nCORRECT: even after 90 minutes of playing opposite each other bullock and grant still look ill at ease sharing the same scene . what should have been a painless time-killer becomes instead a grating endurance test .  #1=1 #-1=4"
      }, 
      {
       "output_type": "stream", 
       "stream": "stdout", 
       "text": "\nCORRECT: a bland , obnoxious 88-minute infomercial for universal studios and its ancillary products .  #1=1 #-1=4"
      }, 
      {
       "output_type": "stream", 
       "stream": "stdout", 
       "text": "\nCORRECT:  . . little action , almost no suspense or believable tension , one-dimensional characters up the wazoo and sets that can only be described as sci-fi generic .  #1=1 #-1=4"
      }, 
      {
       "output_type": "stream", 
       "stream": "stdout", 
       "text": "\nCORRECT: the movie strains to stay on the light , comic side of the issue , despite the difficulty of doing so when dealing with the destruction of property and , potentially , of life itself .  #1=2 #-1=3"
      }, 
      {
       "output_type": "stream", 
       "stream": "stdout", 
       "text": "\nCORRECT: the master of disguise is awful . it&apos;s pauly shore awful . don&apos;t say you weren&apos;t warned .  #1=0 #-1=5"
      }, 
      {
       "output_type": "stream", 
       "stream": "stdout", 
       "text": "\nCORRECT: disappointing in comparison to other recent war movies\u2026or any other john woo flick for that matter .  #1=2 #-1=3"
      }, 
      {
       "output_type": "stream", 
       "stream": "stdout", 
       "text": "\nCORRECT: the entire movie is filled with deja vu moments .  #1=2 #-1=3"
      }, 
      {
       "output_type": "stream", 
       "stream": "stdout", 
       "text": "\nERROR: &apos;opening up&apos; the play more has partly closed it down .  #1=3 #-1=2"
      }, 
      {
       "output_type": "stream", 
       "stream": "stdout", 
       "text": "\nERROR: what [frei] gives us . . . is a man who uses the damage of war -- far more often than the warfare itself -- to create the kind of art shots that fill gallery shows .  #1=3 #-1=2"
      }, 
      {
       "output_type": "stream", 
       "stream": "stdout", 
       "text": "\nCORRECT: an ugly , revolting movie .  #1=1 #-1=4"
      }, 
      {
       "output_type": "stream", 
       "stream": "stdout", 
       "text": "\nCORRECT: the film is way too full of itself ; it&apos;s stuffy and pretentious in a give-me-an-oscar kind of way .  #1=0 #-1=5"
      }, 
      {
       "output_type": "stream", 
       "stream": "stdout", 
       "text": "\nCORRECT: the movie is concocted and carried out by folks worthy of scorn , and the nicest thing i can say is that i can&apos;t remember a single name responsible for it .  #1=1 #-1=4"
      }, 
      {
       "output_type": "stream", 
       "stream": "stdout", 
       "text": "\nCORRECT: watching &quot; ending &quot; is too often like looking over the outdated clothes and plastic knickknacks at your neighbor&apos;s garage sale . you can&apos;t believe anyone would really buy this stuff .  #1=2 #-1=3"
      }, 
      {
       "output_type": "stream", 
       "stream": "stdout", 
       "text": "\nERROR: certainly beautiful to look at , but its not very informative about its titular character and no more challenging than your average television biopic .  #1=3 #-1=2"
      }, 
      {
       "output_type": "stream", 
       "stream": "stdout", 
       "text": "\nCORRECT: it desperately wants to be a wacky , screwball comedy , but the most screwy thing here is how so many talented people were convinced to waste their time .  #1=0 #-1=5"
      }, 
      {
       "output_type": "stream", 
       "stream": "stdout", 
       "text": "\nCORRECT: the skills of a calculus major at m . i . t . are required to balance all the formulaic equations in the long-winded heist comedy who is cletis tout ?  #1=2 #-1=3"
      }, 
      {
       "output_type": "stream", 
       "stream": "stdout", 
       "text": "\nERROR: from the choppy editing to the annoying score to &apos;special effects&apos; by way of replacing objects in a character&apos;s hands below the camera line , &quot; besotted &quot; is misbegotten #1=3 #-1=2"
      }, 
      {
       "output_type": "stream", 
       "stream": "stdout", 
       "text": "\nCORRECT: my advice is to skip the film and pick up the soundtrack .  #1=1 #-1=4"
      }, 
      {
       "output_type": "stream", 
       "stream": "stdout", 
       "text": "\nCORRECT: a film that presents an interesting , even sexy premise then ruins itself with too many contrivances and goofy situations .  #1=1 #-1=4"
      }, 
      {
       "output_type": "stream", 
       "stream": "stdout", 
       "text": "\nCORRECT: filled with low-brow humor , gratuitous violence and a disturbing disregard for life .  #1=2 #-1=3"
      }, 
      {
       "output_type": "stream", 
       "stream": "stdout", 
       "text": "\nERROR: directed in a flashy , empty sub-music video style by a director so self-possessed he actually adds a period to his first name #1=3 #-1=2"
      }, 
      {
       "output_type": "stream", 
       "stream": "stdout", 
       "text": "\nCORRECT: the 70-year-old godard has become , to judge from in praise of love , the sort of bitter old crank who sits behind his light meter and harangues the supposed injustices of the artistic world-at-large without doing all that much to correct them .  #1=2 #-1=3"
      }, 
      {
       "output_type": "stream", 
       "stream": "stdout", 
       "text": "\nCORRECT: an unsophisticated sci-fi drama that takes itself all too seriously .  #1=1 #-1=4"
      }, 
      {
       "output_type": "stream", 
       "stream": "stdout", 
       "text": "\nCORRECT: solondz is without doubt an artist of uncompromising vision , but that vision is beginning to feel , if not morally bankrupt , at least terribly monotonous .  #1=2 #-1=3"
      }, 
      {
       "output_type": "stream", 
       "stream": "stdout", 
       "text": "\nERROR: harvard man is a semi-throwback , a reminiscence without nostalgia or sentimentality .  #1=4 #-1=1"
      }, 
      {
       "output_type": "stream", 
       "stream": "stdout", 
       "text": "\nCORRECT: supposedly based upon real , or at least soberly reported incidents , the film ends with a large human tragedy . alas , getting there is not even half the interest .  #1=1 #-1=4"
      }, 
      {
       "output_type": "stream", 
       "stream": "stdout", 
       "text": "\nCORRECT: while hoffman&apos;s performance is great , the subject matter goes nowhere .  #1=2 #-1=3"
      }, 
      {
       "output_type": "stream", 
       "stream": "stdout", 
       "text": "\nCORRECT: the smash &apos;em-up , crash &apos;em-up , shoot &apos;em-up ending comes out of nowhere substituting mayhem for suspense .  #1=2 #-1=3"
      }, 
      {
       "output_type": "stream", 
       "stream": "stdout", 
       "text": "\nCORRECT: deuces wild treads heavily into romeo and juliet/west side story territory , where it plainly has no business going .  #1=0 #-1=5"
      }, 
      {
       "output_type": "stream", 
       "stream": "stdout", 
       "text": "\nCORRECT: hart&apos;s war seems to want to be a character study , but apparently can&apos;t quite decide which character .  #1=2 #-1=3"
      }, 
      {
       "output_type": "stream", 
       "stream": "stdout", 
       "text": "\nERROR: theological matters aside , the movie is so clumsily sentimental and ineptly directed it may leave you speaking in tongues .  #1=3 #-1=2"
      }, 
      {
       "output_type": "stream", 
       "stream": "stdout", 
       "text": "\nERROR: this latest installment of the horror film franchise that is apparently as invulnerable as its trademark villain has arrived for an incongruous summer playoff , demonstrating yet again that the era of the intelligent , well-made b movie is long gone .  #1=3 #-1=2"
      }, 
      {
       "output_type": "stream", 
       "stream": "stdout", 
       "text": "\nCORRECT: novak contemplates a heartland so overwhelmed by its lack of purpose that it seeks excitement in manufactured high drama .  #1=1 #-1=4"
      }, 
      {
       "output_type": "stream", 
       "stream": "stdout", 
       "text": "\nCORRECT: been there , done that , liked it much better the first time around - when it was called the professional .  #1=2 #-1=3"
      }, 
      {
       "output_type": "stream", 
       "stream": "stdout", 
       "text": "\nERROR: the film is all over the place , really . it dabbles all around , never gaining much momentum .  #1=3 #-1=2"
      }, 
      {
       "output_type": "stream", 
       "stream": "stdout", 
       "text": "\nCORRECT: the beautiful , unusual music is this film&apos;s chief draw , but its dreaminess may lull you to sleep .  #1=1 #-1=4"
      }, 
      {
       "output_type": "stream", 
       "stream": "stdout", 
       "text": "\nCORRECT: the action quickly sinks into by-the-numbers territory .  #1=1 #-1=4"
      }, 
      {
       "output_type": "stream", 
       "stream": "stdout", 
       "text": "\nCORRECT: forages for audience sympathy like a temperamental child begging for attention , giving audiences no reason to truly care for its decrepit freaks beyond the promise of a reprieve from their incessant whining .  #1=0 #-1=5"
      }, 
      {
       "output_type": "stream", 
       "stream": "stdout", 
       "text": "\nERROR: when [reno] lets her radical flag fly , taking angry potshots at george w . bush , henry kissinger , larry king , et al . , reno devolves into a laugh-free lecture .  #1=3 #-1=2"
      }, 
      {
       "output_type": "stream", 
       "stream": "stdout", 
       "text": "\nCORRECT: such a premise is ripe for all manner of lunacy , but kaufman and gondry rarely seem sure of where it should go .  #1=2 #-1=3"
      }, 
      {
       "output_type": "stream", 
       "stream": "stdout", 
       "text": "\nCORRECT: burns&apos; fifth beer-soaked film feels in almost every possible way -- from the writing and direction to the soggy performances -- tossed off .  #1=1 #-1=4"
      }, 
      {
       "output_type": "stream", 
       "stream": "stdout", 
       "text": "\nERROR: &apos;es en verdad una pena que mandoki est\u00e9 realizando cintas tan malas desde hace alg\u00fan tiempo , pues talento tiene , pero qui\u00e9n sabe d\u00f3nde lo tiene escondido . &apos; #1=3 #-1=2"
      }, 
      {
       "output_type": "stream", 
       "stream": "stdout", 
       "text": "\nCORRECT: while this one gets off with a good natured warning , future lizard endeavors will need to adhere more closely to the laws of laughter #1=1 #-1=4"
      }, 
      {
       "output_type": "stream", 
       "stream": "stdout", 
       "text": "\nCORRECT: another boorish movie from the i-heard-a-joke- at-a-frat-party school of screenwriting .  #1=1 #-1=4"
      }, 
      {
       "output_type": "stream", 
       "stream": "stdout", 
       "text": "\nCORRECT: too much of the movie feels contrived , as if the filmmakers were worried the story wouldn&apos;t work without all those gimmicks .  #1=1 #-1=4"
      }, 
      {
       "output_type": "stream", 
       "stream": "stdout", 
       "text": "\nCORRECT: it&apos;s hard to understand why anyone in his right mind would even think to make the attraction a movie . and it&apos;s harder still to believe that anyone in his right mind would want to see the it .  #1=0 #-1=5"
      }, 
      {
       "output_type": "stream", 
       "stream": "stdout", 
       "text": "\nCORRECT: the ethos of the chelsea hotel may shape hawke&apos;s artistic aspirations , but he hasn&apos;t yet coordinated his own dv poetry with the beat he hears in his soul .  #1=2 #-1=3"
      }, 
      {
       "output_type": "stream", 
       "stream": "stdout", 
       "text": "\nERROR: the sight of the name bruce willis brings to mind images of a violent battlefield action picture , but the film has a lot more on its mind--maybe too much .  #1=4 #-1=1"
      }, 
      {
       "output_type": "stream", 
       "stream": "stdout", 
       "text": "\nCORRECT: why sit through a crummy , wannabe-hip crime comedy that refers incessantly to old movies , when you could just rent those movies instead , let alone seek out a respectable new one ?  #1=1 #-1=4"
      }, 
      {
       "output_type": "stream", 
       "stream": "stdout", 
       "text": "\nERROR: the obnoxious special effects , the obligatory outbursts of flatulence and the incessant , so-five-minutes-ago pop music on the soundtrack overwhelm what is left of the scruffy , dopey old hanna-barbera charm .  #1=5 #-1=0"
      }, 
      {
       "output_type": "stream", 
       "stream": "stdout", 
       "text": "\nERROR: exploring value choices is a worthwhile topic for a film -- but here the choices are as contrived and artificial as kerrigan&apos;s platinum-blonde hair .  #1=3 #-1=2"
      }, 
      {
       "output_type": "stream", 
       "stream": "stdout", 
       "text": "\nCORRECT: the movie&apos;s downfall is to substitute plot for personality . it doesn&apos;t really know or care about the characters , and uses them as markers for a series of preordained events .  #1=2 #-1=3"
      }, 
      {
       "output_type": "stream", 
       "stream": "stdout", 
       "text": "\nERROR: all mood and no movie .  #1=5 #-1=0"
      }, 
      {
       "output_type": "stream", 
       "stream": "stdout", 
       "text": "\nERROR: press the delete key .  #1=3 #-1=2"
      }, 
      {
       "output_type": "stream", 
       "stream": "stdout", 
       "text": "\nCORRECT: simone is not a bad film . it just doesn&apos;t have anything really interesting to say .  #1=0 #-1=5"
      }, 
      {
       "output_type": "stream", 
       "stream": "stdout", 
       "text": "\nERROR: once he starts learning to compromise with reality enough to become comparatively sane and healthy , the film becomes predictably conventional .  #1=3 #-1=2"
      }, 
      {
       "output_type": "stream", 
       "stream": "stdout", 
       "text": "\nERROR:  . . . hopefully it&apos;ll be at the dollar theatres by the time christmas rolls around . wait to see it then .  #1=3 #-1=2"
      }, 
      {
       "output_type": "stream", 
       "stream": "stdout", 
       "text": "\nCORRECT: there&apos;s no disguising this as one of the worst films of the summer . or for the year , for that matter .  #1=1 #-1=4"
      }, 
      {
       "output_type": "stream", 
       "stream": "stdout", 
       "text": "\nERROR: lacks the spirit of the previous two , and makes all those jokes about hos and even more unmentionable subjects seem like mere splashing around in the muck .  #1=3 #-1=2"
      }, 
      {
       "output_type": "stream", 
       "stream": "stdout", 
       "text": "\nCORRECT: this hastily mounted production exists only to capitalize on hopkins&apos; inclination to play hannibal lecter again , even though harris has no immediate inclination to provide a fourth book .  #1=2 #-1=3"
      }, 
      {
       "output_type": "stream", 
       "stream": "stdout", 
       "text": "\nERROR: death to smoochy tells a moldy-oldie , not-nearly -as-nasty -as-it- thinks-it-is joke . over and over again .  #1=3 #-1=2"
      }, 
      {
       "output_type": "stream", 
       "stream": "stdout", 
       "text": "\nCORRECT: the threat implied in the title pok\u00e9mon 4ever is terrifying \u2013 like locusts in a horde these things will keep coming .  #1=1 #-1=4"
      }, 
      {
       "output_type": "stream", 
       "stream": "stdout", 
       "text": "\nCORRECT: the film never gets over its own investment in conventional arrangements , in terms of love , age , gender , race , and class .  #1=1 #-1=4"
      }, 
      {
       "output_type": "stream", 
       "stream": "stdout", 
       "text": "\nERROR: to call this film a lump of coal would only be to flatter it .  #1=3 #-1=2"
      }, 
      {
       "output_type": "stream", 
       "stream": "stdout", 
       "text": "\nCORRECT: entertainment more disposable than hanna-barbera&apos;s half-hour cartoons ever were .  #1=1 #-1=4"
      }, 
      {
       "output_type": "stream", 
       "stream": "stdout", 
       "text": "\nCORRECT: the film falls short on tension , eloquence , spiritual challenge -- things that have made the original new testament stories so compelling for 20 centuries .  #1=2 #-1=3"
      }, 
      {
       "output_type": "stream", 
       "stream": "stdout", 
       "text": "\nERROR: by the end of it all i sort of loved the people onscreen , even though i could not stand them . perhaps the film should be seen as a conversation starter . it&apos;s not an easy one to review .  #1=5 #-1=0"
      }, 
      {
       "output_type": "stream", 
       "stream": "stdout", 
       "text": "\nCORRECT: at best this is a film for the under-7 crowd . but it would be better to wait for the video . and a very rainy day .  #1=1 #-1=4"
      }, 
      {
       "output_type": "stream", 
       "stream": "stdout", 
       "text": "\nERROR: the whole talking-animal thing is grisly .  #1=4 #-1=1"
      }, 
      {
       "output_type": "stream", 
       "stream": "stdout", 
       "text": "\nERROR: never again , while nothing special , is pleasant , diverting and modest -- definitely a step in the right direction .  #1=4 #-1=1"
      }, 
      {
       "output_type": "stream", 
       "stream": "stdout", 
       "text": "\nERROR: wouldn&apos;t it be funny if a bunch of allied soldiers went undercover as women in a german factory during world war ii ? um , no . but here&apos;s a movie about it anyway .  #1=4 #-1=1"
      }, 
      {
       "output_type": "stream", 
       "stream": "stdout", 
       "text": "\nERROR: has not so much been written as assembled , frankenstein-like , out of other , marginally better shoot-em-ups .  #1=3 #-1=2"
      }, 
      {
       "output_type": "stream", 
       "stream": "stdout", 
       "text": "\nCORRECT: the punch lines that miss , unfortunately , outnumber the hits by three-to-one . but death to smoochy keeps firing until the bitter end .  #1=2 #-1=3"
      }, 
      {
       "output_type": "stream", 
       "stream": "stdout", 
       "text": "\nERROR: mushes the college-friends genre ( the big chill ) together with the contrivances and overwrought emotion of soap operas .  #1=4 #-1=1"
      }, 
      {
       "output_type": "stream", 
       "stream": "stdout", 
       "text": "\nCORRECT: showtime&apos;s starry cast could be both an asset and a detriment . those who trek to the &apos;plex predisposed to like it probably will enjoy themselves . but ticket-buyers with great expectations will wind up as glum as mr . de niro .  #1=2 #-1=3"
      }, 
      {
       "output_type": "stream", 
       "stream": "stdout", 
       "text": "\nERROR: a determined , ennui-hobbled slog that really doesn&apos;t have much to say beyond the news flash that loneliness can make people act weird .  #1=3 #-1=2"
      }, 
      {
       "output_type": "stream", 
       "stream": "stdout", 
       "text": "\nCORRECT: too daft by half . . . but supremely good natured .  #1=2 #-1=3"
      }, 
      {
       "output_type": "stream", 
       "stream": "stdout", 
       "text": "\nERROR: fails in making this character understandable , in getting under her skin , in exploring motivation . . . well before the end , the film grows as dull as its characters , about whose fate it is hard to care .  #1=4 #-1=1"
      }, 
      {
       "output_type": "stream", 
       "stream": "stdout", 
       "text": "\nERROR: it&apos;s a shame that the storyline and its underlying themes . . . finally seem so impersonal or even shallow .  #1=4 #-1=1"
      }, 
      {
       "output_type": "stream", 
       "stream": "stdout", 
       "text": "\nERROR: woody , what happened ?  #1=3 #-1=2\nERROR: juliette binoche&apos;s sand is vivacious , but it&apos;s hard to sense that powerhouse of 19th-century prose behind her childlike smile .  #1=4 #-1=1"
      }, 
      {
       "output_type": "stream", 
       "stream": "stdout", 
       "text": "\nCORRECT: it&apos;s supposed to be post-feminist breezy but ends up as tedious as the chatter of parrots raised on oprah .  #1=1 #-1=4"
      }, 
      {
       "output_type": "stream", 
       "stream": "stdout", 
       "text": "\nCORRECT: you can tell almost immediately that welcome to collinwood isn&apos;t going to jell .  #1=2 #-1=3"
      }, 
      {
       "output_type": "stream", 
       "stream": "stdout", 
       "text": "\nERROR: throughout all the tumult , a question comes to mind : so why is this so boring ?  #1=3 #-1=2"
      }, 
      {
       "output_type": "stream", 
       "stream": "stdout", 
       "text": "\nERROR: cattaneo reworks the formula that made the full monty a smashing success . . . but neglects to add the magic that made it all work .  #1=3 #-1=2"
      }, 
      {
       "output_type": "stream", 
       "stream": "stdout", 
       "text": "\nERROR: routine and rather silly .  #1=3 #-1=2"
      }, 
      {
       "output_type": "stream", 
       "stream": "stdout", 
       "text": "\nCORRECT: a rip-off twice removed , modeled after [seagal&apos;s] earlier copycat under siege , sometimes referred to as die hard on a boat .  #1=0 #-1=5"
      }, 
      {
       "output_type": "stream", 
       "stream": "stdout", 
       "text": "\nERROR: totally overwrought , deeply biased , and wholly designed to make you feel guilty about ignoring what the filmmakers clearly believe are the greatest musicians of all time .  #1=3 #-1=2"
      }, 
      {
       "output_type": "stream", 
       "stream": "stdout", 
       "text": "\nERROR: you can practically hear george orwell turning over .  #1=3 #-1=2"
      }, 
      {
       "output_type": "stream", 
       "stream": "stdout", 
       "text": "\nERROR: behan&apos;s memoir is great material for a film -- rowdy , brawny and lyrical in the best irish sense -- but sheridan has settled for a lugubrious romance .  #1=3 #-1=2"
      }, 
      {
       "output_type": "stream", 
       "stream": "stdout", 
       "text": "\nCORRECT: while holm is terrific as both men and hjejle quite appealing , the film fails to make the most out of the intriguing premise .  #1=1 #-1=4"
      }, 
      {
       "output_type": "stream", 
       "stream": "stdout", 
       "text": "\nCORRECT: lazy filmmaking , with the director taking a hands-off approach when he should have shaped the story to show us why it&apos;s compelling .  #1=2 #-1=3"
      }, 
      {
       "output_type": "stream", 
       "stream": "stdout", 
       "text": "\nCORRECT: if it were any more of a turkey , it would gobble in dolby digital stereo . if nothing else , &quot; rollerball &quot; 2002 may go down in cinema history as the only movie ever in which the rest of the cast was outshined by ll cool j .  #1=2 #-1=3"
      }, 
      {
       "output_type": "stream", 
       "stream": "stdout", 
       "text": "\nCORRECT: a movie that falls victim to frazzled wackiness and frayed satire .  #1=0 #-1=5"
      }, 
      {
       "output_type": "stream", 
       "stream": "stdout", 
       "text": "\nERROR: how do you make a movie with depth about a man who lacked any ? on the evidence before us , the answer is clear : not easily and , in the end , not well enough .  #1=3 #-1=2"
      }, 
      {
       "output_type": "stream", 
       "stream": "stdout", 
       "text": "\nERROR: the film&apos;s trailer also looked like crap , so crap is what i was expecting .  #1=3 #-1=2"
      }, 
      {
       "output_type": "stream", 
       "stream": "stdout", 
       "text": "\nCORRECT: more trifle than triumph .  #1=1 #-1=4"
      }, 
      {
       "output_type": "stream", 
       "stream": "stdout", 
       "text": "\nERROR: the movie is almost completely lacking in suspense , surprise and consistent emotional conviction .  #1=3 #-1=2"
      }, 
      {
       "output_type": "stream", 
       "stream": "stdout", 
       "text": "\nCORRECT: festers in just such a dungpile that you&apos;d swear you were watching monkeys flinging their feces at you .  #1=1 #-1=4"
      }, 
      {
       "output_type": "stream", 
       "stream": "stdout", 
       "text": "\nCORRECT: lyne&apos;s latest , the erotic thriller unfaithful , further demonstrates just how far his storytelling skills have eroded .  #1=1 #-1=4"
      }, 
      {
       "output_type": "stream", 
       "stream": "stdout", 
       "text": "\nCORRECT: it sounds like another clever if pointless excursion into the abyss , and that&apos;s more or less how it plays out .  #1=2 #-1=3"
      }, 
      {
       "output_type": "stream", 
       "stream": "stdout", 
       "text": "\nCORRECT: rumor , a muddled drama about coming to terms with death , feels impersonal , almost generic .  #1=2 #-1=3"
      }, 
      {
       "output_type": "stream", 
       "stream": "stdout", 
       "text": "\nCORRECT: report card : doesn&apos;t live up to the exalted tagline - there&apos;s definite room for improvement . doesn&apos;t deserve a passing grade ( even on a curve ) .  #1=2 #-1=3"
      }, 
      {
       "output_type": "stream", 
       "stream": "stdout", 
       "text": "\nERROR: the pacing is deadly , the narration helps little and naipaul , a juicy writer , is negated .  #1=3 #-1=2"
      }, 
      {
       "output_type": "stream", 
       "stream": "stdout", 
       "text": "\nCORRECT: as his circle of friends keeps getting smaller one of the characters in long time dead says &apos;i&apos;m telling you , this is f * * * ed&apos; . maybe he was reading the minds of the audience .  #1=0 #-1=5"
      }, 
      {
       "output_type": "stream", 
       "stream": "stdout", 
       "text": "\nCORRECT:  . . . if it had been only half-an-hour long or a tv special , the humor would have been fast and furious-- at ninety minutes , it drags .  #1=1 #-1=4"
      }, 
      {
       "output_type": "stream", 
       "stream": "stdout", 
       "text": "\nERROR: bean drops the ball too many times . . . hoping the nifty premise will create enough interest to make up for an unfocused screenplay .  #1=3 #-1=2"
      }, 
      {
       "output_type": "stream", 
       "stream": "stdout", 
       "text": "\nERROR: a well-acted , but one-note film .  #1=4 #-1=1"
      }, 
      {
       "output_type": "stream", 
       "stream": "stdout", 
       "text": "\nERROR: blood work is laughable in the solemnity with which it tries to pump life into overworked elements from eastwood&apos;s dirty harry period .  #1=4 #-1=1"
      }, 
      {
       "output_type": "stream", 
       "stream": "stdout", 
       "text": "\nERROR: the movie is too amateurishly square to make the most of its own ironic implications .  #1=4 #-1=1"
      }, 
      {
       "output_type": "stream", 
       "stream": "stdout", 
       "text": "\nCORRECT: [lee] treats his audience the same way that jim brown treats his women -- as dumb , credulous , unassuming , subordinate subjects . and lee seems just as expectant of an adoring , wide-smiling reception .  #1=2 #-1=3"
      }, 
      {
       "output_type": "stream", 
       "stream": "stdout", 
       "text": "\nCORRECT: there&apos;s not one decent performance from the cast and not one clever line of dialogue .  #1=1 #-1=4"
      }, 
      {
       "output_type": "stream", 
       "stream": "stdout", 
       "text": "\nCORRECT: one of the worst movies of the year . . . . watching it was painful .  #1=0 #-1=5"
      }, 
      {
       "output_type": "stream", 
       "stream": "stdout", 
       "text": "\nCORRECT: a era do gelo diverte , mas n\u00e3o convence . \u00c9 um passatempo descompromissado \u2013 e s\u00f3 .  #1=2 #-1=3"
      }, 
      {
       "output_type": "stream", 
       "stream": "stdout", 
       "text": "\nCORRECT: no amount of burning , blasting , stabbing , and shooting can hide a weak script .  #1=1 #-1=4"
      }, 
      {
       "output_type": "stream", 
       "stream": "stdout", 
       "text": "\nCORRECT: it&apos;s an odd show , pregnant with moods , stillborn except as a harsh conceptual exercise .  #1=2 #-1=3"
      }, 
      {
       "output_type": "stream", 
       "stream": "stdout", 
       "text": "\nERROR: nearly all the fundamentals you take for granted in most films are mishandled here .  #1=3 #-1=2"
      }, 
      {
       "output_type": "stream", 
       "stream": "stdout", 
       "text": "\nERROR: the armenian genocide deserves a more engaged and honest treatment .  #1=3 #-1=2"
      }, 
      {
       "output_type": "stream", 
       "stream": "stdout", 
       "text": "\nCORRECT: earnest yet curiously tepid and choppy recycling in which predictability is the only winner .  #1=1 #-1=4"
      }, 
      {
       "output_type": "stream", 
       "stream": "stdout", 
       "text": "\nCORRECT: ultimately this is a frustrating patchwork : an uneasy marriage of louis begley&apos;s source novel ( about schmidt ) and an old payne screenplay .  #1=1 #-1=4"
      }, 
      {
       "output_type": "stream", 
       "stream": "stdout", 
       "text": "\nCORRECT: the exploitative , clumsily staged violence overshadows everything , including most of the actors .  #1=0 #-1=5"
      }, 
      {
       "output_type": "stream", 
       "stream": "stdout", 
       "text": "\nCORRECT: we started to wonder if \u2026 some unpaid intern had just typed &apos;chris rock , &apos; &apos;anthony hopkins&apos; and &apos;terrorists&apos; into some univac-like script machine .  #1=2 #-1=3"
      }, 
      {
       "output_type": "stream", 
       "stream": "stdout", 
       "text": "\nCORRECT: even when crush departs from the 4w formula . . . it feels like a glossy rehash .  #1=1 #-1=4"
      }, 
      {
       "output_type": "stream", 
       "stream": "stdout", 
       "text": "\nCORRECT: more likely to have you scratching your head than hiding under your seat .  #1=2 #-1=3"
      }, 
      {
       "output_type": "stream", 
       "stream": "stdout", 
       "text": "\nCORRECT: bears is even worse than i imagined a movie ever could be .  #1=1 #-1=4"
      }, 
      {
       "output_type": "stream", 
       "stream": "stdout", 
       "text": "\nCORRECT: when you find yourself rooting for the monsters in a horror movie , you know the picture is in trouble .  #1=2 #-1=3"
      }, 
      {
       "output_type": "stream", 
       "stream": "stdout", 
       "text": "\nCORRECT: this is very much of a mixed bag , with enough negatives to outweigh the positives .  #1=1 #-1=4"
      }, 
      {
       "output_type": "stream", 
       "stream": "stdout", 
       "text": "\nCORRECT: marinated in clich\u00e9s and mawkish dialogue .  #1=1 #-1=4"
      }, 
      {
       "output_type": "stream", 
       "stream": "stdout", 
       "text": "\nCORRECT: whether it&apos;s the worst movie of 2002 , i can&apos;t say for sure : memories of rollerball have faded , and i skipped country bears . but this new jangle of noise , mayhem and stupidity must be a serious contender for the title .  #1=1 #-1=4"
      }, 
      {
       "output_type": "stream", 
       "stream": "stdout", 
       "text": "\nERROR: [a] boldly stroked , luridly coloured , uni-dimensional nonsense machine that strokes the eyeballs while it evaporates like so much crypt mist in the brain .  #1=3 #-1=2"
      }, 
      {
       "output_type": "stream", 
       "stream": "stdout", 
       "text": "\nCORRECT: not once in the rush to save the day did i become very involved in the proceedings ; to me , it was just a matter of &apos;eh . &apos; #1=1 #-1=4"
      }, 
      {
       "output_type": "stream", 
       "stream": "stdout", 
       "text": "\nCORRECT: rollerball is as bad as you think , and worse than you can imagine .  #1=2 #-1=3"
      }, 
      {
       "output_type": "stream", 
       "stream": "stdout", 
       "text": "\nCORRECT: the first question to ask about bad company is why anthony hopkins is in it . we assume he had a bad run in the market or a costly divorce , because there is no earthly reason other than money why this distinguished actor would stoop so low .  #1=2 #-1=3"
      }, 
      {
       "output_type": "stream", 
       "stream": "stdout", 
       "text": "\nCORRECT: not exaggerated enough to be a parody of gross-out flicks , college flicks , or even flicks in general . it merely indulges in the worst elements of all of them .  #1=1 #-1=4"
      }, 
      {
       "output_type": "stream", 
       "stream": "stdout", 
       "text": "\nERROR: shame on writer/director vicente aranda for making a florid biopic about mad queens , obsessive relationships , and rampant adultery so dull .  #1=3 #-1=2"
      }, 
      {
       "output_type": "stream", 
       "stream": "stdout", 
       "text": "\nERROR: suffers from a decided lack of creative storytelling .  #1=3 #-1=2"
      }, 
      {
       "output_type": "stream", 
       "stream": "stdout", 
       "text": "\nERROR: violent , vulgar and forgettably entertaining .  #1=4 #-1=1"
      }, 
      {
       "output_type": "stream", 
       "stream": "stdout", 
       "text": "\nCORRECT: nothing happens , and it happens to flat characters .  #1=0 #-1=5"
      }, 
      {
       "output_type": "stream", 
       "stream": "stdout", 
       "text": "\nERROR: with a completely predictable plot , you&apos;ll swear that you&apos;ve seen it all before , even if you&apos;ve never come within a mile of the longest yard .  #1=5 #-1=0"
      }, 
      {
       "output_type": "stream", 
       "stream": "stdout", 
       "text": "\nERROR: remember back when thrillers actually thrilled ? when the twist endings were actually surprising ? when the violence actually shocked ? when the heroes were actually under 40 ? sadly , as blood work proves , that was a long , long time ago .  #1=4 #-1=1"
      }, 
      {
       "output_type": "stream", 
       "stream": "stdout", 
       "text": "\nCORRECT: blue crush has all the trappings of an energetic , extreme-sports adventure , but ends up more of a creaky &quot; pretty woman &quot; retread , with the emphasis on self-empowering schmaltz and big-wave surfing that gives pic its title an afterthought .  #1=2 #-1=3"
      }, 
      {
       "output_type": "stream", 
       "stream": "stdout", 
       "text": "\nERROR: this movie plays like an extended dialogue exercise in retard 101 .  #1=3 #-1=2"
      }, 
      {
       "output_type": "stream", 
       "stream": "stdout", 
       "text": "\nCORRECT: what we get in feardotcom is more like something from a bad clive barker movie . in other words , it&apos;s badder than bad .  #1=2 #-1=3"
      }, 
      {
       "output_type": "stream", 
       "stream": "stdout", 
       "text": "\nCORRECT: if they broke out into elaborate choreography , singing and finger snapping it might have held my attention , but as it stands i kept looking for the last exit from brooklyn .  #1=1 #-1=4"
      }, 
      {
       "output_type": "stream", 
       "stream": "stdout", 
       "text": "\nCORRECT: a sloppy slapstick throwback to long gone bottom-of-the-bill fare like the ghost and mr . chicken .  #1=2 #-1=3"
      }, 
      {
       "output_type": "stream", 
       "stream": "stdout", 
       "text": "\nCORRECT: a small independent film suffering from a severe case of hollywood-itis .  #1=2 #-1=3"
      }, 
      {
       "output_type": "stream", 
       "stream": "stdout", 
       "text": "\nCORRECT: where the film falters is in its tone .  #1=2 #-1=3"
      }, 
      {
       "output_type": "stream", 
       "stream": "stdout", 
       "text": "\nCORRECT: the story alone could force you to scratch a hole in your head .  #1=1 #-1=4"
      }, 
      {
       "output_type": "stream", 
       "stream": "stdout", 
       "text": "\nERROR: ultimately , sarah&apos;s dedication to finding her husband seems more psychotic than romantic , and nothing in the movie makes a convincing case that one woman&apos;s broken heart outweighs all the loss we witness .  #1=3 #-1=2"
      }, 
      {
       "output_type": "stream", 
       "stream": "stdout", 
       "text": "\nCORRECT: it&apos;s supposed to be a humorous , all-too-human look at how hope can breed a certain kind of madness -- and strength -- but it never quite adds up .  #1=2 #-1=3"
      }, 
      {
       "output_type": "stream", 
       "stream": "stdout", 
       "text": "\nCORRECT: feels more like a rejected x-files episode than a credible account of a puzzling real-life happening .  #1=1 #-1=4"
      }, 
      {
       "output_type": "stream", 
       "stream": "stdout", 
       "text": "\nCORRECT: some motion pictures portray ultimate passion ; others create ultimate thrills . men in black ii achieves ultimate insignificance -- it&apos;s the sci-fi comedy spectacle as whiffle-ball epic .  #1=1 #-1=4"
      }, 
      {
       "output_type": "stream", 
       "stream": "stdout", 
       "text": "\nCORRECT: an enigmatic film that&apos;s too clever for its own good , it&apos;s a conundrum not worth solving .  #1=0 #-1=5"
      }, 
      {
       "output_type": "stream", 
       "stream": "stdout", 
       "text": "\nCORRECT: a zombie movie in every sense of the word--mindless , lifeless , meandering , loud , painful , obnoxious .  #1=2 #-1=3"
      }, 
      {
       "output_type": "stream", 
       "stream": "stdout", 
       "text": "\nERROR: rashomon-for-dipsticks tale .  #1=5 #-1=0\nERROR: a film that clearly means to preach exclusively to the converted .  #1=3 #-1=2"
      }, 
      {
       "output_type": "stream", 
       "stream": "stdout", 
       "text": "\nCORRECT: it doesn&apos;t take a rocket scientist to figure out that this is a mormon family movie , and a sappy , preachy one at that .  #1=2 #-1=3"
      }, 
      {
       "output_type": "stream", 
       "stream": "stdout", 
       "text": "\nERROR: definitely a crowd-pleaser , but then , so was the roman colosseum .  #1=5 #-1=0"
      }, 
      {
       "output_type": "stream", 
       "stream": "stdout", 
       "text": "\nCORRECT: certainly not a good movie , but it wasn&apos;t horrible either .  #1=1 #-1=4"
      }, 
      {
       "output_type": "stream", 
       "stream": "stdout", 
       "text": "\nCORRECT: although it starts off so bad that you feel like running out screaming , it eventually works its way up to merely bad rather than painfully awful .  #1=1 #-1=4"
      }, 
      {
       "output_type": "stream", 
       "stream": "stdout", 
       "text": "\nERROR: the result is so tame that even slightly wised-up kids would quickly change the channel .  #1=3 #-1=2"
      }, 
      {
       "output_type": "stream", 
       "stream": "stdout", 
       "text": "\nERROR: it appears to have been modeled on the worst revenge-of-the-nerds clich\u00e9s the filmmakers could dredge up .  #1=3 #-1=2"
      }, 
      {
       "output_type": "stream", 
       "stream": "stdout", 
       "text": "\nERROR: nothing but an episode of smackdown ! in period costume and with a bigger budget .  #1=4 #-1=1"
      }, 
      {
       "output_type": "stream", 
       "stream": "stdout", 
       "text": "\nERROR: it takes you somewhere you&apos;re not likely to have seen before , but beneath the exotic surface ( and exotic dancing ) it&apos;s surprisingly old-fashioned .  #1=4 #-1=1"
      }, 
      {
       "output_type": "stream", 
       "stream": "stdout", 
       "text": "\nCORRECT: while the story is better-focused than the incomprehensible anne rice novel it&apos;s based upon , queen of the damned is a pointless , meandering celebration of the goth-vampire , tortured woe-is-me lifestyle .  #1=1 #-1=4"
      }, 
      {
       "output_type": "stream", 
       "stream": "stdout", 
       "text": "\nCORRECT: it should be interesting , it should be poignant , it turns out to be affected and boring .  #1=2 #-1=3"
      }, 
      {
       "output_type": "stream", 
       "stream": "stdout", 
       "text": "\nCORRECT: a good-looking but ultimately pointless political thriller with plenty of action and almost no substance .  #1=2 #-1=3"
      }, 
      {
       "output_type": "stream", 
       "stream": "stdout", 
       "text": "\nCORRECT: a tired , predictable , bordering on offensive , waste of time , money and celluloid .  #1=1 #-1=4"
      }, 
      {
       "output_type": "stream", 
       "stream": "stdout", 
       "text": "\nERROR: if hill isn&apos;t quite his generation&apos;s don siegel ( or robert aldrich ) , it&apos;s because there&apos;s no discernible feeling beneath the chest hair ; it&apos;s all bluster and clich\u00e9 .  #1=3 #-1=2"
      }, 
      {
       "output_type": "stream", 
       "stream": "stdout", 
       "text": "\nERROR: stealing harvard will dip into your wallet , swipe 90 minutes of your time , and offer you precisely this in recompense : a few early laughs scattered around a plot as thin as it is repetitious .  #1=3 #-1=2"
      }, 
      {
       "output_type": "stream", 
       "stream": "stdout", 
       "text": "\nERROR: this is an insultingly inept and artificial examination of grief and its impacts upon the relationships of the survivors .  #1=4 #-1=1"
      }, 
      {
       "output_type": "stream", 
       "stream": "stdout", 
       "text": "\nCORRECT: does anyone much think the central story of brendan behan is that he was a bisexual sweetheart before he took to drink ?  #1=1 #-1=4"
      }, 
      {
       "output_type": "stream", 
       "stream": "stdout", 
       "text": "\nERROR: &#96;martin lawrence live&apos; is so self-pitying , i almost expected there to be a collection taken for the comedian at the end of the show .  #1=3 #-1=2"
      }, 
      {
       "output_type": "stream", 
       "stream": "stdout", 
       "text": "\nCORRECT: the dialogue is cumbersome , the simpering soundtrack and editing more so .  #1=1 #-1=4"
      }, 
      {
       "output_type": "stream", 
       "stream": "stdout", 
       "text": "\nCORRECT: never decides whether it wants to be a black comedy , drama , melodrama or some combination of the three .  #1=1 #-1=4"
      }, 
      {
       "output_type": "stream", 
       "stream": "stdout", 
       "text": "\nERROR: it has become apparent that the franchise&apos;s best years are long past .  #1=5 #-1=0"
      }, 
      {
       "output_type": "stream", 
       "stream": "stdout", 
       "text": "\nCORRECT: does what should seem impossible : it makes serial killer jeffrey dahmer boring .  #1=2 #-1=3"
      }, 
      {
       "output_type": "stream", 
       "stream": "stdout", 
       "text": "\nCORRECT: don&apos;t hate el crimen del padre amaro because it&apos;s anti-catholic . hate it because it&apos;s lousy .  #1=2 #-1=3"
      }, 
      {
       "output_type": "stream", 
       "stream": "stdout", 
       "text": "\nERROR:  . . . better described as a ghost story gone badly awry .  #1=3 #-1=2"
      }, 
      {
       "output_type": "stream", 
       "stream": "stdout", 
       "text": "\nCORRECT: like a bad improvisation exercise , the superficially written characters ramble on tediously about their lives , loves and the art they&apos;re struggling to create .  #1=2 #-1=3"
      }, 
      {
       "output_type": "stream", 
       "stream": "stdout", 
       "text": "\nCORRECT: the filmmakers are playing to the big boys in new york and l . a . to that end , they mock the kind of folks they don&apos;t understand , ones they figure the power-lunchers don&apos;t care to understand , either .  #1=0 #-1=5"
      }, 
      {
       "output_type": "stream", 
       "stream": "stdout", 
       "text": "\nCORRECT: competently directed but terminally cute drama .  #1=2 #-1=3"
      }, 
      {
       "output_type": "stream", 
       "stream": "stdout", 
       "text": "\nCORRECT: the big finish is a bit like getting all excited about a chocolate eclair and then biting into it and finding the filling missing .  #1=2 #-1=3"
      }, 
      {
       "output_type": "stream", 
       "stream": "stdout", 
       "text": "\nERROR: not just unlikable . disturbing . disgusting . without any redeeming value whatsoever .  #1=3 #-1=2"
      }, 
      {
       "output_type": "stream", 
       "stream": "stdout", 
       "text": "\nCORRECT: this thing is virtually unwatchable .  #1=1 #-1=4"
      }, 
      {
       "output_type": "stream", 
       "stream": "stdout", 
       "text": "\nERROR: those eternally devoted to the insanity of black will have an intermittently good time . feel free to go get popcorn whenever he&apos;s not onscreen .  #1=3 #-1=2"
      }, 
      {
       "output_type": "stream", 
       "stream": "stdout", 
       "text": "\nCORRECT: the self-serious equilibrium makes its point too well ; a movie , like life , isn&apos;t much fun without the highs and lows .  #1=1 #-1=4"
      }, 
      {
       "output_type": "stream", 
       "stream": "stdout", 
       "text": "\nERROR: the work of an exhausted , desiccated talent who can&apos;t get out of his own way .  #1=4 #-1=1"
      }, 
      {
       "output_type": "stream", 
       "stream": "stdout", 
       "text": "\nCORRECT: the main characters are simply named the husband , the wife and the kidnapper , emphasizing the disappointingly generic nature of the entire effort .  #1=2 #-1=3"
      }, 
      {
       "output_type": "stream", 
       "stream": "stdout", 
       "text": "\nERROR: in terms of execution this movie is careless and unfocused .  #1=3 #-1=2"
      }, 
      {
       "output_type": "stream", 
       "stream": "stdout", 
       "text": "\nERROR: swims in mediocrity , sticking its head up for a breath of fresh air now and then .  #1=5 #-1=0"
      }, 
      {
       "output_type": "stream", 
       "stream": "stdout", 
       "text": "\nCORRECT: the only type of lives this glossy comedy-drama resembles are ones in formulaic mainstream movies .  #1=0 #-1=5"
      }, 
      {
       "output_type": "stream", 
       "stream": "stdout", 
       "text": "\nERROR: the characters . . . are paper-thin , and their personalities undergo radical changes when it suits the script .  #1=3 #-1=2"
      }, 
      {
       "output_type": "stream", 
       "stream": "stdout", 
       "text": "\nCORRECT: a sha-na-na sketch punctuated with graphic violence .  #1=2 #-1=3"
      }, 
      {
       "output_type": "stream", 
       "stream": "stdout", 
       "text": "\nCORRECT: the trouble is , its filmmakers run out of clever ideas and visual gags about halfway through .  #1=2 #-1=3"
      }, 
      {
       "output_type": "stream", 
       "stream": "stdout", 
       "text": "\nCORRECT: spy-vs . -spy action flick with antonio banderas and lucy liu never comes together .  #1=2 #-1=3"
      }, 
      {
       "output_type": "stream", 
       "stream": "stdout", 
       "text": "\nCORRECT: a so-so , made-for-tv something posing as a real movie .  #1=2 #-1=3"
      }, 
      {
       "output_type": "stream", 
       "stream": "stdout", 
       "text": "\nERROR: the only upside to all of this unpleasantness is , given its labor day weekend upload , feardotcom should log a minimal number of hits .  #1=3 #-1=2"
      }, 
      {
       "output_type": "stream", 
       "stream": "stdout", 
       "text": "\nERROR: whether this is art imitating life or life imitating art , it&apos;s an unhappy situation all around .  #1=4 #-1=1"
      }, 
      {
       "output_type": "stream", 
       "stream": "stdout", 
       "text": "\nERROR: an uneasy mix of run-of-the-mill raunchy humor and seemingly sincere personal reflection .  #1=4 #-1=1"
      }, 
      {
       "output_type": "stream", 
       "stream": "stdout", 
       "text": "\nERROR: a formula family tearjerker told with a heavy irish brogue . . . accentuating , rather than muting , the plot&apos;s saccharine thrust .  #1=3 #-1=2"
      }, 
      {
       "output_type": "stream", 
       "stream": "stdout", 
       "text": "\nCORRECT: this is sandler running on empty , repeating what he&apos;s already done way too often .  #1=0 #-1=5"
      }, 
      {
       "output_type": "stream", 
       "stream": "stdout", 
       "text": "\nERROR: this is as lax and limp a comedy as i&apos;ve seen in a while , a meander through worn-out material .  #1=3 #-1=2"
      }, 
      {
       "output_type": "stream", 
       "stream": "stdout", 
       "text": "\nCORRECT: time literally stops on a dime in the tries-so-hard-to-be-cool &quot; clockstoppers , &quot; but that doesn&apos;t mean it still won&apos;t feel like the longest 90 minutes of your movie-going life .  #1=2 #-1=3"
      }, 
      {
       "output_type": "stream", 
       "stream": "stdout", 
       "text": "\nERROR: the sort of picture in which , whenever one of the characters has some serious soul searching to do , they go to a picture-perfect beach during sunset .  #1=3 #-1=2"
      }, 
      {
       "output_type": "stream", 
       "stream": "stdout", 
       "text": "\nCORRECT: aptly named , this shimmering , beautifully costumed and filmed production doesn&apos;t work for me .  #1=1 #-1=4"
      }, 
      {
       "output_type": "stream", 
       "stream": "stdout", 
       "text": "\nCORRECT: a preposterously melodramatic paean to gang-member teens in brooklyn circa 1958 .  #1=1 #-1=4"
      }, 
      {
       "output_type": "stream", 
       "stream": "stdout", 
       "text": "\nCORRECT: has none of the crackle of &quot; fatal attraction &quot; , &quot; 9 \u00bd weeks &quot; , or even &quot; indecent proposal &quot; , and feels more like lyne&apos;s stolid remake of &quot; lolita &quot; .  #1=1 #-1=4"
      }, 
      {
       "output_type": "stream", 
       "stream": "stdout", 
       "text": "\nCORRECT: everything its title implies , a standard-issue crime drama spat out from the tinseltown assembly line .  #1=2 #-1=3"
      }, 
      {
       "output_type": "stream", 
       "stream": "stdout", 
       "text": "\nERROR: an extraordinarily silly thriller .  #1=5 #-1=0\nERROR: a rehash of every gangster movie from the past decade .  #1=3 #-1=2"
      }, 
      {
       "output_type": "stream", 
       "stream": "stdout", 
       "text": "\nCORRECT: gaping plot holes sink this &apos;sub&apos;-standard thriller and drag audience enthusiasm to crush depth .  #1=2 #-1=3"
      }, 
      {
       "output_type": "stream", 
       "stream": "stdout", 
       "text": "\nCORRECT: talkiness isn&apos;t necessarily bad , but the dialogue frequently misses the mark .  #1=2 #-1=3"
      }, 
      {
       "output_type": "stream", 
       "stream": "stdout", 
       "text": "\nCORRECT: the beautiful images and solemn words cannot disguise the slack complacency of [godard&apos;s] vision , any more than the gorgeous piano and strings on the soundtrack can drown out the tinny self-righteousness of his voice .  #1=1 #-1=4"
      }, 
      {
       "output_type": "stream", 
       "stream": "stdout", 
       "text": "\nERROR: the stunt work is top-notch ; the dialogue and drama often food-spittingly funny .  #1=3 #-1=2"
      }, 
      {
       "output_type": "stream", 
       "stream": "stdout", 
       "text": "\nCORRECT: the movie isn&apos;t painfully bad , something to be &apos;fully experienced&apos; ; it&apos;s just tediously bad , something to be fully forgotten .  #1=1 #-1=4"
      }, 
      {
       "output_type": "stream", 
       "stream": "stdout", 
       "text": "\nCORRECT: charly comes off as emotionally manipulative and sadly imitative of innumerable past love story derisions .  #1=1 #-1=4"
      }, 
      {
       "output_type": "stream", 
       "stream": "stdout", 
       "text": "\nERROR: what a great shame that such a talented director as chen kaige has chosen to make his english-language debut with a film so poorly plotted and scripted .  #1=4 #-1=1"
      }, 
      {
       "output_type": "stream", 
       "stream": "stdout", 
       "text": "\nCORRECT: no amount of good intentions is able to overcome the triviality of the story .  #1=2 #-1=3"
      }, 
      {
       "output_type": "stream", 
       "stream": "stdout", 
       "text": "\nCORRECT: the film . . . presents classic moral-condundrum drama : what would you have done to survive ? the problem with the film is whether these ambitions , laudable in themselves , justify a theatrical simulation of the death camp of auschwitz ii-birkenau .  #1=0 #-1=5"
      }, 
      {
       "output_type": "stream", 
       "stream": "stdout", 
       "text": "\nCORRECT:  . . . for all its social and political potential , state property doesn&apos;t end up being very inspiring or insightful .  #1=2 #-1=3"
      }, 
      {
       "output_type": "stream", 
       "stream": "stdout", 
       "text": "\nCORRECT: a film really has to be exceptional to justify a three hour running time , and this isn&apos;t .  #1=1 #-1=4"
      }, 
      {
       "output_type": "stream", 
       "stream": "stdout", 
       "text": "\nCORRECT: little more than a stylish exercise in revisionism whose point . . . is no doubt true , but serves as a rather thin moral to such a knowing fable .  #1=2 #-1=3"
      }, 
      {
       "output_type": "stream", 
       "stream": "stdout", 
       "text": "\nCORRECT: the nonstop artifice ultimately proves tiresome , with the surface histrionics failing to compensate for the paper-thin characterizations and facile situations .  #1=1 #-1=4"
      }, 
      {
       "output_type": "stream", 
       "stream": "stdout", 
       "text": "\nCORRECT: this is a monumental achievement in practically every facet of inept filmmaking : joyless , idiotic , annoying , heavy-handed , visually atrocious , and often downright creepy .  #1=2 #-1=3"
      }, 
      {
       "output_type": "stream", 
       "stream": "stdout", 
       "text": "\nERROR: this off-putting french romantic comedy is sure to test severely the indulgence of fans of am\u00e9lie .  #1=4 #-1=1"
      }, 
      {
       "output_type": "stream", 
       "stream": "stdout", 
       "text": "\nCORRECT: overburdened with complicated plotting and banal dialogue #1=2 #-1=3"
      }, 
      {
       "output_type": "stream", 
       "stream": "stdout", 
       "text": "\nCORRECT: ensemble movies , like soap operas , depend on empathy . if there ain&apos;t none , you have a problem .  #1=1 #-1=4"
      }, 
      {
       "output_type": "stream", 
       "stream": "stdout", 
       "text": "\nCORRECT: the master of disguise falls under the category of &apos;should have been a sketch on saturday night live . &apos; #1=1 #-1=4"
      }, 
      {
       "output_type": "stream", 
       "stream": "stdout", 
       "text": "\nCORRECT: yet another self-consciously overwritten story about a rag-tag bunch of would-be characters that team up for a can&apos;t-miss heist -- only to have it all go wrong .  #1=2 #-1=3"
      }, 
      {
       "output_type": "stream", 
       "stream": "stdout", 
       "text": "\nCORRECT: koepp&apos;s screenplay isn&apos;t nearly surprising or clever enough to sustain a reasonable degree of suspense on its own .  #1=2 #-1=3"
      }, 
      {
       "output_type": "stream", 
       "stream": "stdout", 
       "text": "\nCORRECT: is it really an advantage to invest such subtlety and warmth in an animatronic bear when the humans are acting like puppets ?  #1=2 #-1=3"
      }, 
      {
       "output_type": "stream", 
       "stream": "stdout", 
       "text": "\nERROR: more successful at relating history than in creating an emotionally complex , dramatically satisfying heroine #1=5 #-1=0"
      }, 
      {
       "output_type": "stream", 
       "stream": "stdout", 
       "text": "\nCORRECT: clumsy , obvious , preposterous , the movie will likely set the cause of woman warriors back decades .  #1=0 #-1=5"
      }, 
      {
       "output_type": "stream", 
       "stream": "stdout", 
       "text": "\nCORRECT: it&apos;s hard to pity the &apos;plain&apos; girl who becomes a ravishing waif after applying a smear of lip-gloss . rather , pity anyone who sees this mishmash .  #1=1 #-1=4"
      }, 
      {
       "output_type": "stream", 
       "stream": "stdout", 
       "text": "\nERROR: a banal , virulently unpleasant excuse for a romantic comedy .  #1=5 #-1=0"
      }, 
      {
       "output_type": "stream", 
       "stream": "stdout", 
       "text": "\nCORRECT: the drama discloses almost nothing .  #1=2 #-1=3"
      }, 
      {
       "output_type": "stream", 
       "stream": "stdout", 
       "text": "\nCORRECT: a minor-league soccer remake of the longest yard .  #1=2 #-1=3"
      }, 
      {
       "output_type": "stream", 
       "stream": "stdout", 
       "text": "\nERROR: belongs in the too-hot-for-tv direct-to-video/dvd category , and this is why i have given it a one-star rating .  #1=3 #-1=2"
      }, 
      {
       "output_type": "stream", 
       "stream": "stdout", 
       "text": "\nCORRECT: as earnest as a community-college advertisement , american chai is enough to make you put away the guitar , sell the amp , and apply to medical school .  #1=1 #-1=4"
      }, 
      {
       "output_type": "stream", 
       "stream": "stdout", 
       "text": "\nCORRECT: a dim-witted and lazy spin-off of the animal planet documentary series , crocodile hunter is entertainment opportunism at its most glaring .  #1=2 #-1=3"
      }, 
      {
       "output_type": "stream", 
       "stream": "stdout", 
       "text": "\nCORRECT: there is more than one joke about putting the toilet seat down . and that should tell you everything you need to know about all the queen&apos;s men .  #1=2 #-1=3"
      }, 
      {
       "output_type": "stream", 
       "stream": "stdout", 
       "text": "\nCORRECT: even fans of ismail merchant&apos;s work , i suspect , would have a hard time sitting through this one .  #1=0 #-1=5"
      }, 
      {
       "output_type": "stream", 
       "stream": "stdout", 
       "text": "\nCORRECT: it&apos;s really just another silly hollywood action film , one among a multitude of simple-minded , yahoo-ing death shows .  #1=2 #-1=3"
      }, 
      {
       "output_type": "stream", 
       "stream": "stdout", 
       "text": "\nCORRECT: it&apos;s not a particularly good film , but neither is it a monsterous one .  #1=2 #-1=3"
      }, 
      {
       "output_type": "stream", 
       "stream": "stdout", 
       "text": "\nERROR: the world needs more filmmakers with passionate enthusiasms like martin scorsese . but it doesn&apos;t need gangs of new york .  #1=3 #-1=2"
      }, 
      {
       "output_type": "stream", 
       "stream": "stdout", 
       "text": "\nERROR: enchanted with low-life tragedy and liberally seasoned with emotional outbursts . . . what is sorely missing , however , is the edge of wild , lunatic invention that we associate with cage&apos;s best acting .  #1=4 #-1=1"
      }, 
      {
       "output_type": "stream", 
       "stream": "stdout", 
       "text": "\nERROR: harry potter and the chamber of secrets is deja vu all over again , and while that is a cliche , nothing could be more appropriate . it&apos;s likely that whatever you thought of the first production -- pro or con -- you&apos;ll likely think of this one .  #1=3 #-1=2"
      }, 
      {
       "output_type": "stream", 
       "stream": "stdout", 
       "text": "\nERROR: sade achieves the near-impossible : it turns the marquis de sade into a dullard .  #1=3 #-1=2"
      }, 
      {
       "output_type": "stream", 
       "stream": "stdout", 
       "text": "\nCORRECT: [lin chung&apos;s] voice is rather unexceptional , even irritating ( at least to this western ear ) , making it awfully hard to buy the impetus for the complicated love triangle that develops between the three central characters .  #1=1 #-1=4"
      }, 
      {
       "output_type": "stream", 
       "stream": "stdout", 
       "text": "\nERROR: one of the most plain , unimaginative romantic comedies i&apos;ve ever seen .  #1=5 #-1=0"
      }, 
      {
       "output_type": "stream", 
       "stream": "stdout", 
       "text": "\nERROR: though there&apos;s a clarity of purpose and even-handedness to the film&apos;s direction , the drama feels rigged and sluggish .  #1=3 #-1=2"
      }, 
      {
       "output_type": "stream", 
       "stream": "stdout", 
       "text": "\nCORRECT: unfortunately , the experience of actually watching the movie is less compelling than the circumstances of its making .  #1=2 #-1=3"
      }, 
      {
       "output_type": "stream", 
       "stream": "stdout", 
       "text": "\nERROR: unless there are zoning ordinances to protect your community from the dullest science fiction , impostor is opening today at a theater near you .  #1=3 #-1=2"
      }, 
      {
       "output_type": "stream", 
       "stream": "stdout", 
       "text": "\nCORRECT: it should be doing a lot of things , but doesn&apos;t .  #1=0 #-1=5"
      }, 
      {
       "output_type": "stream", 
       "stream": "stdout", 
       "text": "\nCORRECT: chen films the resolutely downbeat smokers only with every indulgent , indie trick in the book .  #1=1 #-1=4"
      }, 
      {
       "output_type": "stream", 
       "stream": "stdout", 
       "text": "\nERROR:  . . . a rather bland affair .  #1=4 #-1=1"
      }, 
      {
       "output_type": "stream", 
       "stream": "stdout", 
       "text": "\nERROR: far-fetched premise , convoluted plot , and thematic mumbo jumbo about destiny and redemptive love .  #1=3 #-1=2"
      }, 
      {
       "output_type": "stream", 
       "stream": "stdout", 
       "text": "\nCORRECT: the movie tries to be ethereal , but ends up seeming goofy .  #1=0 #-1=5"
      }, 
      {
       "output_type": "stream", 
       "stream": "stdout", 
       "text": "\nCORRECT: i was hoping that it would be sleazy and fun , but it was neither .  #1=2 #-1=3"
      }, 
      {
       "output_type": "stream", 
       "stream": "stdout", 
       "text": "\nCORRECT: harris is supposed to be the star of the story , but comes across as pretty dull and wooden .  #1=1 #-1=4"
      }, 
      {
       "output_type": "stream", 
       "stream": "stdout", 
       "text": "\nERROR: soulless and -- even more damning -- virtually joyless , xxx achieves near virtuosity in its crapulence .  #1=5 #-1=0"
      }, 
      {
       "output_type": "stream", 
       "stream": "stdout", 
       "text": "\nCORRECT: a boring masquerade ball where normally good actors , even kingsley , are made to look bad .  #1=2 #-1=3"
      }, 
      {
       "output_type": "stream", 
       "stream": "stdout", 
       "text": "\nCORRECT: all the queen&apos;s men is a throwback war movie that fails on so many levels , it should pay reparations to viewers .  #1=2 #-1=3"
      }, 
      {
       "output_type": "stream", 
       "stream": "stdout", 
       "text": "\nCORRECT: the filmmakers keep pushing the jokes at the expense of character until things fall apart .  #1=2 #-1=3"
      }, 
      {
       "output_type": "stream", 
       "stream": "stdout", 
       "text": "\nERROR: rather than real figures , elling and kjell bjarne become symbolic characters whose actions are supposed to relate something about the na\u00eff&apos;s encounter with the world .  #1=3 #-1=2"
      }, 
      {
       "output_type": "stream", 
       "stream": "stdout", 
       "text": "\nERROR: mariah carey gives us another peek at some of the magic we saw in glitter here in wisegirls .  #1=4 #-1=1"
      }, 
      {
       "output_type": "stream", 
       "stream": "stdout", 
       "text": "\nCORRECT: it&apos;s all arty and jazzy and people sit and stare and turn away from one another instead of talking and it&apos;s all about the silences and if you&apos;re into that , have at it .  #1=2 #-1=3"
      }, 
      {
       "output_type": "stream", 
       "stream": "stdout", 
       "text": "\nERROR: i suspect that you&apos;ll be as bored watching morvern callar as the characters are in it . if you go , pack your knitting needles .  #1=3 #-1=2"
      }, 
      {
       "output_type": "stream", 
       "stream": "stdout", 
       "text": "\nCORRECT: the lead actors share no chemistry or engaging charisma . we don&apos;t even like their characters .  #1=2 #-1=3"
      }, 
      {
       "output_type": "stream", 
       "stream": "stdout", 
       "text": "\nCORRECT: some writer dude , i think his name was , uh , michael zaidan , was supposed to have like written the screenplay or something , but , dude , the only thing that i ever saw that was written down were the zeroes on my paycheck .  #1=0 #-1=5"
      }, 
      {
       "output_type": "stream", 
       "stream": "stdout", 
       "text": "\nCORRECT: the movie doesn&apos;t generate a lot of energy . it is dark , brooding and slow , and takes its central idea way too seriously .  #1=0 #-1=5"
      }, 
      {
       "output_type": "stream", 
       "stream": "stdout", 
       "text": "\nERROR: this feature is about as necessary as a hole in the head #1=5 #-1=0"
      }, 
      {
       "output_type": "stream", 
       "stream": "stdout", 
       "text": "\nERROR: the cinematic equivalent of patronizing a bar favored by pretentious , untalented artistes who enjoy moaning about their cruel fate .  #1=3 #-1=2"
      }, 
      {
       "output_type": "stream", 
       "stream": "stdout", 
       "text": "\nERROR: spectators will indeed sit open-mouthed before the screen , not screaming but yawning .  #1=3 #-1=2"
      }, 
      {
       "output_type": "stream", 
       "stream": "stdout", 
       "text": "\nCORRECT: it feels like very light errol morris , focusing on eccentricity but failing , ultimately , to make something bigger out of its scrapbook of oddballs .  #1=2 #-1=3"
      }, 
      {
       "output_type": "stream", 
       "stream": "stdout", 
       "text": "\nCORRECT: a period story about a catholic boy who tries to help a jewish friend get into heaven by sending the audience straight to hell .  #1=2 #-1=3"
      }, 
      {
       "output_type": "stream", 
       "stream": "stdout", 
       "text": "\nERROR: the premise itself is just sooooo tired . pair that with really poor comedic writing . . . and you&apos;ve got a huge mess .  #1=3 #-1=2"
      }, 
      {
       "output_type": "stream", 
       "stream": "stdout", 
       "text": "\nCORRECT: proves a lovely trifle that , unfortunately , is a little too in love with its own cuteness .  #1=2 #-1=3"
      }, 
      {
       "output_type": "stream", 
       "stream": "stdout", 
       "text": "\nCORRECT: did we really need a remake of &quot; charade ? &quot;  #1=2 #-1=3"
      }, 
      {
       "output_type": "stream", 
       "stream": "stdout", 
       "text": "\nCORRECT: some movies can get by without being funny simply by structuring the scenes as if they were jokes : a setup , delivery and payoff . stealing harvard can&apos;t even do that much . each scene immediately succumbs to gravity and plummets to earth .  #1=0 #-1=5"
      }, 
      {
       "output_type": "stream", 
       "stream": "stdout", 
       "text": "\nERROR: the only fun part of the movie is playing the obvious game . you try to guess the order in which the kids in the house will be gored .  #1=4 #-1=1"
      }, 
      {
       "output_type": "stream", 
       "stream": "stdout", 
       "text": "\nCORRECT: i spied with my little eye . . . a mediocre collection of cookie-cutter action scenes and occasionally inspired dialogue bits #1=1 #-1=4"
      }, 
      {
       "output_type": "stream", 
       "stream": "stdout", 
       "text": "\nERROR: entertains not so much because of its music or comic antics , but through the perverse pleasure of watching disney scrape the bottom of its own cracker barrel .  #1=3 #-1=2"
      }, 
      {
       "output_type": "stream", 
       "stream": "stdout", 
       "text": "\nCORRECT: the satire is just too easy to be genuinely satisfying .  #1=2 #-1=3"
      }, 
      {
       "output_type": "stream", 
       "stream": "stdout", 
       "text": "\nERROR: bearable . barely .  #1=4 #-1=1\nERROR: less funny than it should be and less funny than it thinks it is .  #1=3 #-1=2"
      }, 
      {
       "output_type": "stream", 
       "stream": "stdout", 
       "text": "\nCORRECT: an &quot; o bruin , where art thou ? &quot; -style cross-country adventure . . . it has sporadic bursts of liveliness , some so-so slapstick and a few ear-pleasing songs on its soundtrack .  #1=2 #-1=3"
      }, 
      {
       "output_type": "stream", 
       "stream": "stdout", 
       "text": "\nCORRECT: a feeble tootsie knockoff .  #1=0 #-1=5"
      }, 
      {
       "output_type": "stream", 
       "stream": "stdout", 
       "text": "\nCORRECT: an awful movie that will only satisfy the most emotionally malleable of filmgoers .  #1=2 #-1=3"
      }, 
      {
       "output_type": "stream", 
       "stream": "stdout", 
       "text": "\nCORRECT: \u2026the story is far-flung , illogical , and plain stupid .  #1=2 #-1=3"
      }, 
      {
       "output_type": "stream", 
       "stream": "stdout", 
       "text": "\nCORRECT: the very simple story seems too simple and the working out of the plot almost arbitrary .  #1=2 #-1=3"
      }, 
      {
       "output_type": "stream", 
       "stream": "stdout", 
       "text": "\nCORRECT: an allegory concerning the chronically mixed signals african american professionals get about overachieving could be intriguing , but the supernatural trappings only obscure the message .  #1=1 #-1=4"
      }, 
      {
       "output_type": "stream", 
       "stream": "stdout", 
       "text": "\nERROR: a very familiar tale , one that&apos;s been told by countless filmmakers about italian- , chinese- , irish- , latin- , indian- , russian- and other hyphenate american young men struggling to balance conflicting cultural messages .  #1=3 #-1=2"
      }, 
      {
       "output_type": "stream", 
       "stream": "stdout", 
       "text": "\nCORRECT: one key problem with these ardently christian storylines is that there is never any question of how things will turn out .  #1=2 #-1=3"
      }, 
      {
       "output_type": "stream", 
       "stream": "stdout", 
       "text": "\nCORRECT: essentially , the film is weak on detail and strong on personality #1=2 #-1=3"
      }, 
      {
       "output_type": "stream", 
       "stream": "stdout", 
       "text": "\nERROR: a relentless , bombastic and ultimately empty world war ii action flick .  #1=4 #-1=1"
      }, 
      {
       "output_type": "stream", 
       "stream": "stdout", 
       "text": "\nCORRECT: [hell is] looking down at your watch and realizing serving sara isn&apos;t even halfway through .  #1=0 #-1=5"
      }, 
      {
       "output_type": "stream", 
       "stream": "stdout", 
       "text": "\nCORRECT: too long , and larded with exposition , this somber cop drama ultimately feels as flat as the scruffy sands of its titular community .  #1=1 #-1=4"
      }, 
      {
       "output_type": "stream", 
       "stream": "stdout", 
       "text": "\nCORRECT: leaves viewers out in the cold and undermines some phenomenal performances .  #1=2 #-1=3"
      }, 
      {
       "output_type": "stream", 
       "stream": "stdout", 
       "text": "\nERROR:  . . . a ho-hum affair , always watchable yet hardly memorable .  #1=4 #-1=1"
      }, 
      {
       "output_type": "stream", 
       "stream": "stdout", 
       "text": "\nCORRECT: swiftly deteriorates into a terribly obvious melodrama and rough-hewn vanity project for lead actress andie macdowell .  #1=2 #-1=3"
      }, 
      {
       "output_type": "stream", 
       "stream": "stdout", 
       "text": "\nCORRECT: the histrionic muse still eludes madonna and , playing a charmless witch , she is merely a charmless witch .  #1=1 #-1=4"
      }, 
      {
       "output_type": "stream", 
       "stream": "stdout", 
       "text": "\nCORRECT: you have no affinity for most of the characters . nothing about them is attractive . what they see in each other also is difficult to fathom .  #1=2 #-1=3"
      }, 
      {
       "output_type": "stream", 
       "stream": "stdout", 
       "text": "\nCORRECT: diaz , applegate , blair and posey are suitably kooky which should appeal to women and they strip down often enough to keep men alert , if not amused .  #1=2 #-1=3"
      }, 
      {
       "output_type": "stream", 
       "stream": "stdout", 
       "text": "\nERROR: a technically well-made suspenser . . . but its abrupt drop in iq points as it races to the finish line proves simply too discouraging to let slide .  #1=3 #-1=2"
      }, 
      {
       "output_type": "stream", 
       "stream": "stdout", 
       "text": "\nCORRECT: an inept , tedious spoof of &apos;70s kung fu pictures , it contains almost enough chuckles for a three-minute sketch , and no more .  #1=2 #-1=3"
      }, 
      {
       "output_type": "stream", 
       "stream": "stdout", 
       "text": "\nCORRECT: it&apos;s a mystery how the movie could be released in this condition .  #1=1 #-1=4"
      }, 
      {
       "output_type": "stream", 
       "stream": "stdout", 
       "text": "\nCORRECT: absolutely ( and unintentionally ) terrifying .  #1=1 #-1=4"
      }, 
      {
       "output_type": "stream", 
       "stream": "stdout", 
       "text": "\nCORRECT: eckstraordinarily lame and severely boring .  #1=2 #-1=3"
      }, 
      {
       "output_type": "stream", 
       "stream": "stdout", 
       "text": "\nERROR: eight legged freaks falls flat as a spoof .  #1=4 #-1=1"
      }, 
      {
       "output_type": "stream", 
       "stream": "stdout", 
       "text": "\nERROR: no matter how much he runs around and acts like a doofus , accepting a 50-year-old in the role is creepy in a michael jackson sort of way .  #1=3 #-1=2"
      }, 
      {
       "output_type": "stream", 
       "stream": "stdout", 
       "text": "\nCORRECT: you&apos;ll just have your head in your hands wondering why lee&apos;s character didn&apos;t just go to a bank manager and save everyone the misery .  #1=1 #-1=4"
      }, 
      {
       "output_type": "stream", 
       "stream": "stdout", 
       "text": "\nCORRECT: &apos;dragonfly&apos; dwells on crossing-over mumbo jumbo , manipulative sentimentality , and sappy dialogue .  #1=2 #-1=3"
      }, 
      {
       "output_type": "stream", 
       "stream": "stdout", 
       "text": "\nERROR: in his determination to lighten the heavy subject matter , silberling also , to a certain extent , trivializes the movie with too many nervous gags and pratfalls .  #1=4 #-1=1"
      }, 
      {
       "output_type": "stream", 
       "stream": "stdout", 
       "text": "\nERROR: blade ii has a brilliant director and charismatic star , but it suffers from rampant vampire devaluation .  #1=3 #-1=2"
      }, 
      {
       "output_type": "stream", 
       "stream": "stdout", 
       "text": "\nCORRECT: veers uncomfortably close to pro-serb propaganda .  #1=1 #-1=4"
      }, 
      {
       "output_type": "stream", 
       "stream": "stdout", 
       "text": "\nERROR: staggeringly dreadful romance .  #1=3 #-1=2\nERROR: movies like high crimes flog the dead horse of surprise as if it were an obligation . how about surprising us by trying something new ?  #1=3 #-1=2"
      }, 
      {
       "output_type": "stream", 
       "stream": "stdout", 
       "text": "\nCORRECT: final verdict : you&apos;ve seen it all before .  #1=2 #-1=3"
      }, 
      {
       "output_type": "stream", 
       "stream": "stdout", 
       "text": "\nCORRECT: throwing in everything except someone pulling the pin from a grenade with his teeth , windtalkers seems to have ransacked every old world war ii movie for overly familiar material .  #1=2 #-1=3"
      }, 
      {
       "output_type": "stream", 
       "stream": "stdout", 
       "text": "\nCORRECT: if a few good men told us that we &quot; can&apos;t handle the truth &quot; than high crimes poetically states at one point in this movie that we &quot; don&apos;t care about the truth . &quot;  #1=2 #-1=3"
      }, 
      {
       "output_type": "stream", 
       "stream": "stdout", 
       "text": "\nCORRECT: further sad evidence that tom tykwer , director of the resonant and sense-spinning run lola run , has turned out to be a one-trick pony -- a maker of softheaded metaphysical claptrap .  #1=1 #-1=4"
      }, 
      {
       "output_type": "stream", 
       "stream": "stdout", 
       "text": "\nCORRECT: you&apos;ll trudge out of the theater feeling as though you rode the zipper after eating a corn dog and an extra-large cotton candy .  #1=2 #-1=3"
      }, 
      {
       "output_type": "stream", 
       "stream": "stdout", 
       "text": "\nERROR: the movie is a little tired ; maybe the original inspiration has run its course .  #1=3 #-1=2"
      }, 
      {
       "output_type": "stream", 
       "stream": "stdout", 
       "text": "\nCORRECT: this will go on so long as there are moviegoers anxious to see strange young guys doing strange guy things .  #1=0 #-1=5"
      }, 
      {
       "output_type": "stream", 
       "stream": "stdout", 
       "text": "\nCORRECT: a full-frontal attack on audience patience .  #1=1 #-1=4"
      }, 
      {
       "output_type": "stream", 
       "stream": "stdout", 
       "text": "\nERROR: any intellectual arguments being made about the nature of god are framed in a drama so clumsy , there is a real danger less sophisticated audiences will mistake it for an endorsement of the very things that bean abhors .  #1=3 #-1=2"
      }, 
      {
       "output_type": "stream", 
       "stream": "stdout", 
       "text": "\nCORRECT: it&apos;s a big idea , but the film itself is small and shriveled .  #1=0 #-1=5"
      }, 
      {
       "output_type": "stream", 
       "stream": "stdout", 
       "text": "\nERROR: debut effort by &quot; project greenlight &quot; winner is sappy and amateurish .  #1=3 #-1=2"
      }, 
      {
       "output_type": "stream", 
       "stream": "stdout", 
       "text": "\nCORRECT: one gets the impression the creators of don&apos;t ask don&apos;t tell laughed a hell of a lot at their own jokes . too bad none of it is funny .  #1=2 #-1=3"
      }, 
      {
       "output_type": "stream", 
       "stream": "stdout", 
       "text": "\nCORRECT: the cast has a high time , but de broca has little enthusiasm for such antique pulp .  #1=2 #-1=3"
      }, 
      {
       "output_type": "stream", 
       "stream": "stdout", 
       "text": "\nERROR: the film , like jimmy&apos;s routines , could use a few good laughs .  #1=3 #-1=2"
      }, 
      {
       "output_type": "stream", 
       "stream": "stdout", 
       "text": "\nERROR: the film has too many spots where it&apos;s on slippery footing , but is acceptable entertainment for the entire family and one that&apos;s especially fit for the kiddies .  #1=4 #-1=1"
      }, 
      {
       "output_type": "stream", 
       "stream": "stdout", 
       "text": "\nERROR: purports to be a hollywood satire but winds up as the kind of film that should be the target of something deeper and more engaging . oh , and more entertaining , too .  #1=4 #-1=1"
      }, 
      {
       "output_type": "stream", 
       "stream": "stdout", 
       "text": "\nCORRECT:  . . . in the pile of useless actioners from mtv schmucks who don&apos;t know how to tell a story for more than four minutes .  #1=1 #-1=4"
      }, 
      {
       "output_type": "stream", 
       "stream": "stdout", 
       "text": "\nERROR: though it was made with careful attention to detail and is well-acted by james spader and maggie gyllenhaal , i felt disrespected .  #1=5 #-1=0"
      }, 
      {
       "output_type": "stream", 
       "stream": "stdout", 
       "text": "\nERROR: well-made but mush-hearted .  #1=5 #-1=0\nCORRECT: humor in i spy is so anemic .  #1=1 #-1=4"
      }, 
      {
       "output_type": "stream", 
       "stream": "stdout", 
       "text": "\nCORRECT: the film is strictly routine .  #1=1 #-1=4"
      }, 
      {
       "output_type": "stream", 
       "stream": "stdout", 
       "text": "\nERROR: a real snooze .  #1=4 #-1=1\nCORRECT: skillful as he is , mr . shyamalan is undone by his pretensions .  #1=2 #-1=3"
      }, 
      {
       "output_type": "stream", 
       "stream": "stdout", 
       "text": "\nERROR: while the new film is much more eye-catching than its blood-drenched stephen norrington-directed predecessor , the new script by the returning david s . goyer is much sillier .  #1=3 #-1=2"
      }, 
      {
       "output_type": "stream", 
       "stream": "stdout", 
       "text": "\nCORRECT: in addition to sporting one of the worst titles in recent cinematic history , ballistic : ecks vs . sever also features terrible , banal dialogue ; convenient , hole-ridden plotting ; superficial characters and a rather dull , unimaginative car chase .  #1=0 #-1=5"
      }, 
      {
       "output_type": "stream", 
       "stream": "stdout", 
       "text": "\nCORRECT: it shares the first two films&apos; loose-jointed structure , but laugh-out-loud bits are few and far between .  #1=1 #-1=4"
      }, 
      {
       "output_type": "stream", 
       "stream": "stdout", 
       "text": "\nCORRECT: the santa clause 2 is a barely adequate babysitter for older kids , but i&apos;ve got to give it thumbs down .  #1=1 #-1=4"
      }, 
      {
       "output_type": "stream", 
       "stream": "stdout", 
       "text": "\nERROR: you cannot guess why the cast and crew didn&apos;t sign a pact to burn the negative and the script and pretend the whole thing never existed .  #1=3 #-1=2"
      }, 
      {
       "output_type": "stream", 
       "stream": "stdout", 
       "text": "\nERROR: barney throws away the goodwill the first half of his movie generates by orchestrating a finale that is impenetrable and dull .  #1=3 #-1=2"
      }, 
      {
       "output_type": "stream", 
       "stream": "stdout", 
       "text": "\nERROR: if you&apos;re really renting this you&apos;re not interested in discretion in your entertainment choices , you&apos;re interested in anne geddes , john grisham , and thomas kincaid .  #1=4 #-1=1"
      }, 
      {
       "output_type": "stream", 
       "stream": "stdout", 
       "text": "\nERROR: we get the comedy we settle for .  #1=5 #-1=0"
      }, 
      {
       "output_type": "stream", 
       "stream": "stdout", 
       "text": "\nCORRECT: the uneven movie does have its charms and its funny moments but not quite enough of them .  #1=2 #-1=3"
      }, 
      {
       "output_type": "stream", 
       "stream": "stdout", 
       "text": "\nCORRECT: two hours of sepia-tinted heavy metal images and surround sound effects of people moaning .  #1=2 #-1=3"
      }, 
      {
       "output_type": "stream", 
       "stream": "stdout", 
       "text": "\nERROR: a word of advice to the makers of the singles ward : celebrity cameos do not automatically equal laughs . and neither do cliches , no matter how &apos;inside&apos; they are .  #1=3 #-1=2"
      }, 
      {
       "output_type": "stream", 
       "stream": "stdout", 
       "text": "\nCORRECT: the campy results make mel brooks&apos; borscht belt schtick look sophisticated .  #1=1 #-1=4"
      }, 
      {
       "output_type": "stream", 
       "stream": "stdout", 
       "text": "\nERROR: its appeal will probably limited to lds church members and undemanding armchair tourists .  #1=4 #-1=1"
      }, 
      {
       "output_type": "stream", 
       "stream": "stdout", 
       "text": "\nERROR: the hanukkah spirit seems fried in pork .  #1=3 #-1=2"
      }, 
      {
       "output_type": "stream", 
       "stream": "stdout", 
       "text": "\nCORRECT: cherish would&apos;ve worked a lot better had it been a short film .  #1=2 #-1=3"
      }, 
      {
       "output_type": "stream", 
       "stream": "stdout", 
       "text": "\nCORRECT: manipulative claptrap , a period-piece movie-of-the-week , plain old blarney . . . take your pick . all three descriptions suit evelyn , a besotted and obvious drama that tells us nothing new .  #1=0 #-1=5"
      }, 
      {
       "output_type": "stream", 
       "stream": "stdout", 
       "text": "\nCORRECT: hey arnold ! is now stretched to barely feature length , with a little more attention paid to the animation . still , the updated dickensian sensibility of writer craig bartlett&apos;s story is appealing .  #1=1 #-1=4"
      }, 
      {
       "output_type": "stream", 
       "stream": "stdout", 
       "text": "\nCORRECT: true to its title , it traps audiences in a series of relentlessly nasty situations that we would pay a considerable ransom not to be looking at .  #1=2 #-1=3"
      }, 
      {
       "output_type": "stream", 
       "stream": "stdout", 
       "text": "\nERROR: doesn&apos;t come close to justifying the hype that surrounded its debut at the sundance film festival two years ago .  #1=3 #-1=2"
      }, 
      {
       "output_type": "stream", 
       "stream": "stdout", 
       "text": "\nCORRECT: the plot is paper-thin and the characters aren&apos;t interesting enough to watch them go about their daily activities for two whole hours .  #1=2 #-1=3"
      }, 
      {
       "output_type": "stream", 
       "stream": "stdout", 
       "text": "\nCORRECT: kaufman&apos;s script is never especially clever and often is rather pretentious .  #1=2 #-1=3"
      }, 
      {
       "output_type": "stream", 
       "stream": "stdout", 
       "text": "\nERROR: the film didn&apos;t move me one way or the other , but it was an honest effort and if you want to see a flick about telemarketers this one will due .  #1=3 #-1=2"
      }, 
      {
       "output_type": "stream", 
       "stream": "stdout", 
       "text": "\nCORRECT: queen of the damned is too long with too little going on .  #1=1 #-1=4"
      }, 
      {
       "output_type": "stream", 
       "stream": "stdout", 
       "text": "\nCORRECT: it collapses when mr . taylor tries to shift the tone to a thriller&apos;s rush .  #1=1 #-1=4"
      }, 
      {
       "output_type": "stream", 
       "stream": "stdout", 
       "text": "\nCORRECT: any film that doesn&apos;t even in passing mention political prisoners , poverty and the boat loads of people who try to escape the country is less a documentary and more propaganda by way of a valentine sealed with a kiss .  #1=0 #-1=5"
      }, 
      {
       "output_type": "stream", 
       "stream": "stdout", 
       "text": "\nCORRECT:  . . . blade ii is still top-heavy with blazing guns , cheatfully filmed martial arts , disintegrating bloodsucker computer effects and jagged camera moves that serve no other purpose than to call attention to themselves .  #1=1 #-1=4"
      }, 
      {
       "output_type": "stream", 
       "stream": "stdout", 
       "text": "\nCORRECT: the rules of attraction gets us too drunk on the party favors to sober us up with the transparent attempts at moralizing .  #1=1 #-1=4"
      }, 
      {
       "output_type": "stream", 
       "stream": "stdout", 
       "text": "\nCORRECT: though there are many tense scenes in trapped , they prove more distressing than suspenseful .  #1=2 #-1=3"
      }, 
      {
       "output_type": "stream", 
       "stream": "stdout", 
       "text": "\nCORRECT: in this film we at least see a study in contrasts ; the wide range of one actor , and the limited range of a comedian .  #1=2 #-1=3"
      }, 
      {
       "output_type": "stream", 
       "stream": "stdout", 
       "text": "\nCORRECT: feels strangely hollow at its emotional core .  #1=2 #-1=3"
      }, 
      {
       "output_type": "stream", 
       "stream": "stdout", 
       "text": "\nERROR: no surprises .  #1=5 #-1=0\nERROR: you have once again entered the bizarre realm where director adrian lyne holds sway , where all relationships are simultaneously broadly metaphorical , oddly abstract , and excruciatingly literal .  #1=3 #-1=2"
      }, 
      {
       "output_type": "stream", 
       "stream": "stdout", 
       "text": "\nERROR: the high-concept scenario soon proves preposterous , the acting is robotically italicized , and truth-in-advertising hounds take note : there&apos;s very little hustling on view .  #1=3 #-1=2"
      }, 
      {
       "output_type": "stream", 
       "stream": "stdout", 
       "text": "\nCORRECT: this director&apos;s cut -- which adds 51 minutes -- takes a great film and turns it into a mundane soap opera .  #1=1 #-1=4"
      }, 
      {
       "output_type": "stream", 
       "stream": "stdout", 
       "text": "\nCORRECT: characterisation has been sacrificed for the sake of spectacle .  #1=2 #-1=3"
      }, 
      {
       "output_type": "stream", 
       "stream": "stdout", 
       "text": "\nCORRECT: the venezuelans say things like &quot; si , pretty much &quot; and &quot; por favor , go home &quot; when talking to americans . that&apos;s muy loco , but no more ridiculous than most of the rest of &quot; dragonfly . &quot;  #1=2 #-1=3"
      }, 
      {
       "output_type": "stream", 
       "stream": "stdout", 
       "text": "\nCORRECT: it&apos;s a movie that ends with truckzilla , for cryin&apos; out loud . if that doesn&apos;t clue you in that something&apos;s horribly wrong , nothing will .  #1=0 #-1=5"
      }, 
      {
       "output_type": "stream", 
       "stream": "stdout", 
       "text": "\nCORRECT: director tom shadyac and star kevin costner glumly mishandle the story&apos;s promising premise of a physician who needs to heal himself .  #1=0 #-1=5"
      }, 
      {
       "output_type": "stream", 
       "stream": "stdout", 
       "text": "\nCORRECT: it&apos;s difficult to imagine that a more confused , less interesting and more sloppily made film could possibly come down the road in 2002 .  #1=2 #-1=3"
      }, 
      {
       "output_type": "stream", 
       "stream": "stdout", 
       "text": "\nCORRECT: like the tuck family themselves , this movie just goes on and on and on and on #1=0 #-1=5"
      }, 
      {
       "output_type": "stream", 
       "stream": "stdout", 
       "text": "\nCORRECT: as pedestrian as they come .  #1=2 #-1=3"
      }, 
      {
       "output_type": "stream", 
       "stream": "stdout", 
       "text": "\nERROR: a film that plays things so nice &apos;n safe as to often play like a milquetoast movie of the week blown up for the big screen .  #1=3 #-1=2"
      }, 
      {
       "output_type": "stream", 
       "stream": "stdout", 
       "text": "\nCORRECT: it&apos;s a feel-bad ending for a depressing story that throws a bunch of hot-button items in the viewer&apos;s face and asks to be seen as hip , winking social commentary .  #1=0 #-1=5"
      }, 
      {
       "output_type": "stream", 
       "stream": "stdout", 
       "text": "\nCORRECT: put it somewhere between sling blade and south of heaven , west of hell in the pantheon of billy bob&apos;s body of work .  #1=1 #-1=4"
      }, 
      {
       "output_type": "stream", 
       "stream": "stdout", 
       "text": "\nCORRECT: more intellectually scary than dramatically involving .  #1=0 #-1=5"
      }, 
      {
       "output_type": "stream", 
       "stream": "stdout", 
       "text": "\nERROR: an inconsequential , barely there bit of piffle .  #1=4 #-1=1"
      }, 
      {
       "output_type": "stream", 
       "stream": "stdout", 
       "text": "\nCORRECT: the abiding impression , despite the mild hallucinogenic buzz , is of overwhelming waste -- the acres of haute couture can&apos;t quite conceal that there&apos;s nothing resembling a spine here .  #1=0 #-1=5"
      }, 
      {
       "output_type": "stream", 
       "stream": "stdout", 
       "text": "\nCORRECT: as saccharine as it is disposable .  #1=0 #-1=5\nCORRECT: you come away thinking not only that kate isn&apos;t very bright , but that she hasn&apos;t been worth caring about and that maybe she , janine and molly -- an all-woman dysfunctional family -- deserve one another .  #1=1 #-1=4"
      }, 
      {
       "output_type": "stream", 
       "stream": "stdout", 
       "text": "\nCORRECT: the metaphors are provocative , but too often , the viewer is left puzzled by the mechanics of the delivery .  #1=0 #-1=5"
      }, 
      {
       "output_type": "stream", 
       "stream": "stdout", 
       "text": "\nCORRECT: very much a home video , and so devoid of artifice and purpose that it appears not to have been edited at all .  #1=1 #-1=4"
      }, 
      {
       "output_type": "stream", 
       "stream": "stdout", 
       "text": "\nCORRECT: too much power , not enough puff .  #1=2 #-1=3"
      }, 
      {
       "output_type": "stream", 
       "stream": "stdout", 
       "text": "\nCORRECT: the attempt to build up a pressure cooker of horrified awe emerges from the simple fact that the movie has virtually nothing to show .  #1=1 #-1=4"
      }, 
      {
       "output_type": "stream", 
       "stream": "stdout", 
       "text": "\nERROR: it&apos;s provocative stuff , but the speculative effort is hampered by taylor&apos;s cartoonish performance and the film&apos;s ill-considered notion that hitler&apos;s destiny was shaped by the most random of chances .  #1=4 #-1=1"
      }, 
      {
       "output_type": "stream", 
       "stream": "stdout", 
       "text": "\nCORRECT: a cellophane-pop remake of the punk classic ladies and gentlemen , the fabulous stains . . . crossroads is never much worse than bland or better than inconsequential .  #1=1 #-1=4"
      }, 
      {
       "output_type": "stream", 
       "stream": "stdout", 
       "text": "\nCORRECT: muddled , trashy and incompetent #1=2 #-1=3"
      }, 
      {
       "output_type": "stream", 
       "stream": "stdout", 
       "text": "\nERROR: for this sort of thing to work , we need agile performers , but the proficient , dull sorvino has no light touch , and rodan is out of his league .  #1=4 #-1=1"
      }, 
      {
       "output_type": "stream", 
       "stream": "stdout", 
       "text": "\nERROR: narc is all menace and atmosphere .  #1=5 #-1=0"
      }, 
      {
       "output_type": "stream", 
       "stream": "stdout", 
       "text": "\nCORRECT: though excessively tiresome , the uncertainty principle , as verbally pretentious as the title may be , has its handful of redeeming features , as long as you discount its ability to bore .  #1=2 #-1=3"
      }, 
      {
       "output_type": "stream", 
       "stream": "stdout", 
       "text": "\nCORRECT: despite juliet stevenon&apos;s attempt to bring cohesion to pamela&apos;s emotional roller coaster life , it is not enough to give the film the substance it so desperately needs .  #1=1 #-1=4"
      }, 
      {
       "output_type": "stream", 
       "stream": "stdout", 
       "text": "\nCORRECT: it&apos;s tough to be startled when you&apos;re almost dozing .  #1=1 #-1=4"
      }, 
      {
       "output_type": "stream", 
       "stream": "stdout", 
       "text": "\nERROR: his [nelson&apos;s] screenplay needs some serious re-working to show more of the dilemma , rather than have his characters stage shouting matches about it .  #1=3 #-1=2"
      }, 
      {
       "output_type": "stream", 
       "stream": "stdout", 
       "text": "\nERROR: it&apos;s so downbeat and nearly humorless that it becomes a chore to sit through -- despite some first-rate performances by its lead .  #1=3 #-1=2"
      }, 
      {
       "output_type": "stream", 
       "stream": "stdout", 
       "text": "\nCORRECT: a terrible movie that some people will nevertheless find moving .  #1=2 #-1=3"
      }, 
      {
       "output_type": "stream", 
       "stream": "stdout", 
       "text": "\nCORRECT: there are many definitions of &apos;time waster&apos; but this movie must surely be one of them .  #1=2 #-1=3"
      }, 
      {
       "output_type": "stream", 
       "stream": "stdout", 
       "text": "\nCORRECT: as it stands , crocodile hunter has the hurried , badly cobbled look of the 1959 godzilla , which combined scenes of a japanese monster flick with canned shots of raymond burr commenting on the monster&apos;s path of destruction .  #1=1 #-1=4"
      }, 
      {
       "output_type": "stream", 
       "stream": "stdout", 
       "text": "\nERROR: the thing looks like a made-for-home-video quickie .  #1=3 #-1=2"
      }, 
      {
       "output_type": "stream", 
       "stream": "stdout", 
       "text": "\nERROR: enigma is well-made , but it&apos;s just too dry and too placid .  #1=3 #-1=2"
      }, 
      {
       "output_type": "stream", 
       "stream": "stdout", 
       "text": "\nerror rate is 0.320151"
      }
     ], 
     "prompt_number": 25
    }, 
    {
     "cell_type": "code", 
     "collapsed": true, 
     "input": "", 
     "language": "python", 
     "outputs": [], 
     "prompt_number": "&nbsp;"
    }
   ]
  }
 ]
}